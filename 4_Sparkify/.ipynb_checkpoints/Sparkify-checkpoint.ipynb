{
 "cells": [
  {
   "cell_type": "markdown",
   "metadata": {},
   "source": [
    "# Sparkify Project Workspace\n",
    "This workspace contains a tiny subset (128MB) of the full dataset available (12GB). Feel free to use this workspace to build your project, or to explore a smaller subset with Spark before deploying your cluster on the cloud. Instructions for setting up your Spark cluster is included in the last lesson of the Extracurricular Spark Course content.\n",
    "\n",
    "You can follow the steps below to guide your data analysis and model building portion of this project."
   ]
  },
  {
   "cell_type": "code",
   "execution_count": 1,
   "metadata": {},
   "outputs": [],
   "source": [
    "# import libraries\n",
    "import pandas as pd\n",
    "import numpy as np\n",
    "import seaborn as sns\n",
    "from pyspark.sql import SparkSession, Window\n",
    "from pyspark.sql.functions import avg, col, concat, count, desc, \\\n",
    "asc, explode, lit, min, max, split, stddev, udf, isnan, when, rank, log, sqrt, cbrt, exp\n",
    "from pyspark import SparkFiles\n",
    "from pyspark.sql.functions import sum as Fsum\n",
    "from pyspark.ml import Pipeline \n",
    "from pyspark.sql.types import IntegerType\n",
    "from pyspark.ml.evaluation import MulticlassClassificationEvaluator\n",
    "from pyspark.mllib.evaluation import MulticlassMetrics\n",
    "from pyspark.ml.feature import CountVectorizer, IDF, Normalizer, \\\n",
    "PCA, RegexTokenizer, Tokenizer, StandardScaler, StopWordsRemover, \\\n",
    "StringIndexer, VectorAssembler, MaxAbsScaler\n",
    "from pyspark.ml.classification import LogisticRegression, LogisticRegressionModel, RandomForestClassifier, \\\n",
    "RandomForestClassificationModel, GBTClassifier, MultilayerPerceptronClassifier, GBTClassificationModel\n",
    "from pyspark.ml.regression import LinearRegression\n",
    "from pyspark.ml.clustering import KMeans\n",
    "from pyspark.ml.tuning import CrossValidator, ParamGridBuilder"
   ]
  },
  {
   "cell_type": "code",
   "execution_count": 2,
   "metadata": {},
   "outputs": [],
   "source": [
    "spark = SparkSession.builder.master('local').appName(\"Sparkify\").getOrCreate()"
   ]
  },
  {
   "cell_type": "code",
   "execution_count": 3,
   "metadata": {},
   "outputs": [],
   "source": [
    "# load data\n",
    "df = spark.read.json('mini_sparkify_event_data.json')"
   ]
  },
  {
   "cell_type": "markdown",
   "metadata": {},
   "source": [
    "# Load and Clean Dataset\n",
    "In this workspace, the mini-dataset file is `mini_sparkify_event_data.json`. Load and clean the dataset, checking for invalid or missing data - for example, records without userids or sessionids. "
   ]
  },
  {
   "cell_type": "code",
   "execution_count": 4,
   "metadata": {},
   "outputs": [
    {
     "data": {
      "text/plain": [
       "286500"
      ]
     },
     "execution_count": 4,
     "metadata": {},
     "output_type": "execute_result"
    }
   ],
   "source": [
    "# get the total log entries\n",
    "df.count()"
   ]
  },
  {
   "cell_type": "code",
   "execution_count": 5,
   "metadata": {},
   "outputs": [
    {
     "data": {
      "text/plain": [
       "286500"
      ]
     },
     "execution_count": 5,
     "metadata": {},
     "output_type": "execute_result"
    }
   ],
   "source": [
    "# get rid of nan\n",
    "df = df.dropna(how=\"any\", subset=[\"userId\", \"sessionId\"])\n",
    "df.count()"
   ]
  },
  {
   "cell_type": "code",
   "execution_count": 6,
   "metadata": {},
   "outputs": [
    {
     "data": {
      "text/plain": [
       "278154"
      ]
     },
     "execution_count": 6,
     "metadata": {},
     "output_type": "execute_result"
    }
   ],
   "source": [
    "# get rid of the empty user ID\n",
    "df = df.filter(df.userId!=\"\")\n",
    "df.count()"
   ]
  },
  {
   "cell_type": "code",
   "execution_count": 7,
   "metadata": {},
   "outputs": [
    {
     "data": {
      "text/plain": [
       "artist           50046\n",
       "auth                 0\n",
       "firstName            0\n",
       "gender               0\n",
       "itemInSession        0\n",
       "lastName             0\n",
       "length           50046\n",
       "level                0\n",
       "location             0\n",
       "method               0\n",
       "page                 0\n",
       "registration         0\n",
       "sessionId            0\n",
       "song             50046\n",
       "status               0\n",
       "ts                   0\n",
       "userAgent            0\n",
       "userId               0\n",
       "dtype: int64"
      ]
     },
     "execution_count": 7,
     "metadata": {},
     "output_type": "execute_result"
    }
   ],
   "source": [
    "df.toPandas().isnull().sum()"
   ]
  },
  {
   "cell_type": "markdown",
   "metadata": {},
   "source": [
    "# Exploratory Data Analysis\n",
    "When you're working with the full dataset, perform EDA by loading a small subset of the data and doing basic manipulations within Spark. In this workspace, you are already provided a small subset of data you can explore.\n",
    "\n",
    "### Define Churn\n",
    "\n",
    "Once you've done some preliminary analysis, create a column `Churn` to use as the label for your model. I suggest using the `Cancellation Confirmation` events to define your churn, which happen for both paid and free users. As a bonus task, you can also look into the `Downgrade` events.\n",
    "\n",
    "### Explore Data\n",
    "Once you've defined churn, perform some exploratory data analysis to observe the behavior for users who stayed vs users who churned. You can start by exploring aggregates on these two groups of users, observing how much of a specific action they experienced per a certain time unit or number of songs played."
   ]
  },
  {
   "cell_type": "markdown",
   "metadata": {},
   "source": [
    "# Feature Engineering\n",
    "Once you've familiarized yourself with the data, build out the features you find promising to train your model on. To work with the full dataset, you can follow the following steps.\n",
    "- Write a script to extract the necessary features from the smaller subset of data\n",
    "- Ensure that your script is scalable, using the best practices discussed in Lesson 3\n",
    "- Try your script on the full data set, debugging your script if necessary\n",
    "\n",
    "If you are working in the classroom workspace, you can just extract features based on the small subset of data contained here. Be sure to transfer over this work to the larger dataset when you work on your Spark cluster."
   ]
  },
  {
   "cell_type": "markdown",
   "metadata": {},
   "source": [
    "### See data"
   ]
  },
  {
   "cell_type": "code",
   "execution_count": 8,
   "metadata": {},
   "outputs": [
    {
     "data": {
      "text/html": [
       "<div>\n",
       "<style scoped>\n",
       "    .dataframe tbody tr th:only-of-type {\n",
       "        vertical-align: middle;\n",
       "    }\n",
       "\n",
       "    .dataframe tbody tr th {\n",
       "        vertical-align: top;\n",
       "    }\n",
       "\n",
       "    .dataframe thead th {\n",
       "        text-align: right;\n",
       "    }\n",
       "</style>\n",
       "<table border=\"1\" class=\"dataframe\">\n",
       "  <thead>\n",
       "    <tr style=\"text-align: right;\">\n",
       "      <th></th>\n",
       "      <th>0</th>\n",
       "      <th>1</th>\n",
       "      <th>2</th>\n",
       "      <th>3</th>\n",
       "      <th>4</th>\n",
       "      <th>5</th>\n",
       "      <th>6</th>\n",
       "      <th>7</th>\n",
       "      <th>8</th>\n",
       "      <th>9</th>\n",
       "      <th>...</th>\n",
       "      <th>278144</th>\n",
       "      <th>278145</th>\n",
       "      <th>278146</th>\n",
       "      <th>278147</th>\n",
       "      <th>278148</th>\n",
       "      <th>278149</th>\n",
       "      <th>278150</th>\n",
       "      <th>278151</th>\n",
       "      <th>278152</th>\n",
       "      <th>278153</th>\n",
       "    </tr>\n",
       "  </thead>\n",
       "  <tbody>\n",
       "    <tr>\n",
       "      <th>artist</th>\n",
       "      <td>Martha Tilston</td>\n",
       "      <td>Five Iron Frenzy</td>\n",
       "      <td>Adam Lambert</td>\n",
       "      <td>Enigma</td>\n",
       "      <td>Daft Punk</td>\n",
       "      <td>The All-American Rejects</td>\n",
       "      <td>The Velvet Underground / Nico</td>\n",
       "      <td>Starflyer 59</td>\n",
       "      <td>None</td>\n",
       "      <td>Frumpies</td>\n",
       "      <td>...</td>\n",
       "      <td>The Rolling Stones</td>\n",
       "      <td>Alejandro Sanz</td>\n",
       "      <td>Valley of the Giants</td>\n",
       "      <td>None</td>\n",
       "      <td>Olive</td>\n",
       "      <td>Iron Maiden</td>\n",
       "      <td>None</td>\n",
       "      <td>None</td>\n",
       "      <td>None</td>\n",
       "      <td>Camera Obscura</td>\n",
       "    </tr>\n",
       "    <tr>\n",
       "      <th>auth</th>\n",
       "      <td>Logged In</td>\n",
       "      <td>Logged In</td>\n",
       "      <td>Logged In</td>\n",
       "      <td>Logged In</td>\n",
       "      <td>Logged In</td>\n",
       "      <td>Logged In</td>\n",
       "      <td>Logged In</td>\n",
       "      <td>Logged In</td>\n",
       "      <td>Logged In</td>\n",
       "      <td>Logged In</td>\n",
       "      <td>...</td>\n",
       "      <td>Logged In</td>\n",
       "      <td>Logged In</td>\n",
       "      <td>Logged In</td>\n",
       "      <td>Logged In</td>\n",
       "      <td>Logged In</td>\n",
       "      <td>Logged In</td>\n",
       "      <td>Logged In</td>\n",
       "      <td>Logged In</td>\n",
       "      <td>Logged In</td>\n",
       "      <td>Logged In</td>\n",
       "    </tr>\n",
       "    <tr>\n",
       "      <th>firstName</th>\n",
       "      <td>Colin</td>\n",
       "      <td>Micah</td>\n",
       "      <td>Colin</td>\n",
       "      <td>Micah</td>\n",
       "      <td>Colin</td>\n",
       "      <td>Micah</td>\n",
       "      <td>Micah</td>\n",
       "      <td>Colin</td>\n",
       "      <td>Colin</td>\n",
       "      <td>Colin</td>\n",
       "      <td>...</td>\n",
       "      <td>Emilia</td>\n",
       "      <td>Emilia</td>\n",
       "      <td>Emilia</td>\n",
       "      <td>Emilia</td>\n",
       "      <td>Emilia</td>\n",
       "      <td>Emilia</td>\n",
       "      <td>Emilia</td>\n",
       "      <td>Emilia</td>\n",
       "      <td>Emilia</td>\n",
       "      <td>Emilia</td>\n",
       "    </tr>\n",
       "    <tr>\n",
       "      <th>gender</th>\n",
       "      <td>M</td>\n",
       "      <td>M</td>\n",
       "      <td>M</td>\n",
       "      <td>M</td>\n",
       "      <td>M</td>\n",
       "      <td>M</td>\n",
       "      <td>M</td>\n",
       "      <td>M</td>\n",
       "      <td>M</td>\n",
       "      <td>M</td>\n",
       "      <td>...</td>\n",
       "      <td>F</td>\n",
       "      <td>F</td>\n",
       "      <td>F</td>\n",
       "      <td>F</td>\n",
       "      <td>F</td>\n",
       "      <td>F</td>\n",
       "      <td>F</td>\n",
       "      <td>F</td>\n",
       "      <td>F</td>\n",
       "      <td>F</td>\n",
       "    </tr>\n",
       "    <tr>\n",
       "      <th>itemInSession</th>\n",
       "      <td>50</td>\n",
       "      <td>79</td>\n",
       "      <td>51</td>\n",
       "      <td>80</td>\n",
       "      <td>52</td>\n",
       "      <td>81</td>\n",
       "      <td>82</td>\n",
       "      <td>53</td>\n",
       "      <td>54</td>\n",
       "      <td>55</td>\n",
       "      <td>...</td>\n",
       "      <td>33</td>\n",
       "      <td>34</td>\n",
       "      <td>35</td>\n",
       "      <td>36</td>\n",
       "      <td>37</td>\n",
       "      <td>38</td>\n",
       "      <td>39</td>\n",
       "      <td>43</td>\n",
       "      <td>44</td>\n",
       "      <td>45</td>\n",
       "    </tr>\n",
       "    <tr>\n",
       "      <th>lastName</th>\n",
       "      <td>Freeman</td>\n",
       "      <td>Long</td>\n",
       "      <td>Freeman</td>\n",
       "      <td>Long</td>\n",
       "      <td>Freeman</td>\n",
       "      <td>Long</td>\n",
       "      <td>Long</td>\n",
       "      <td>Freeman</td>\n",
       "      <td>Freeman</td>\n",
       "      <td>Freeman</td>\n",
       "      <td>...</td>\n",
       "      <td>House</td>\n",
       "      <td>House</td>\n",
       "      <td>House</td>\n",
       "      <td>House</td>\n",
       "      <td>House</td>\n",
       "      <td>House</td>\n",
       "      <td>House</td>\n",
       "      <td>House</td>\n",
       "      <td>House</td>\n",
       "      <td>House</td>\n",
       "    </tr>\n",
       "    <tr>\n",
       "      <th>length</th>\n",
       "      <td>277.89</td>\n",
       "      <td>236.094</td>\n",
       "      <td>282.827</td>\n",
       "      <td>262.713</td>\n",
       "      <td>223.608</td>\n",
       "      <td>208.3</td>\n",
       "      <td>260.466</td>\n",
       "      <td>185.443</td>\n",
       "      <td>NaN</td>\n",
       "      <td>134.478</td>\n",
       "      <td>...</td>\n",
       "      <td>225.306</td>\n",
       "      <td>241.528</td>\n",
       "      <td>420.466</td>\n",
       "      <td>NaN</td>\n",
       "      <td>264.124</td>\n",
       "      <td>258.664</td>\n",
       "      <td>NaN</td>\n",
       "      <td>NaN</td>\n",
       "      <td>NaN</td>\n",
       "      <td>170.893</td>\n",
       "    </tr>\n",
       "    <tr>\n",
       "      <th>level</th>\n",
       "      <td>paid</td>\n",
       "      <td>free</td>\n",
       "      <td>paid</td>\n",
       "      <td>free</td>\n",
       "      <td>paid</td>\n",
       "      <td>free</td>\n",
       "      <td>free</td>\n",
       "      <td>paid</td>\n",
       "      <td>paid</td>\n",
       "      <td>paid</td>\n",
       "      <td>...</td>\n",
       "      <td>paid</td>\n",
       "      <td>paid</td>\n",
       "      <td>paid</td>\n",
       "      <td>paid</td>\n",
       "      <td>paid</td>\n",
       "      <td>paid</td>\n",
       "      <td>paid</td>\n",
       "      <td>paid</td>\n",
       "      <td>paid</td>\n",
       "      <td>paid</td>\n",
       "    </tr>\n",
       "    <tr>\n",
       "      <th>location</th>\n",
       "      <td>Bakersfield, CA</td>\n",
       "      <td>Boston-Cambridge-Newton, MA-NH</td>\n",
       "      <td>Bakersfield, CA</td>\n",
       "      <td>Boston-Cambridge-Newton, MA-NH</td>\n",
       "      <td>Bakersfield, CA</td>\n",
       "      <td>Boston-Cambridge-Newton, MA-NH</td>\n",
       "      <td>Boston-Cambridge-Newton, MA-NH</td>\n",
       "      <td>Bakersfield, CA</td>\n",
       "      <td>Bakersfield, CA</td>\n",
       "      <td>Bakersfield, CA</td>\n",
       "      <td>...</td>\n",
       "      <td>New York-Newark-Jersey City, NY-NJ-PA</td>\n",
       "      <td>New York-Newark-Jersey City, NY-NJ-PA</td>\n",
       "      <td>New York-Newark-Jersey City, NY-NJ-PA</td>\n",
       "      <td>New York-Newark-Jersey City, NY-NJ-PA</td>\n",
       "      <td>New York-Newark-Jersey City, NY-NJ-PA</td>\n",
       "      <td>New York-Newark-Jersey City, NY-NJ-PA</td>\n",
       "      <td>New York-Newark-Jersey City, NY-NJ-PA</td>\n",
       "      <td>New York-Newark-Jersey City, NY-NJ-PA</td>\n",
       "      <td>New York-Newark-Jersey City, NY-NJ-PA</td>\n",
       "      <td>New York-Newark-Jersey City, NY-NJ-PA</td>\n",
       "    </tr>\n",
       "    <tr>\n",
       "      <th>method</th>\n",
       "      <td>PUT</td>\n",
       "      <td>PUT</td>\n",
       "      <td>PUT</td>\n",
       "      <td>PUT</td>\n",
       "      <td>PUT</td>\n",
       "      <td>PUT</td>\n",
       "      <td>PUT</td>\n",
       "      <td>PUT</td>\n",
       "      <td>PUT</td>\n",
       "      <td>PUT</td>\n",
       "      <td>...</td>\n",
       "      <td>PUT</td>\n",
       "      <td>PUT</td>\n",
       "      <td>PUT</td>\n",
       "      <td>GET</td>\n",
       "      <td>PUT</td>\n",
       "      <td>PUT</td>\n",
       "      <td>PUT</td>\n",
       "      <td>GET</td>\n",
       "      <td>GET</td>\n",
       "      <td>PUT</td>\n",
       "    </tr>\n",
       "    <tr>\n",
       "      <th>page</th>\n",
       "      <td>NextSong</td>\n",
       "      <td>NextSong</td>\n",
       "      <td>NextSong</td>\n",
       "      <td>NextSong</td>\n",
       "      <td>NextSong</td>\n",
       "      <td>NextSong</td>\n",
       "      <td>NextSong</td>\n",
       "      <td>NextSong</td>\n",
       "      <td>Add to Playlist</td>\n",
       "      <td>NextSong</td>\n",
       "      <td>...</td>\n",
       "      <td>NextSong</td>\n",
       "      <td>NextSong</td>\n",
       "      <td>NextSong</td>\n",
       "      <td>Home</td>\n",
       "      <td>NextSong</td>\n",
       "      <td>NextSong</td>\n",
       "      <td>Logout</td>\n",
       "      <td>Home</td>\n",
       "      <td>About</td>\n",
       "      <td>NextSong</td>\n",
       "    </tr>\n",
       "    <tr>\n",
       "      <th>registration</th>\n",
       "      <td>1538173362000</td>\n",
       "      <td>1538331630000</td>\n",
       "      <td>1538173362000</td>\n",
       "      <td>1538331630000</td>\n",
       "      <td>1538173362000</td>\n",
       "      <td>1538331630000</td>\n",
       "      <td>1538331630000</td>\n",
       "      <td>1538173362000</td>\n",
       "      <td>1538173362000</td>\n",
       "      <td>1538173362000</td>\n",
       "      <td>...</td>\n",
       "      <td>1538336771000</td>\n",
       "      <td>1538336771000</td>\n",
       "      <td>1538336771000</td>\n",
       "      <td>1538336771000</td>\n",
       "      <td>1538336771000</td>\n",
       "      <td>1538336771000</td>\n",
       "      <td>1538336771000</td>\n",
       "      <td>1538336771000</td>\n",
       "      <td>1538336771000</td>\n",
       "      <td>1538336771000</td>\n",
       "    </tr>\n",
       "    <tr>\n",
       "      <th>sessionId</th>\n",
       "      <td>29</td>\n",
       "      <td>8</td>\n",
       "      <td>29</td>\n",
       "      <td>8</td>\n",
       "      <td>29</td>\n",
       "      <td>8</td>\n",
       "      <td>8</td>\n",
       "      <td>29</td>\n",
       "      <td>29</td>\n",
       "      <td>29</td>\n",
       "      <td>...</td>\n",
       "      <td>500</td>\n",
       "      <td>500</td>\n",
       "      <td>500</td>\n",
       "      <td>500</td>\n",
       "      <td>500</td>\n",
       "      <td>500</td>\n",
       "      <td>500</td>\n",
       "      <td>500</td>\n",
       "      <td>500</td>\n",
       "      <td>500</td>\n",
       "    </tr>\n",
       "    <tr>\n",
       "      <th>song</th>\n",
       "      <td>Rockpools</td>\n",
       "      <td>Canada</td>\n",
       "      <td>Time For Miracles</td>\n",
       "      <td>Knocking On Forbidden Doors</td>\n",
       "      <td>Harder Better Faster Stronger</td>\n",
       "      <td>Don't Leave Me</td>\n",
       "      <td>Run Run Run</td>\n",
       "      <td>Passengers (Old Album Version)</td>\n",
       "      <td>None</td>\n",
       "      <td>Fuck Kitty</td>\n",
       "      <td>...</td>\n",
       "      <td>Tops</td>\n",
       "      <td>Tu no tienes alma</td>\n",
       "      <td>Bala Bay Inn</td>\n",
       "      <td>None</td>\n",
       "      <td>You're Not Alone</td>\n",
       "      <td>Murders In The Rue Morgue (1998 Digital Remaster)</td>\n",
       "      <td>None</td>\n",
       "      <td>None</td>\n",
       "      <td>None</td>\n",
       "      <td>The Sun On His Back</td>\n",
       "    </tr>\n",
       "    <tr>\n",
       "      <th>status</th>\n",
       "      <td>200</td>\n",
       "      <td>200</td>\n",
       "      <td>200</td>\n",
       "      <td>200</td>\n",
       "      <td>200</td>\n",
       "      <td>200</td>\n",
       "      <td>200</td>\n",
       "      <td>200</td>\n",
       "      <td>200</td>\n",
       "      <td>200</td>\n",
       "      <td>...</td>\n",
       "      <td>200</td>\n",
       "      <td>200</td>\n",
       "      <td>200</td>\n",
       "      <td>200</td>\n",
       "      <td>200</td>\n",
       "      <td>200</td>\n",
       "      <td>307</td>\n",
       "      <td>200</td>\n",
       "      <td>200</td>\n",
       "      <td>200</td>\n",
       "    </tr>\n",
       "    <tr>\n",
       "      <th>ts</th>\n",
       "      <td>1538352117000</td>\n",
       "      <td>1538352180000</td>\n",
       "      <td>1538352394000</td>\n",
       "      <td>1538352416000</td>\n",
       "      <td>1538352676000</td>\n",
       "      <td>1538352678000</td>\n",
       "      <td>1538352886000</td>\n",
       "      <td>1538352899000</td>\n",
       "      <td>1538352905000</td>\n",
       "      <td>1538353084000</td>\n",
       "      <td>...</td>\n",
       "      <td>1543620971000</td>\n",
       "      <td>1543621196000</td>\n",
       "      <td>1543621437000</td>\n",
       "      <td>1543621485000</td>\n",
       "      <td>1543621857000</td>\n",
       "      <td>1543622121000</td>\n",
       "      <td>1543622122000</td>\n",
       "      <td>1543622248000</td>\n",
       "      <td>1543622398000</td>\n",
       "      <td>1543622411000</td>\n",
       "    </tr>\n",
       "    <tr>\n",
       "      <th>userAgent</th>\n",
       "      <td>Mozilla/5.0 (Windows NT 6.1; WOW64; rv:31.0) G...</td>\n",
       "      <td>\"Mozilla/5.0 (Windows NT 6.1; WOW64) AppleWebK...</td>\n",
       "      <td>Mozilla/5.0 (Windows NT 6.1; WOW64; rv:31.0) G...</td>\n",
       "      <td>\"Mozilla/5.0 (Windows NT 6.1; WOW64) AppleWebK...</td>\n",
       "      <td>Mozilla/5.0 (Windows NT 6.1; WOW64; rv:31.0) G...</td>\n",
       "      <td>\"Mozilla/5.0 (Windows NT 6.1; WOW64) AppleWebK...</td>\n",
       "      <td>\"Mozilla/5.0 (Windows NT 6.1; WOW64) AppleWebK...</td>\n",
       "      <td>Mozilla/5.0 (Windows NT 6.1; WOW64; rv:31.0) G...</td>\n",
       "      <td>Mozilla/5.0 (Windows NT 6.1; WOW64; rv:31.0) G...</td>\n",
       "      <td>Mozilla/5.0 (Windows NT 6.1; WOW64; rv:31.0) G...</td>\n",
       "      <td>...</td>\n",
       "      <td>Mozilla/5.0 (compatible; MSIE 9.0; Windows NT ...</td>\n",
       "      <td>Mozilla/5.0 (compatible; MSIE 9.0; Windows NT ...</td>\n",
       "      <td>Mozilla/5.0 (compatible; MSIE 9.0; Windows NT ...</td>\n",
       "      <td>Mozilla/5.0 (compatible; MSIE 9.0; Windows NT ...</td>\n",
       "      <td>Mozilla/5.0 (compatible; MSIE 9.0; Windows NT ...</td>\n",
       "      <td>Mozilla/5.0 (compatible; MSIE 9.0; Windows NT ...</td>\n",
       "      <td>Mozilla/5.0 (compatible; MSIE 9.0; Windows NT ...</td>\n",
       "      <td>Mozilla/5.0 (compatible; MSIE 9.0; Windows NT ...</td>\n",
       "      <td>Mozilla/5.0 (compatible; MSIE 9.0; Windows NT ...</td>\n",
       "      <td>Mozilla/5.0 (compatible; MSIE 9.0; Windows NT ...</td>\n",
       "    </tr>\n",
       "    <tr>\n",
       "      <th>userId</th>\n",
       "      <td>30</td>\n",
       "      <td>9</td>\n",
       "      <td>30</td>\n",
       "      <td>9</td>\n",
       "      <td>30</td>\n",
       "      <td>9</td>\n",
       "      <td>9</td>\n",
       "      <td>30</td>\n",
       "      <td>30</td>\n",
       "      <td>30</td>\n",
       "      <td>...</td>\n",
       "      <td>300011</td>\n",
       "      <td>300011</td>\n",
       "      <td>300011</td>\n",
       "      <td>300011</td>\n",
       "      <td>300011</td>\n",
       "      <td>300011</td>\n",
       "      <td>300011</td>\n",
       "      <td>300011</td>\n",
       "      <td>300011</td>\n",
       "      <td>300011</td>\n",
       "    </tr>\n",
       "  </tbody>\n",
       "</table>\n",
       "<p>18 rows × 278154 columns</p>\n",
       "</div>"
      ],
      "text/plain": [
       "                                                          0       \\\n",
       "artist                                            Martha Tilston   \n",
       "auth                                                   Logged In   \n",
       "firstName                                                  Colin   \n",
       "gender                                                         M   \n",
       "itemInSession                                                 50   \n",
       "lastName                                                 Freeman   \n",
       "length                                                    277.89   \n",
       "level                                                       paid   \n",
       "location                                         Bakersfield, CA   \n",
       "method                                                       PUT   \n",
       "page                                                    NextSong   \n",
       "registration                                       1538173362000   \n",
       "sessionId                                                     29   \n",
       "song                                                   Rockpools   \n",
       "status                                                       200   \n",
       "ts                                                 1538352117000   \n",
       "userAgent      Mozilla/5.0 (Windows NT 6.1; WOW64; rv:31.0) G...   \n",
       "userId                                                        30   \n",
       "\n",
       "                                                          1       \\\n",
       "artist                                          Five Iron Frenzy   \n",
       "auth                                                   Logged In   \n",
       "firstName                                                  Micah   \n",
       "gender                                                         M   \n",
       "itemInSession                                                 79   \n",
       "lastName                                                    Long   \n",
       "length                                                   236.094   \n",
       "level                                                       free   \n",
       "location                          Boston-Cambridge-Newton, MA-NH   \n",
       "method                                                       PUT   \n",
       "page                                                    NextSong   \n",
       "registration                                       1538331630000   \n",
       "sessionId                                                      8   \n",
       "song                                                      Canada   \n",
       "status                                                       200   \n",
       "ts                                                 1538352180000   \n",
       "userAgent      \"Mozilla/5.0 (Windows NT 6.1; WOW64) AppleWebK...   \n",
       "userId                                                         9   \n",
       "\n",
       "                                                          2       \\\n",
       "artist                                              Adam Lambert   \n",
       "auth                                                   Logged In   \n",
       "firstName                                                  Colin   \n",
       "gender                                                         M   \n",
       "itemInSession                                                 51   \n",
       "lastName                                                 Freeman   \n",
       "length                                                   282.827   \n",
       "level                                                       paid   \n",
       "location                                         Bakersfield, CA   \n",
       "method                                                       PUT   \n",
       "page                                                    NextSong   \n",
       "registration                                       1538173362000   \n",
       "sessionId                                                     29   \n",
       "song                                           Time For Miracles   \n",
       "status                                                       200   \n",
       "ts                                                 1538352394000   \n",
       "userAgent      Mozilla/5.0 (Windows NT 6.1; WOW64; rv:31.0) G...   \n",
       "userId                                                        30   \n",
       "\n",
       "                                                          3       \\\n",
       "artist                                                    Enigma   \n",
       "auth                                                   Logged In   \n",
       "firstName                                                  Micah   \n",
       "gender                                                         M   \n",
       "itemInSession                                                 80   \n",
       "lastName                                                    Long   \n",
       "length                                                   262.713   \n",
       "level                                                       free   \n",
       "location                          Boston-Cambridge-Newton, MA-NH   \n",
       "method                                                       PUT   \n",
       "page                                                    NextSong   \n",
       "registration                                       1538331630000   \n",
       "sessionId                                                      8   \n",
       "song                                 Knocking On Forbidden Doors   \n",
       "status                                                       200   \n",
       "ts                                                 1538352416000   \n",
       "userAgent      \"Mozilla/5.0 (Windows NT 6.1; WOW64) AppleWebK...   \n",
       "userId                                                         9   \n",
       "\n",
       "                                                          4       \\\n",
       "artist                                                 Daft Punk   \n",
       "auth                                                   Logged In   \n",
       "firstName                                                  Colin   \n",
       "gender                                                         M   \n",
       "itemInSession                                                 52   \n",
       "lastName                                                 Freeman   \n",
       "length                                                   223.608   \n",
       "level                                                       paid   \n",
       "location                                         Bakersfield, CA   \n",
       "method                                                       PUT   \n",
       "page                                                    NextSong   \n",
       "registration                                       1538173362000   \n",
       "sessionId                                                     29   \n",
       "song                               Harder Better Faster Stronger   \n",
       "status                                                       200   \n",
       "ts                                                 1538352676000   \n",
       "userAgent      Mozilla/5.0 (Windows NT 6.1; WOW64; rv:31.0) G...   \n",
       "userId                                                        30   \n",
       "\n",
       "                                                          5       \\\n",
       "artist                                  The All-American Rejects   \n",
       "auth                                                   Logged In   \n",
       "firstName                                                  Micah   \n",
       "gender                                                         M   \n",
       "itemInSession                                                 81   \n",
       "lastName                                                    Long   \n",
       "length                                                     208.3   \n",
       "level                                                       free   \n",
       "location                          Boston-Cambridge-Newton, MA-NH   \n",
       "method                                                       PUT   \n",
       "page                                                    NextSong   \n",
       "registration                                       1538331630000   \n",
       "sessionId                                                      8   \n",
       "song                                              Don't Leave Me   \n",
       "status                                                       200   \n",
       "ts                                                 1538352678000   \n",
       "userAgent      \"Mozilla/5.0 (Windows NT 6.1; WOW64) AppleWebK...   \n",
       "userId                                                         9   \n",
       "\n",
       "                                                          6       \\\n",
       "artist                             The Velvet Underground / Nico   \n",
       "auth                                                   Logged In   \n",
       "firstName                                                  Micah   \n",
       "gender                                                         M   \n",
       "itemInSession                                                 82   \n",
       "lastName                                                    Long   \n",
       "length                                                   260.466   \n",
       "level                                                       free   \n",
       "location                          Boston-Cambridge-Newton, MA-NH   \n",
       "method                                                       PUT   \n",
       "page                                                    NextSong   \n",
       "registration                                       1538331630000   \n",
       "sessionId                                                      8   \n",
       "song                                                 Run Run Run   \n",
       "status                                                       200   \n",
       "ts                                                 1538352886000   \n",
       "userAgent      \"Mozilla/5.0 (Windows NT 6.1; WOW64) AppleWebK...   \n",
       "userId                                                         9   \n",
       "\n",
       "                                                          7       \\\n",
       "artist                                              Starflyer 59   \n",
       "auth                                                   Logged In   \n",
       "firstName                                                  Colin   \n",
       "gender                                                         M   \n",
       "itemInSession                                                 53   \n",
       "lastName                                                 Freeman   \n",
       "length                                                   185.443   \n",
       "level                                                       paid   \n",
       "location                                         Bakersfield, CA   \n",
       "method                                                       PUT   \n",
       "page                                                    NextSong   \n",
       "registration                                       1538173362000   \n",
       "sessionId                                                     29   \n",
       "song                              Passengers (Old Album Version)   \n",
       "status                                                       200   \n",
       "ts                                                 1538352899000   \n",
       "userAgent      Mozilla/5.0 (Windows NT 6.1; WOW64; rv:31.0) G...   \n",
       "userId                                                        30   \n",
       "\n",
       "                                                          8       \\\n",
       "artist                                                      None   \n",
       "auth                                                   Logged In   \n",
       "firstName                                                  Colin   \n",
       "gender                                                         M   \n",
       "itemInSession                                                 54   \n",
       "lastName                                                 Freeman   \n",
       "length                                                       NaN   \n",
       "level                                                       paid   \n",
       "location                                         Bakersfield, CA   \n",
       "method                                                       PUT   \n",
       "page                                             Add to Playlist   \n",
       "registration                                       1538173362000   \n",
       "sessionId                                                     29   \n",
       "song                                                        None   \n",
       "status                                                       200   \n",
       "ts                                                 1538352905000   \n",
       "userAgent      Mozilla/5.0 (Windows NT 6.1; WOW64; rv:31.0) G...   \n",
       "userId                                                        30   \n",
       "\n",
       "                                                          9       \\\n",
       "artist                                                  Frumpies   \n",
       "auth                                                   Logged In   \n",
       "firstName                                                  Colin   \n",
       "gender                                                         M   \n",
       "itemInSession                                                 55   \n",
       "lastName                                                 Freeman   \n",
       "length                                                   134.478   \n",
       "level                                                       paid   \n",
       "location                                         Bakersfield, CA   \n",
       "method                                                       PUT   \n",
       "page                                                    NextSong   \n",
       "registration                                       1538173362000   \n",
       "sessionId                                                     29   \n",
       "song                                                  Fuck Kitty   \n",
       "status                                                       200   \n",
       "ts                                                 1538353084000   \n",
       "userAgent      Mozilla/5.0 (Windows NT 6.1; WOW64; rv:31.0) G...   \n",
       "userId                                                        30   \n",
       "\n",
       "                                     ...                          \\\n",
       "artist                               ...                           \n",
       "auth                                 ...                           \n",
       "firstName                            ...                           \n",
       "gender                               ...                           \n",
       "itemInSession                        ...                           \n",
       "lastName                             ...                           \n",
       "length                               ...                           \n",
       "level                                ...                           \n",
       "location                             ...                           \n",
       "method                               ...                           \n",
       "page                                 ...                           \n",
       "registration                         ...                           \n",
       "sessionId                            ...                           \n",
       "song                                 ...                           \n",
       "status                               ...                           \n",
       "ts                                   ...                           \n",
       "userAgent                            ...                           \n",
       "userId                               ...                           \n",
       "\n",
       "                                                          278144  \\\n",
       "artist                                        The Rolling Stones   \n",
       "auth                                                   Logged In   \n",
       "firstName                                                 Emilia   \n",
       "gender                                                         F   \n",
       "itemInSession                                                 33   \n",
       "lastName                                                   House   \n",
       "length                                                   225.306   \n",
       "level                                                       paid   \n",
       "location                   New York-Newark-Jersey City, NY-NJ-PA   \n",
       "method                                                       PUT   \n",
       "page                                                    NextSong   \n",
       "registration                                       1538336771000   \n",
       "sessionId                                                    500   \n",
       "song                                                        Tops   \n",
       "status                                                       200   \n",
       "ts                                                 1543620971000   \n",
       "userAgent      Mozilla/5.0 (compatible; MSIE 9.0; Windows NT ...   \n",
       "userId                                                    300011   \n",
       "\n",
       "                                                          278145  \\\n",
       "artist                                            Alejandro Sanz   \n",
       "auth                                                   Logged In   \n",
       "firstName                                                 Emilia   \n",
       "gender                                                         F   \n",
       "itemInSession                                                 34   \n",
       "lastName                                                   House   \n",
       "length                                                   241.528   \n",
       "level                                                       paid   \n",
       "location                   New York-Newark-Jersey City, NY-NJ-PA   \n",
       "method                                                       PUT   \n",
       "page                                                    NextSong   \n",
       "registration                                       1538336771000   \n",
       "sessionId                                                    500   \n",
       "song                                           Tu no tienes alma   \n",
       "status                                                       200   \n",
       "ts                                                 1543621196000   \n",
       "userAgent      Mozilla/5.0 (compatible; MSIE 9.0; Windows NT ...   \n",
       "userId                                                    300011   \n",
       "\n",
       "                                                          278146  \\\n",
       "artist                                      Valley of the Giants   \n",
       "auth                                                   Logged In   \n",
       "firstName                                                 Emilia   \n",
       "gender                                                         F   \n",
       "itemInSession                                                 35   \n",
       "lastName                                                   House   \n",
       "length                                                   420.466   \n",
       "level                                                       paid   \n",
       "location                   New York-Newark-Jersey City, NY-NJ-PA   \n",
       "method                                                       PUT   \n",
       "page                                                    NextSong   \n",
       "registration                                       1538336771000   \n",
       "sessionId                                                    500   \n",
       "song                                                Bala Bay Inn   \n",
       "status                                                       200   \n",
       "ts                                                 1543621437000   \n",
       "userAgent      Mozilla/5.0 (compatible; MSIE 9.0; Windows NT ...   \n",
       "userId                                                    300011   \n",
       "\n",
       "                                                          278147  \\\n",
       "artist                                                      None   \n",
       "auth                                                   Logged In   \n",
       "firstName                                                 Emilia   \n",
       "gender                                                         F   \n",
       "itemInSession                                                 36   \n",
       "lastName                                                   House   \n",
       "length                                                       NaN   \n",
       "level                                                       paid   \n",
       "location                   New York-Newark-Jersey City, NY-NJ-PA   \n",
       "method                                                       GET   \n",
       "page                                                        Home   \n",
       "registration                                       1538336771000   \n",
       "sessionId                                                    500   \n",
       "song                                                        None   \n",
       "status                                                       200   \n",
       "ts                                                 1543621485000   \n",
       "userAgent      Mozilla/5.0 (compatible; MSIE 9.0; Windows NT ...   \n",
       "userId                                                    300011   \n",
       "\n",
       "                                                          278148  \\\n",
       "artist                                                     Olive   \n",
       "auth                                                   Logged In   \n",
       "firstName                                                 Emilia   \n",
       "gender                                                         F   \n",
       "itemInSession                                                 37   \n",
       "lastName                                                   House   \n",
       "length                                                   264.124   \n",
       "level                                                       paid   \n",
       "location                   New York-Newark-Jersey City, NY-NJ-PA   \n",
       "method                                                       PUT   \n",
       "page                                                    NextSong   \n",
       "registration                                       1538336771000   \n",
       "sessionId                                                    500   \n",
       "song                                            You're Not Alone   \n",
       "status                                                       200   \n",
       "ts                                                 1543621857000   \n",
       "userAgent      Mozilla/5.0 (compatible; MSIE 9.0; Windows NT ...   \n",
       "userId                                                    300011   \n",
       "\n",
       "                                                          278149  \\\n",
       "artist                                               Iron Maiden   \n",
       "auth                                                   Logged In   \n",
       "firstName                                                 Emilia   \n",
       "gender                                                         F   \n",
       "itemInSession                                                 38   \n",
       "lastName                                                   House   \n",
       "length                                                   258.664   \n",
       "level                                                       paid   \n",
       "location                   New York-Newark-Jersey City, NY-NJ-PA   \n",
       "method                                                       PUT   \n",
       "page                                                    NextSong   \n",
       "registration                                       1538336771000   \n",
       "sessionId                                                    500   \n",
       "song           Murders In The Rue Morgue (1998 Digital Remaster)   \n",
       "status                                                       200   \n",
       "ts                                                 1543622121000   \n",
       "userAgent      Mozilla/5.0 (compatible; MSIE 9.0; Windows NT ...   \n",
       "userId                                                    300011   \n",
       "\n",
       "                                                          278150  \\\n",
       "artist                                                      None   \n",
       "auth                                                   Logged In   \n",
       "firstName                                                 Emilia   \n",
       "gender                                                         F   \n",
       "itemInSession                                                 39   \n",
       "lastName                                                   House   \n",
       "length                                                       NaN   \n",
       "level                                                       paid   \n",
       "location                   New York-Newark-Jersey City, NY-NJ-PA   \n",
       "method                                                       PUT   \n",
       "page                                                      Logout   \n",
       "registration                                       1538336771000   \n",
       "sessionId                                                    500   \n",
       "song                                                        None   \n",
       "status                                                       307   \n",
       "ts                                                 1543622122000   \n",
       "userAgent      Mozilla/5.0 (compatible; MSIE 9.0; Windows NT ...   \n",
       "userId                                                    300011   \n",
       "\n",
       "                                                          278151  \\\n",
       "artist                                                      None   \n",
       "auth                                                   Logged In   \n",
       "firstName                                                 Emilia   \n",
       "gender                                                         F   \n",
       "itemInSession                                                 43   \n",
       "lastName                                                   House   \n",
       "length                                                       NaN   \n",
       "level                                                       paid   \n",
       "location                   New York-Newark-Jersey City, NY-NJ-PA   \n",
       "method                                                       GET   \n",
       "page                                                        Home   \n",
       "registration                                       1538336771000   \n",
       "sessionId                                                    500   \n",
       "song                                                        None   \n",
       "status                                                       200   \n",
       "ts                                                 1543622248000   \n",
       "userAgent      Mozilla/5.0 (compatible; MSIE 9.0; Windows NT ...   \n",
       "userId                                                    300011   \n",
       "\n",
       "                                                          278152  \\\n",
       "artist                                                      None   \n",
       "auth                                                   Logged In   \n",
       "firstName                                                 Emilia   \n",
       "gender                                                         F   \n",
       "itemInSession                                                 44   \n",
       "lastName                                                   House   \n",
       "length                                                       NaN   \n",
       "level                                                       paid   \n",
       "location                   New York-Newark-Jersey City, NY-NJ-PA   \n",
       "method                                                       GET   \n",
       "page                                                       About   \n",
       "registration                                       1538336771000   \n",
       "sessionId                                                    500   \n",
       "song                                                        None   \n",
       "status                                                       200   \n",
       "ts                                                 1543622398000   \n",
       "userAgent      Mozilla/5.0 (compatible; MSIE 9.0; Windows NT ...   \n",
       "userId                                                    300011   \n",
       "\n",
       "                                                          278153  \n",
       "artist                                            Camera Obscura  \n",
       "auth                                                   Logged In  \n",
       "firstName                                                 Emilia  \n",
       "gender                                                         F  \n",
       "itemInSession                                                 45  \n",
       "lastName                                                   House  \n",
       "length                                                   170.893  \n",
       "level                                                       paid  \n",
       "location                   New York-Newark-Jersey City, NY-NJ-PA  \n",
       "method                                                       PUT  \n",
       "page                                                    NextSong  \n",
       "registration                                       1538336771000  \n",
       "sessionId                                                    500  \n",
       "song                                         The Sun On His Back  \n",
       "status                                                       200  \n",
       "ts                                                 1543622411000  \n",
       "userAgent      Mozilla/5.0 (compatible; MSIE 9.0; Windows NT ...  \n",
       "userId                                                    300011  \n",
       "\n",
       "[18 rows x 278154 columns]"
      ]
     },
     "execution_count": 8,
     "metadata": {},
     "output_type": "execute_result"
    }
   ],
   "source": [
    "df.toPandas().transpose()"
   ]
  },
  {
   "cell_type": "code",
   "execution_count": 9,
   "metadata": {},
   "outputs": [],
   "source": [
    "# to run SQL queries\n",
    "df.createOrReplaceTempView(\"df\")"
   ]
  },
  {
   "cell_type": "markdown",
   "metadata": {},
   "source": [
    "### Get all events of page column"
   ]
  },
  {
   "cell_type": "code",
   "execution_count": 10,
   "metadata": {
    "scrolled": true
   },
   "outputs": [
    {
     "name": "stdout",
     "output_type": "stream",
     "text": [
      "+--------------------+\n",
      "|                page|\n",
      "+--------------------+\n",
      "|              Cancel|\n",
      "|    Submit Downgrade|\n",
      "|         Thumbs Down|\n",
      "|                Home|\n",
      "|           Downgrade|\n",
      "|         Roll Advert|\n",
      "|              Logout|\n",
      "|       Save Settings|\n",
      "|Cancellation Conf...|\n",
      "|               About|\n",
      "|            Settings|\n",
      "|     Add to Playlist|\n",
      "|          Add Friend|\n",
      "|            NextSong|\n",
      "|           Thumbs Up|\n",
      "|                Help|\n",
      "|             Upgrade|\n",
      "|               Error|\n",
      "|      Submit Upgrade|\n",
      "+--------------------+\n",
      "\n"
     ]
    },
    {
     "data": {
      "text/plain": [
       "19"
      ]
     },
     "execution_count": 10,
     "metadata": {},
     "output_type": "execute_result"
    }
   ],
   "source": [
    "spark.sql('''SELECT DISTINCT page FROM df''').show()\n",
    "spark.sql('''SELECT DISTINCT page FROM df''').count()"
   ]
  },
  {
   "cell_type": "code",
   "execution_count": 11,
   "metadata": {},
   "outputs": [
    {
     "data": {
      "text/plain": [
       "Row(userID='125')"
      ]
     },
     "execution_count": 11,
     "metadata": {},
     "output_type": "execute_result"
    }
   ],
   "source": [
    "churn_users = spark.sql('''SELECT DISTINCT userID FROM df \n",
    "                        WHERE page = \"Cancellation Confirmation\"\n",
    "                        Group by userID''').collect()\n",
    "churn_users[0]"
   ]
  },
  {
   "cell_type": "code",
   "execution_count": 12,
   "metadata": {},
   "outputs": [
    {
     "data": {
      "text/plain": [
       "'125'"
      ]
     },
     "execution_count": 12,
     "metadata": {},
     "output_type": "execute_result"
    }
   ],
   "source": [
    "churn_users = [row.userID for row in churn_users]\n",
    "churn_users[0]"
   ]
  },
  {
   "cell_type": "markdown",
   "metadata": {},
   "source": [
    "### Add the churn column"
   ]
  },
  {
   "cell_type": "code",
   "execution_count": 13,
   "metadata": {},
   "outputs": [],
   "source": [
    "df_churn = df.withColumn(\"churn\", df.userId.isin(churn_users))\n",
    "df_churn.createOrReplaceTempView(\"df_churn\")"
   ]
  },
  {
   "cell_type": "markdown",
   "metadata": {},
   "source": [
    "### See data of a user"
   ]
  },
  {
   "cell_type": "code",
   "execution_count": 14,
   "metadata": {},
   "outputs": [
    {
     "data": {
      "text/html": [
       "<div>\n",
       "<style scoped>\n",
       "    .dataframe tbody tr th:only-of-type {\n",
       "        vertical-align: middle;\n",
       "    }\n",
       "\n",
       "    .dataframe tbody tr th {\n",
       "        vertical-align: top;\n",
       "    }\n",
       "\n",
       "    .dataframe thead th {\n",
       "        text-align: right;\n",
       "    }\n",
       "</style>\n",
       "<table border=\"1\" class=\"dataframe\">\n",
       "  <thead>\n",
       "    <tr style=\"text-align: right;\">\n",
       "      <th></th>\n",
       "      <th>0</th>\n",
       "      <th>1</th>\n",
       "      <th>2</th>\n",
       "      <th>3</th>\n",
       "      <th>4</th>\n",
       "      <th>5</th>\n",
       "      <th>6</th>\n",
       "      <th>7</th>\n",
       "      <th>8</th>\n",
       "      <th>9</th>\n",
       "      <th>...</th>\n",
       "      <th>785</th>\n",
       "      <th>786</th>\n",
       "      <th>787</th>\n",
       "      <th>788</th>\n",
       "      <th>789</th>\n",
       "      <th>790</th>\n",
       "      <th>791</th>\n",
       "      <th>792</th>\n",
       "      <th>793</th>\n",
       "      <th>794</th>\n",
       "    </tr>\n",
       "  </thead>\n",
       "  <tbody>\n",
       "    <tr>\n",
       "      <th>artist</th>\n",
       "      <td>Sea Wolf</td>\n",
       "      <td>George Baker Selection</td>\n",
       "      <td>Klaus Lage</td>\n",
       "      <td>Dave Grusin</td>\n",
       "      <td>Blue Oyster Cult</td>\n",
       "      <td>Lifehouse</td>\n",
       "      <td>Camper Van Beethoven</td>\n",
       "      <td>None</td>\n",
       "      <td>Dwight Yoakam</td>\n",
       "      <td>Matthew Good Band</td>\n",
       "      <td>...</td>\n",
       "      <td>Orishas</td>\n",
       "      <td>None</td>\n",
       "      <td>The Cat Empire</td>\n",
       "      <td>Twista</td>\n",
       "      <td>Ella Fitzgerald</td>\n",
       "      <td>Five Iron Frenzy</td>\n",
       "      <td>None</td>\n",
       "      <td>None</td>\n",
       "      <td>Girls in Hawaii</td>\n",
       "      <td>None</td>\n",
       "    </tr>\n",
       "    <tr>\n",
       "      <th>auth</th>\n",
       "      <td>Logged In</td>\n",
       "      <td>Logged In</td>\n",
       "      <td>Logged In</td>\n",
       "      <td>Logged In</td>\n",
       "      <td>Logged In</td>\n",
       "      <td>Logged In</td>\n",
       "      <td>Logged In</td>\n",
       "      <td>Logged In</td>\n",
       "      <td>Logged In</td>\n",
       "      <td>Logged In</td>\n",
       "      <td>...</td>\n",
       "      <td>Logged In</td>\n",
       "      <td>Logged In</td>\n",
       "      <td>Logged In</td>\n",
       "      <td>Logged In</td>\n",
       "      <td>Logged In</td>\n",
       "      <td>Logged In</td>\n",
       "      <td>Logged In</td>\n",
       "      <td>Logged In</td>\n",
       "      <td>Logged In</td>\n",
       "      <td>Logged In</td>\n",
       "    </tr>\n",
       "    <tr>\n",
       "      <th>firstName</th>\n",
       "      <td>Brycen</td>\n",
       "      <td>Brycen</td>\n",
       "      <td>Brycen</td>\n",
       "      <td>Brycen</td>\n",
       "      <td>Brycen</td>\n",
       "      <td>Brycen</td>\n",
       "      <td>Brycen</td>\n",
       "      <td>Brycen</td>\n",
       "      <td>Brycen</td>\n",
       "      <td>Brycen</td>\n",
       "      <td>...</td>\n",
       "      <td>Brycen</td>\n",
       "      <td>Brycen</td>\n",
       "      <td>Brycen</td>\n",
       "      <td>Brycen</td>\n",
       "      <td>Brycen</td>\n",
       "      <td>Brycen</td>\n",
       "      <td>Brycen</td>\n",
       "      <td>Brycen</td>\n",
       "      <td>Brycen</td>\n",
       "      <td>Brycen</td>\n",
       "    </tr>\n",
       "    <tr>\n",
       "      <th>gender</th>\n",
       "      <td>M</td>\n",
       "      <td>M</td>\n",
       "      <td>M</td>\n",
       "      <td>M</td>\n",
       "      <td>M</td>\n",
       "      <td>M</td>\n",
       "      <td>M</td>\n",
       "      <td>M</td>\n",
       "      <td>M</td>\n",
       "      <td>M</td>\n",
       "      <td>...</td>\n",
       "      <td>M</td>\n",
       "      <td>M</td>\n",
       "      <td>M</td>\n",
       "      <td>M</td>\n",
       "      <td>M</td>\n",
       "      <td>M</td>\n",
       "      <td>M</td>\n",
       "      <td>M</td>\n",
       "      <td>M</td>\n",
       "      <td>M</td>\n",
       "    </tr>\n",
       "    <tr>\n",
       "      <th>itemInSession</th>\n",
       "      <td>0</td>\n",
       "      <td>1</td>\n",
       "      <td>2</td>\n",
       "      <td>3</td>\n",
       "      <td>4</td>\n",
       "      <td>5</td>\n",
       "      <td>6</td>\n",
       "      <td>7</td>\n",
       "      <td>8</td>\n",
       "      <td>9</td>\n",
       "      <td>...</td>\n",
       "      <td>87</td>\n",
       "      <td>88</td>\n",
       "      <td>89</td>\n",
       "      <td>90</td>\n",
       "      <td>91</td>\n",
       "      <td>92</td>\n",
       "      <td>93</td>\n",
       "      <td>96</td>\n",
       "      <td>97</td>\n",
       "      <td>98</td>\n",
       "    </tr>\n",
       "    <tr>\n",
       "      <th>lastName</th>\n",
       "      <td>Bradley</td>\n",
       "      <td>Bradley</td>\n",
       "      <td>Bradley</td>\n",
       "      <td>Bradley</td>\n",
       "      <td>Bradley</td>\n",
       "      <td>Bradley</td>\n",
       "      <td>Bradley</td>\n",
       "      <td>Bradley</td>\n",
       "      <td>Bradley</td>\n",
       "      <td>Bradley</td>\n",
       "      <td>...</td>\n",
       "      <td>Bradley</td>\n",
       "      <td>Bradley</td>\n",
       "      <td>Bradley</td>\n",
       "      <td>Bradley</td>\n",
       "      <td>Bradley</td>\n",
       "      <td>Bradley</td>\n",
       "      <td>Bradley</td>\n",
       "      <td>Bradley</td>\n",
       "      <td>Bradley</td>\n",
       "      <td>Bradley</td>\n",
       "    </tr>\n",
       "    <tr>\n",
       "      <th>length</th>\n",
       "      <td>265.534</td>\n",
       "      <td>200.437</td>\n",
       "      <td>208.039</td>\n",
       "      <td>526.445</td>\n",
       "      <td>272.065</td>\n",
       "      <td>207.02</td>\n",
       "      <td>106.318</td>\n",
       "      <td>NaN</td>\n",
       "      <td>239.307</td>\n",
       "      <td>264.855</td>\n",
       "      <td>...</td>\n",
       "      <td>243.67</td>\n",
       "      <td>NaN</td>\n",
       "      <td>229.041</td>\n",
       "      <td>224.078</td>\n",
       "      <td>427.154</td>\n",
       "      <td>236.094</td>\n",
       "      <td>NaN</td>\n",
       "      <td>NaN</td>\n",
       "      <td>255.66</td>\n",
       "      <td>NaN</td>\n",
       "    </tr>\n",
       "    <tr>\n",
       "      <th>level</th>\n",
       "      <td>paid</td>\n",
       "      <td>paid</td>\n",
       "      <td>paid</td>\n",
       "      <td>paid</td>\n",
       "      <td>paid</td>\n",
       "      <td>paid</td>\n",
       "      <td>paid</td>\n",
       "      <td>paid</td>\n",
       "      <td>paid</td>\n",
       "      <td>paid</td>\n",
       "      <td>...</td>\n",
       "      <td>paid</td>\n",
       "      <td>paid</td>\n",
       "      <td>paid</td>\n",
       "      <td>paid</td>\n",
       "      <td>paid</td>\n",
       "      <td>paid</td>\n",
       "      <td>paid</td>\n",
       "      <td>paid</td>\n",
       "      <td>paid</td>\n",
       "      <td>paid</td>\n",
       "    </tr>\n",
       "    <tr>\n",
       "      <th>location</th>\n",
       "      <td>Laurel, MS</td>\n",
       "      <td>Laurel, MS</td>\n",
       "      <td>Laurel, MS</td>\n",
       "      <td>Laurel, MS</td>\n",
       "      <td>Laurel, MS</td>\n",
       "      <td>Laurel, MS</td>\n",
       "      <td>Laurel, MS</td>\n",
       "      <td>Laurel, MS</td>\n",
       "      <td>Laurel, MS</td>\n",
       "      <td>Laurel, MS</td>\n",
       "      <td>...</td>\n",
       "      <td>Laurel, MS</td>\n",
       "      <td>Laurel, MS</td>\n",
       "      <td>Laurel, MS</td>\n",
       "      <td>Laurel, MS</td>\n",
       "      <td>Laurel, MS</td>\n",
       "      <td>Laurel, MS</td>\n",
       "      <td>Laurel, MS</td>\n",
       "      <td>Laurel, MS</td>\n",
       "      <td>Laurel, MS</td>\n",
       "      <td>Laurel, MS</td>\n",
       "    </tr>\n",
       "    <tr>\n",
       "      <th>method</th>\n",
       "      <td>PUT</td>\n",
       "      <td>PUT</td>\n",
       "      <td>PUT</td>\n",
       "      <td>PUT</td>\n",
       "      <td>PUT</td>\n",
       "      <td>PUT</td>\n",
       "      <td>PUT</td>\n",
       "      <td>PUT</td>\n",
       "      <td>PUT</td>\n",
       "      <td>PUT</td>\n",
       "      <td>...</td>\n",
       "      <td>PUT</td>\n",
       "      <td>PUT</td>\n",
       "      <td>PUT</td>\n",
       "      <td>PUT</td>\n",
       "      <td>PUT</td>\n",
       "      <td>PUT</td>\n",
       "      <td>PUT</td>\n",
       "      <td>GET</td>\n",
       "      <td>PUT</td>\n",
       "      <td>GET</td>\n",
       "    </tr>\n",
       "    <tr>\n",
       "      <th>page</th>\n",
       "      <td>NextSong</td>\n",
       "      <td>NextSong</td>\n",
       "      <td>NextSong</td>\n",
       "      <td>NextSong</td>\n",
       "      <td>NextSong</td>\n",
       "      <td>NextSong</td>\n",
       "      <td>NextSong</td>\n",
       "      <td>Thumbs Up</td>\n",
       "      <td>NextSong</td>\n",
       "      <td>NextSong</td>\n",
       "      <td>...</td>\n",
       "      <td>NextSong</td>\n",
       "      <td>Add to Playlist</td>\n",
       "      <td>NextSong</td>\n",
       "      <td>NextSong</td>\n",
       "      <td>NextSong</td>\n",
       "      <td>NextSong</td>\n",
       "      <td>Logout</td>\n",
       "      <td>Home</td>\n",
       "      <td>NextSong</td>\n",
       "      <td>Downgrade</td>\n",
       "    </tr>\n",
       "    <tr>\n",
       "      <th>registration</th>\n",
       "      <td>1538159495000</td>\n",
       "      <td>1538159495000</td>\n",
       "      <td>1538159495000</td>\n",
       "      <td>1538159495000</td>\n",
       "      <td>1538159495000</td>\n",
       "      <td>1538159495000</td>\n",
       "      <td>1538159495000</td>\n",
       "      <td>1538159495000</td>\n",
       "      <td>1538159495000</td>\n",
       "      <td>1538159495000</td>\n",
       "      <td>...</td>\n",
       "      <td>1538159495000</td>\n",
       "      <td>1538159495000</td>\n",
       "      <td>1538159495000</td>\n",
       "      <td>1538159495000</td>\n",
       "      <td>1538159495000</td>\n",
       "      <td>1538159495000</td>\n",
       "      <td>1538159495000</td>\n",
       "      <td>1538159495000</td>\n",
       "      <td>1538159495000</td>\n",
       "      <td>1538159495000</td>\n",
       "    </tr>\n",
       "    <tr>\n",
       "      <th>sessionId</th>\n",
       "      <td>9</td>\n",
       "      <td>9</td>\n",
       "      <td>9</td>\n",
       "      <td>9</td>\n",
       "      <td>9</td>\n",
       "      <td>9</td>\n",
       "      <td>9</td>\n",
       "      <td>9</td>\n",
       "      <td>9</td>\n",
       "      <td>9</td>\n",
       "      <td>...</td>\n",
       "      <td>1981</td>\n",
       "      <td>1981</td>\n",
       "      <td>1981</td>\n",
       "      <td>1981</td>\n",
       "      <td>1981</td>\n",
       "      <td>1981</td>\n",
       "      <td>1981</td>\n",
       "      <td>1981</td>\n",
       "      <td>1981</td>\n",
       "      <td>1981</td>\n",
       "    </tr>\n",
       "    <tr>\n",
       "      <th>song</th>\n",
       "      <td>Ses Monuments</td>\n",
       "      <td>Morning Sky</td>\n",
       "      <td>Du Hast'n Freund In Mir (You've Got A Friend I...</td>\n",
       "      <td>Playera</td>\n",
       "      <td>Burnin' For You</td>\n",
       "      <td>Sky Is Falling</td>\n",
       "      <td>Skinhead Stomp</td>\n",
       "      <td>None</td>\n",
       "      <td>You're The One</td>\n",
       "      <td>Strange Days</td>\n",
       "      <td>...</td>\n",
       "      <td>A Lo Cubano</td>\n",
       "      <td>None</td>\n",
       "      <td>Hello</td>\n",
       "      <td>Sunshine (Feat. Anthony Hamilton) (Edited Albu...</td>\n",
       "      <td>On Green Dolphin Street (Medley) (1999 Digital...</td>\n",
       "      <td>Canada</td>\n",
       "      <td>None</td>\n",
       "      <td>None</td>\n",
       "      <td>Summer Storm</td>\n",
       "      <td>None</td>\n",
       "    </tr>\n",
       "    <tr>\n",
       "      <th>status</th>\n",
       "      <td>200</td>\n",
       "      <td>200</td>\n",
       "      <td>200</td>\n",
       "      <td>200</td>\n",
       "      <td>200</td>\n",
       "      <td>200</td>\n",
       "      <td>200</td>\n",
       "      <td>307</td>\n",
       "      <td>200</td>\n",
       "      <td>200</td>\n",
       "      <td>...</td>\n",
       "      <td>200</td>\n",
       "      <td>200</td>\n",
       "      <td>200</td>\n",
       "      <td>200</td>\n",
       "      <td>200</td>\n",
       "      <td>200</td>\n",
       "      <td>307</td>\n",
       "      <td>200</td>\n",
       "      <td>200</td>\n",
       "      <td>200</td>\n",
       "    </tr>\n",
       "    <tr>\n",
       "      <th>ts</th>\n",
       "      <td>1538965220000</td>\n",
       "      <td>1538965485000</td>\n",
       "      <td>1538965685000</td>\n",
       "      <td>1538965893000</td>\n",
       "      <td>1538966419000</td>\n",
       "      <td>1538966691000</td>\n",
       "      <td>1538966898000</td>\n",
       "      <td>1538966899000</td>\n",
       "      <td>1538967004000</td>\n",
       "      <td>1538967243000</td>\n",
       "      <td>...</td>\n",
       "      <td>1542630394000</td>\n",
       "      <td>1542630407000</td>\n",
       "      <td>1542630637000</td>\n",
       "      <td>1542630866000</td>\n",
       "      <td>1542631090000</td>\n",
       "      <td>1542631517000</td>\n",
       "      <td>1542631518000</td>\n",
       "      <td>1542631690000</td>\n",
       "      <td>1542631753000</td>\n",
       "      <td>1542631788000</td>\n",
       "    </tr>\n",
       "    <tr>\n",
       "      <th>userAgent</th>\n",
       "      <td>\"Mozilla/5.0 (Macintosh; Intel Mac OS X 10_9_4...</td>\n",
       "      <td>\"Mozilla/5.0 (Macintosh; Intel Mac OS X 10_9_4...</td>\n",
       "      <td>\"Mozilla/5.0 (Macintosh; Intel Mac OS X 10_9_4...</td>\n",
       "      <td>\"Mozilla/5.0 (Macintosh; Intel Mac OS X 10_9_4...</td>\n",
       "      <td>\"Mozilla/5.0 (Macintosh; Intel Mac OS X 10_9_4...</td>\n",
       "      <td>\"Mozilla/5.0 (Macintosh; Intel Mac OS X 10_9_4...</td>\n",
       "      <td>\"Mozilla/5.0 (Macintosh; Intel Mac OS X 10_9_4...</td>\n",
       "      <td>\"Mozilla/5.0 (Macintosh; Intel Mac OS X 10_9_4...</td>\n",
       "      <td>\"Mozilla/5.0 (Macintosh; Intel Mac OS X 10_9_4...</td>\n",
       "      <td>\"Mozilla/5.0 (Macintosh; Intel Mac OS X 10_9_4...</td>\n",
       "      <td>...</td>\n",
       "      <td>\"Mozilla/5.0 (Macintosh; Intel Mac OS X 10_9_4...</td>\n",
       "      <td>\"Mozilla/5.0 (Macintosh; Intel Mac OS X 10_9_4...</td>\n",
       "      <td>\"Mozilla/5.0 (Macintosh; Intel Mac OS X 10_9_4...</td>\n",
       "      <td>\"Mozilla/5.0 (Macintosh; Intel Mac OS X 10_9_4...</td>\n",
       "      <td>\"Mozilla/5.0 (Macintosh; Intel Mac OS X 10_9_4...</td>\n",
       "      <td>\"Mozilla/5.0 (Macintosh; Intel Mac OS X 10_9_4...</td>\n",
       "      <td>\"Mozilla/5.0 (Macintosh; Intel Mac OS X 10_9_4...</td>\n",
       "      <td>\"Mozilla/5.0 (Macintosh; Intel Mac OS X 10_9_4...</td>\n",
       "      <td>\"Mozilla/5.0 (Macintosh; Intel Mac OS X 10_9_4...</td>\n",
       "      <td>\"Mozilla/5.0 (Macintosh; Intel Mac OS X 10_9_4...</td>\n",
       "    </tr>\n",
       "    <tr>\n",
       "      <th>userId</th>\n",
       "      <td>10</td>\n",
       "      <td>10</td>\n",
       "      <td>10</td>\n",
       "      <td>10</td>\n",
       "      <td>10</td>\n",
       "      <td>10</td>\n",
       "      <td>10</td>\n",
       "      <td>10</td>\n",
       "      <td>10</td>\n",
       "      <td>10</td>\n",
       "      <td>...</td>\n",
       "      <td>10</td>\n",
       "      <td>10</td>\n",
       "      <td>10</td>\n",
       "      <td>10</td>\n",
       "      <td>10</td>\n",
       "      <td>10</td>\n",
       "      <td>10</td>\n",
       "      <td>10</td>\n",
       "      <td>10</td>\n",
       "      <td>10</td>\n",
       "    </tr>\n",
       "    <tr>\n",
       "      <th>churn</th>\n",
       "      <td>False</td>\n",
       "      <td>False</td>\n",
       "      <td>False</td>\n",
       "      <td>False</td>\n",
       "      <td>False</td>\n",
       "      <td>False</td>\n",
       "      <td>False</td>\n",
       "      <td>False</td>\n",
       "      <td>False</td>\n",
       "      <td>False</td>\n",
       "      <td>...</td>\n",
       "      <td>False</td>\n",
       "      <td>False</td>\n",
       "      <td>False</td>\n",
       "      <td>False</td>\n",
       "      <td>False</td>\n",
       "      <td>False</td>\n",
       "      <td>False</td>\n",
       "      <td>False</td>\n",
       "      <td>False</td>\n",
       "      <td>False</td>\n",
       "    </tr>\n",
       "  </tbody>\n",
       "</table>\n",
       "<p>19 rows × 795 columns</p>\n",
       "</div>"
      ],
      "text/plain": [
       "                                                             0    \\\n",
       "artist                                                  Sea Wolf   \n",
       "auth                                                   Logged In   \n",
       "firstName                                                 Brycen   \n",
       "gender                                                         M   \n",
       "itemInSession                                                  0   \n",
       "lastName                                                 Bradley   \n",
       "length                                                   265.534   \n",
       "level                                                       paid   \n",
       "location                                              Laurel, MS   \n",
       "method                                                       PUT   \n",
       "page                                                    NextSong   \n",
       "registration                                       1538159495000   \n",
       "sessionId                                                      9   \n",
       "song                                               Ses Monuments   \n",
       "status                                                       200   \n",
       "ts                                                 1538965220000   \n",
       "userAgent      \"Mozilla/5.0 (Macintosh; Intel Mac OS X 10_9_4...   \n",
       "userId                                                        10   \n",
       "churn                                                      False   \n",
       "\n",
       "                                                             1    \\\n",
       "artist                                    George Baker Selection   \n",
       "auth                                                   Logged In   \n",
       "firstName                                                 Brycen   \n",
       "gender                                                         M   \n",
       "itemInSession                                                  1   \n",
       "lastName                                                 Bradley   \n",
       "length                                                   200.437   \n",
       "level                                                       paid   \n",
       "location                                              Laurel, MS   \n",
       "method                                                       PUT   \n",
       "page                                                    NextSong   \n",
       "registration                                       1538159495000   \n",
       "sessionId                                                      9   \n",
       "song                                                 Morning Sky   \n",
       "status                                                       200   \n",
       "ts                                                 1538965485000   \n",
       "userAgent      \"Mozilla/5.0 (Macintosh; Intel Mac OS X 10_9_4...   \n",
       "userId                                                        10   \n",
       "churn                                                      False   \n",
       "\n",
       "                                                             2    \\\n",
       "artist                                                Klaus Lage   \n",
       "auth                                                   Logged In   \n",
       "firstName                                                 Brycen   \n",
       "gender                                                         M   \n",
       "itemInSession                                                  2   \n",
       "lastName                                                 Bradley   \n",
       "length                                                   208.039   \n",
       "level                                                       paid   \n",
       "location                                              Laurel, MS   \n",
       "method                                                       PUT   \n",
       "page                                                    NextSong   \n",
       "registration                                       1538159495000   \n",
       "sessionId                                                      9   \n",
       "song           Du Hast'n Freund In Mir (You've Got A Friend I...   \n",
       "status                                                       200   \n",
       "ts                                                 1538965685000   \n",
       "userAgent      \"Mozilla/5.0 (Macintosh; Intel Mac OS X 10_9_4...   \n",
       "userId                                                        10   \n",
       "churn                                                      False   \n",
       "\n",
       "                                                             3    \\\n",
       "artist                                               Dave Grusin   \n",
       "auth                                                   Logged In   \n",
       "firstName                                                 Brycen   \n",
       "gender                                                         M   \n",
       "itemInSession                                                  3   \n",
       "lastName                                                 Bradley   \n",
       "length                                                   526.445   \n",
       "level                                                       paid   \n",
       "location                                              Laurel, MS   \n",
       "method                                                       PUT   \n",
       "page                                                    NextSong   \n",
       "registration                                       1538159495000   \n",
       "sessionId                                                      9   \n",
       "song                                                     Playera   \n",
       "status                                                       200   \n",
       "ts                                                 1538965893000   \n",
       "userAgent      \"Mozilla/5.0 (Macintosh; Intel Mac OS X 10_9_4...   \n",
       "userId                                                        10   \n",
       "churn                                                      False   \n",
       "\n",
       "                                                             4    \\\n",
       "artist                                          Blue Oyster Cult   \n",
       "auth                                                   Logged In   \n",
       "firstName                                                 Brycen   \n",
       "gender                                                         M   \n",
       "itemInSession                                                  4   \n",
       "lastName                                                 Bradley   \n",
       "length                                                   272.065   \n",
       "level                                                       paid   \n",
       "location                                              Laurel, MS   \n",
       "method                                                       PUT   \n",
       "page                                                    NextSong   \n",
       "registration                                       1538159495000   \n",
       "sessionId                                                      9   \n",
       "song                                             Burnin' For You   \n",
       "status                                                       200   \n",
       "ts                                                 1538966419000   \n",
       "userAgent      \"Mozilla/5.0 (Macintosh; Intel Mac OS X 10_9_4...   \n",
       "userId                                                        10   \n",
       "churn                                                      False   \n",
       "\n",
       "                                                             5    \\\n",
       "artist                                                 Lifehouse   \n",
       "auth                                                   Logged In   \n",
       "firstName                                                 Brycen   \n",
       "gender                                                         M   \n",
       "itemInSession                                                  5   \n",
       "lastName                                                 Bradley   \n",
       "length                                                    207.02   \n",
       "level                                                       paid   \n",
       "location                                              Laurel, MS   \n",
       "method                                                       PUT   \n",
       "page                                                    NextSong   \n",
       "registration                                       1538159495000   \n",
       "sessionId                                                      9   \n",
       "song                                              Sky Is Falling   \n",
       "status                                                       200   \n",
       "ts                                                 1538966691000   \n",
       "userAgent      \"Mozilla/5.0 (Macintosh; Intel Mac OS X 10_9_4...   \n",
       "userId                                                        10   \n",
       "churn                                                      False   \n",
       "\n",
       "                                                             6    \\\n",
       "artist                                      Camper Van Beethoven   \n",
       "auth                                                   Logged In   \n",
       "firstName                                                 Brycen   \n",
       "gender                                                         M   \n",
       "itemInSession                                                  6   \n",
       "lastName                                                 Bradley   \n",
       "length                                                   106.318   \n",
       "level                                                       paid   \n",
       "location                                              Laurel, MS   \n",
       "method                                                       PUT   \n",
       "page                                                    NextSong   \n",
       "registration                                       1538159495000   \n",
       "sessionId                                                      9   \n",
       "song                                              Skinhead Stomp   \n",
       "status                                                       200   \n",
       "ts                                                 1538966898000   \n",
       "userAgent      \"Mozilla/5.0 (Macintosh; Intel Mac OS X 10_9_4...   \n",
       "userId                                                        10   \n",
       "churn                                                      False   \n",
       "\n",
       "                                                             7    \\\n",
       "artist                                                      None   \n",
       "auth                                                   Logged In   \n",
       "firstName                                                 Brycen   \n",
       "gender                                                         M   \n",
       "itemInSession                                                  7   \n",
       "lastName                                                 Bradley   \n",
       "length                                                       NaN   \n",
       "level                                                       paid   \n",
       "location                                              Laurel, MS   \n",
       "method                                                       PUT   \n",
       "page                                                   Thumbs Up   \n",
       "registration                                       1538159495000   \n",
       "sessionId                                                      9   \n",
       "song                                                        None   \n",
       "status                                                       307   \n",
       "ts                                                 1538966899000   \n",
       "userAgent      \"Mozilla/5.0 (Macintosh; Intel Mac OS X 10_9_4...   \n",
       "userId                                                        10   \n",
       "churn                                                      False   \n",
       "\n",
       "                                                             8    \\\n",
       "artist                                             Dwight Yoakam   \n",
       "auth                                                   Logged In   \n",
       "firstName                                                 Brycen   \n",
       "gender                                                         M   \n",
       "itemInSession                                                  8   \n",
       "lastName                                                 Bradley   \n",
       "length                                                   239.307   \n",
       "level                                                       paid   \n",
       "location                                              Laurel, MS   \n",
       "method                                                       PUT   \n",
       "page                                                    NextSong   \n",
       "registration                                       1538159495000   \n",
       "sessionId                                                      9   \n",
       "song                                              You're The One   \n",
       "status                                                       200   \n",
       "ts                                                 1538967004000   \n",
       "userAgent      \"Mozilla/5.0 (Macintosh; Intel Mac OS X 10_9_4...   \n",
       "userId                                                        10   \n",
       "churn                                                      False   \n",
       "\n",
       "                                                             9    \\\n",
       "artist                                         Matthew Good Band   \n",
       "auth                                                   Logged In   \n",
       "firstName                                                 Brycen   \n",
       "gender                                                         M   \n",
       "itemInSession                                                  9   \n",
       "lastName                                                 Bradley   \n",
       "length                                                   264.855   \n",
       "level                                                       paid   \n",
       "location                                              Laurel, MS   \n",
       "method                                                       PUT   \n",
       "page                                                    NextSong   \n",
       "registration                                       1538159495000   \n",
       "sessionId                                                      9   \n",
       "song                                                Strange Days   \n",
       "status                                                       200   \n",
       "ts                                                 1538967243000   \n",
       "userAgent      \"Mozilla/5.0 (Macintosh; Intel Mac OS X 10_9_4...   \n",
       "userId                                                        10   \n",
       "churn                                                      False   \n",
       "\n",
       "                                     ...                          \\\n",
       "artist                               ...                           \n",
       "auth                                 ...                           \n",
       "firstName                            ...                           \n",
       "gender                               ...                           \n",
       "itemInSession                        ...                           \n",
       "lastName                             ...                           \n",
       "length                               ...                           \n",
       "level                                ...                           \n",
       "location                             ...                           \n",
       "method                               ...                           \n",
       "page                                 ...                           \n",
       "registration                         ...                           \n",
       "sessionId                            ...                           \n",
       "song                                 ...                           \n",
       "status                               ...                           \n",
       "ts                                   ...                           \n",
       "userAgent                            ...                           \n",
       "userId                               ...                           \n",
       "churn                                ...                           \n",
       "\n",
       "                                                             785  \\\n",
       "artist                                                   Orishas   \n",
       "auth                                                   Logged In   \n",
       "firstName                                                 Brycen   \n",
       "gender                                                         M   \n",
       "itemInSession                                                 87   \n",
       "lastName                                                 Bradley   \n",
       "length                                                    243.67   \n",
       "level                                                       paid   \n",
       "location                                              Laurel, MS   \n",
       "method                                                       PUT   \n",
       "page                                                    NextSong   \n",
       "registration                                       1538159495000   \n",
       "sessionId                                                   1981   \n",
       "song                                                 A Lo Cubano   \n",
       "status                                                       200   \n",
       "ts                                                 1542630394000   \n",
       "userAgent      \"Mozilla/5.0 (Macintosh; Intel Mac OS X 10_9_4...   \n",
       "userId                                                        10   \n",
       "churn                                                      False   \n",
       "\n",
       "                                                             786  \\\n",
       "artist                                                      None   \n",
       "auth                                                   Logged In   \n",
       "firstName                                                 Brycen   \n",
       "gender                                                         M   \n",
       "itemInSession                                                 88   \n",
       "lastName                                                 Bradley   \n",
       "length                                                       NaN   \n",
       "level                                                       paid   \n",
       "location                                              Laurel, MS   \n",
       "method                                                       PUT   \n",
       "page                                             Add to Playlist   \n",
       "registration                                       1538159495000   \n",
       "sessionId                                                   1981   \n",
       "song                                                        None   \n",
       "status                                                       200   \n",
       "ts                                                 1542630407000   \n",
       "userAgent      \"Mozilla/5.0 (Macintosh; Intel Mac OS X 10_9_4...   \n",
       "userId                                                        10   \n",
       "churn                                                      False   \n",
       "\n",
       "                                                             787  \\\n",
       "artist                                            The Cat Empire   \n",
       "auth                                                   Logged In   \n",
       "firstName                                                 Brycen   \n",
       "gender                                                         M   \n",
       "itemInSession                                                 89   \n",
       "lastName                                                 Bradley   \n",
       "length                                                   229.041   \n",
       "level                                                       paid   \n",
       "location                                              Laurel, MS   \n",
       "method                                                       PUT   \n",
       "page                                                    NextSong   \n",
       "registration                                       1538159495000   \n",
       "sessionId                                                   1981   \n",
       "song                                                       Hello   \n",
       "status                                                       200   \n",
       "ts                                                 1542630637000   \n",
       "userAgent      \"Mozilla/5.0 (Macintosh; Intel Mac OS X 10_9_4...   \n",
       "userId                                                        10   \n",
       "churn                                                      False   \n",
       "\n",
       "                                                             788  \\\n",
       "artist                                                    Twista   \n",
       "auth                                                   Logged In   \n",
       "firstName                                                 Brycen   \n",
       "gender                                                         M   \n",
       "itemInSession                                                 90   \n",
       "lastName                                                 Bradley   \n",
       "length                                                   224.078   \n",
       "level                                                       paid   \n",
       "location                                              Laurel, MS   \n",
       "method                                                       PUT   \n",
       "page                                                    NextSong   \n",
       "registration                                       1538159495000   \n",
       "sessionId                                                   1981   \n",
       "song           Sunshine (Feat. Anthony Hamilton) (Edited Albu...   \n",
       "status                                                       200   \n",
       "ts                                                 1542630866000   \n",
       "userAgent      \"Mozilla/5.0 (Macintosh; Intel Mac OS X 10_9_4...   \n",
       "userId                                                        10   \n",
       "churn                                                      False   \n",
       "\n",
       "                                                             789  \\\n",
       "artist                                           Ella Fitzgerald   \n",
       "auth                                                   Logged In   \n",
       "firstName                                                 Brycen   \n",
       "gender                                                         M   \n",
       "itemInSession                                                 91   \n",
       "lastName                                                 Bradley   \n",
       "length                                                   427.154   \n",
       "level                                                       paid   \n",
       "location                                              Laurel, MS   \n",
       "method                                                       PUT   \n",
       "page                                                    NextSong   \n",
       "registration                                       1538159495000   \n",
       "sessionId                                                   1981   \n",
       "song           On Green Dolphin Street (Medley) (1999 Digital...   \n",
       "status                                                       200   \n",
       "ts                                                 1542631090000   \n",
       "userAgent      \"Mozilla/5.0 (Macintosh; Intel Mac OS X 10_9_4...   \n",
       "userId                                                        10   \n",
       "churn                                                      False   \n",
       "\n",
       "                                                             790  \\\n",
       "artist                                          Five Iron Frenzy   \n",
       "auth                                                   Logged In   \n",
       "firstName                                                 Brycen   \n",
       "gender                                                         M   \n",
       "itemInSession                                                 92   \n",
       "lastName                                                 Bradley   \n",
       "length                                                   236.094   \n",
       "level                                                       paid   \n",
       "location                                              Laurel, MS   \n",
       "method                                                       PUT   \n",
       "page                                                    NextSong   \n",
       "registration                                       1538159495000   \n",
       "sessionId                                                   1981   \n",
       "song                                                      Canada   \n",
       "status                                                       200   \n",
       "ts                                                 1542631517000   \n",
       "userAgent      \"Mozilla/5.0 (Macintosh; Intel Mac OS X 10_9_4...   \n",
       "userId                                                        10   \n",
       "churn                                                      False   \n",
       "\n",
       "                                                             791  \\\n",
       "artist                                                      None   \n",
       "auth                                                   Logged In   \n",
       "firstName                                                 Brycen   \n",
       "gender                                                         M   \n",
       "itemInSession                                                 93   \n",
       "lastName                                                 Bradley   \n",
       "length                                                       NaN   \n",
       "level                                                       paid   \n",
       "location                                              Laurel, MS   \n",
       "method                                                       PUT   \n",
       "page                                                      Logout   \n",
       "registration                                       1538159495000   \n",
       "sessionId                                                   1981   \n",
       "song                                                        None   \n",
       "status                                                       307   \n",
       "ts                                                 1542631518000   \n",
       "userAgent      \"Mozilla/5.0 (Macintosh; Intel Mac OS X 10_9_4...   \n",
       "userId                                                        10   \n",
       "churn                                                      False   \n",
       "\n",
       "                                                             792  \\\n",
       "artist                                                      None   \n",
       "auth                                                   Logged In   \n",
       "firstName                                                 Brycen   \n",
       "gender                                                         M   \n",
       "itemInSession                                                 96   \n",
       "lastName                                                 Bradley   \n",
       "length                                                       NaN   \n",
       "level                                                       paid   \n",
       "location                                              Laurel, MS   \n",
       "method                                                       GET   \n",
       "page                                                        Home   \n",
       "registration                                       1538159495000   \n",
       "sessionId                                                   1981   \n",
       "song                                                        None   \n",
       "status                                                       200   \n",
       "ts                                                 1542631690000   \n",
       "userAgent      \"Mozilla/5.0 (Macintosh; Intel Mac OS X 10_9_4...   \n",
       "userId                                                        10   \n",
       "churn                                                      False   \n",
       "\n",
       "                                                             793  \\\n",
       "artist                                           Girls in Hawaii   \n",
       "auth                                                   Logged In   \n",
       "firstName                                                 Brycen   \n",
       "gender                                                         M   \n",
       "itemInSession                                                 97   \n",
       "lastName                                                 Bradley   \n",
       "length                                                    255.66   \n",
       "level                                                       paid   \n",
       "location                                              Laurel, MS   \n",
       "method                                                       PUT   \n",
       "page                                                    NextSong   \n",
       "registration                                       1538159495000   \n",
       "sessionId                                                   1981   \n",
       "song                                                Summer Storm   \n",
       "status                                                       200   \n",
       "ts                                                 1542631753000   \n",
       "userAgent      \"Mozilla/5.0 (Macintosh; Intel Mac OS X 10_9_4...   \n",
       "userId                                                        10   \n",
       "churn                                                      False   \n",
       "\n",
       "                                                             794  \n",
       "artist                                                      None  \n",
       "auth                                                   Logged In  \n",
       "firstName                                                 Brycen  \n",
       "gender                                                         M  \n",
       "itemInSession                                                 98  \n",
       "lastName                                                 Bradley  \n",
       "length                                                       NaN  \n",
       "level                                                       paid  \n",
       "location                                              Laurel, MS  \n",
       "method                                                       GET  \n",
       "page                                                   Downgrade  \n",
       "registration                                       1538159495000  \n",
       "sessionId                                                   1981  \n",
       "song                                                        None  \n",
       "status                                                       200  \n",
       "ts                                                 1542631788000  \n",
       "userAgent      \"Mozilla/5.0 (Macintosh; Intel Mac OS X 10_9_4...  \n",
       "userId                                                        10  \n",
       "churn                                                      False  \n",
       "\n",
       "[19 rows x 795 columns]"
      ]
     },
     "execution_count": 14,
     "metadata": {},
     "output_type": "execute_result"
    }
   ],
   "source": [
    "spark.sql('''SELECT * FROM df_churn WHERE userID == '10' ''').toPandas().transpose()"
   ]
  },
  {
   "cell_type": "markdown",
   "metadata": {},
   "source": [
    "## Inspect churn with page "
   ]
  },
  {
   "cell_type": "markdown",
   "metadata": {},
   "source": [
    "### Define a helper plot function"
   ]
  },
  {
   "cell_type": "code",
   "execution_count": 15,
   "metadata": {},
   "outputs": [],
   "source": [
    "# import matplotlib\n",
    "# matplotlib.rcParams['font.sans-serif'] = \"Comic Sans MS\"\n",
    "# matplotlib.rcParams['font.family'] = 'sans-serif'\n",
    "# matplotlib.rcParams['font.sans-serif'] = ['Tahoma', 'DejaVu Sans',\n",
    "#                                'Lucida Grande', 'Verdana']\n",
    "#plt.rc('font',family='Times New Roman')\n",
    "\n",
    "import matplotlib.pyplot as plt\n",
    "plt.rcParams[\"font.family\"] = \"Times New Roman\"\n",
    "\n",
    "def save_barplot(x1, x2, y1, y2, data):\n",
    "    fig, ax = plt.subplots(figsize=(8, 6))\n",
    "    ax = sns.barplot(x=x1, y=y1, data=data, ax=ax)\n",
    "    ax.set(xlabel=x2, ylabel=y2)\n",
    "    ax.set_xlabel(ax.get_xlabel(), fontsize=30)\n",
    "    ax.set_ylabel(ax.get_ylabel(), fontsize=30)\n",
    "    ax.tick_params(labelsize=18)\n",
    "    plt.tight_layout()\n",
    "    ax.get_figure().savefig(f'./imgs/{y2}.png')"
   ]
  },
  {
   "cell_type": "code",
   "execution_count": 16,
   "metadata": {},
   "outputs": [],
   "source": [
    "# to include important features\n",
    "features = []"
   ]
  },
  {
   "cell_type": "code",
   "execution_count": 17,
   "metadata": {},
   "outputs": [
    {
     "name": "stdout",
     "output_type": "stream",
     "text": [
      "+-----+--------+\n",
      "|churn|count(1)|\n",
      "+-----+--------+\n",
      "| true|      52|\n",
      "+-----+--------+\n",
      "\n"
     ]
    }
   ],
   "source": [
    "spark.sql('''SELECT churn, COUNT(*) FROM df_churn\n",
    "          WHERE page = 'Cancel' GROUP BY churn''').show()"
   ]
  },
  {
   "cell_type": "code",
   "execution_count": 18,
   "metadata": {},
   "outputs": [
    {
     "name": "stdout",
     "output_type": "stream",
     "text": [
      "+-----+--------+\n",
      "|churn|count(1)|\n",
      "+-----+--------+\n",
      "| true|      52|\n",
      "+-----+--------+\n",
      "\n"
     ]
    }
   ],
   "source": [
    "spark.sql('''SELECT churn, COUNT(*) FROM df_churn\n",
    "          WHERE page = 'Cancellation Confirmation' GROUP BY churn''').show()"
   ]
  },
  {
   "cell_type": "markdown",
   "metadata": {},
   "source": [
    "### Ignored feature"
   ]
  },
  {
   "cell_type": "code",
   "execution_count": 19,
   "metadata": {
    "scrolled": true
   },
   "outputs": [
    {
     "name": "stdout",
     "output_type": "stream",
     "text": [
      "+-----+------------------+\n",
      "|churn|             About|\n",
      "+-----+------------------+\n",
      "| true|1.8064516129032258|\n",
      "|false|3.5403225806451615|\n",
      "+-----+------------------+\n",
      "\n"
     ]
    }
   ],
   "source": [
    "spark.sql('''SELECT churn, COUNT(*)/COUNT(DISTINCT userId) AS About FROM df_churn\n",
    "          WHERE page = 'About' \n",
    "          GROUP BY churn''').show()"
   ]
  },
  {
   "cell_type": "markdown",
   "metadata": {},
   "source": [
    "### Feature 1"
   ]
  },
  {
   "cell_type": "code",
   "execution_count": 20,
   "metadata": {},
   "outputs": [
    {
     "name": "stdout",
     "output_type": "stream",
     "text": [
      "+-----+------------------+\n",
      "|churn|        add_friend|\n",
      "+-----+------------------+\n",
      "| true|14.454545454545455|\n",
      "|false| 22.47530864197531|\n",
      "+-----+------------------+\n",
      "\n"
     ]
    }
   ],
   "source": [
    "spark.sql('''SELECT churn, count(*)/count(DISTINCT userId) AS add_friend FROM df_churn\n",
    "          WHERE page = 'Add Friend' \n",
    "          GROUP BY churn''').show()"
   ]
  },
  {
   "cell_type": "code",
   "execution_count": 21,
   "metadata": {},
   "outputs": [
    {
     "name": "stdout",
     "output_type": "stream",
     "text": [
      "+------+----------+\n",
      "|userId|add_friend|\n",
      "+------+----------+\n",
      "|    10|        12|\n",
      "|   100|        49|\n",
      "|100001|         2|\n",
      "|100002|         1|\n",
      "|100004|        19|\n",
      "+------+----------+\n",
      "only showing top 5 rows\n",
      "\n"
     ]
    }
   ],
   "source": [
    "feature_friends = spark.sql('''SELECT userId, COUNT(*) AS add_friend FROM df_churn\n",
    "                            WHERE page = 'Add Friend' GROUP BY userId ORDER BY userId''')\n",
    "feature_friends.show(5)\n",
    "features.append(feature_friends)"
   ]
  },
  {
   "cell_type": "code",
   "execution_count": 22,
   "metadata": {},
   "outputs": [
    {
     "name": "stderr",
     "output_type": "stream",
     "text": [
      "/opt/conda/lib/python3.6/site-packages/matplotlib/font_manager.py:1316: UserWarning: findfont: Font family ['Times New Roman'] not found. Falling back to DejaVu Sans\n",
      "  (prop.get_family(), self.defaultFamily[fontext]))\n"
     ]
    },
    {
     "data": {
      "image/png": "[encoded data removed]",
      "text/plain": [
       "<matplotlib.figure.Figure at 0x7f70f6cbcc88>"
      ]
     },
     "metadata": {
      "needs_background": "light"
     },
     "output_type": "display_data"
    }
   ],
   "source": [
    "pd_friends = spark.sql('''SELECT churn, count(*)/count(DISTINCT userId) AS add_friend FROM df_churn\n",
    "          WHERE page = 'Add Friend' \n",
    "          GROUP BY churn''').toPandas()\n",
    "save_barplot(x1='churn', x2='Churn', y1='add_friend', y2='Friend', data=pd_friends)"
   ]
  },
  {
   "cell_type": "code",
   "execution_count": 23,
   "metadata": {},
   "outputs": [
    {
     "name": "stderr",
     "output_type": "stream",
     "text": [
      "/opt/conda/lib/python3.6/site-packages/matplotlib/font_manager.py:1316: UserWarning: findfont: Font family ['Times New Roman'] not found. Falling back to DejaVu Sans\n",
      "  (prop.get_family(), self.defaultFamily[fontext]))\n"
     ]
    },
    {
     "data": {
      "image/png": "[encoded data removed]",
      "text/plain": [
       "<matplotlib.figure.Figure at 0x7f70f645fef0>"
      ]
     },
     "metadata": {
      "needs_background": "light"
     },
     "output_type": "display_data"
    }
   ],
   "source": [
    "pd_friends = spark.sql('''SELECT churn, count(*)/count(DISTINCT userId) AS add_friend FROM df_churn\n",
    "          WHERE page = 'Add Friend' \n",
    "          GROUP BY churn''').toPandas()\n",
    "save_barplot(x1='churn', x2='Churn', y1='add_friend', y2='Friend', data=pd_friends)"
   ]
  },
  {
   "cell_type": "markdown",
   "metadata": {},
   "source": [
    "### Feature 2"
   ]
  },
  {
   "cell_type": "code",
   "execution_count": 24,
   "metadata": {},
   "outputs": [
    {
     "name": "stdout",
     "output_type": "stream",
     "text": [
      "+-----+-----------------+\n",
      "|churn|  add_to_playlist|\n",
      "+-----+-----------------+\n",
      "| true|            20.76|\n",
      "|false|33.26060606060606|\n",
      "+-----+-----------------+\n",
      "\n"
     ]
    }
   ],
   "source": [
    "spark.sql('''SELECT churn, COUNT(*)/COUNT(DISTINCT userId) AS add_to_playlist FROM df_churn\n",
    "          WHERE page = 'Add to Playlist' \n",
    "          GROUP BY churn''').show()"
   ]
  },
  {
   "cell_type": "code",
   "execution_count": 25,
   "metadata": {},
   "outputs": [
    {
     "name": "stdout",
     "output_type": "stream",
     "text": [
      "+------+---------------+\n",
      "|userId|add_to_playlist|\n",
      "+------+---------------+\n",
      "|    10|              9|\n",
      "|   100|             61|\n",
      "|100001|              3|\n",
      "|100002|              5|\n",
      "|100003|              2|\n",
      "+------+---------------+\n",
      "only showing top 5 rows\n",
      "\n"
     ]
    }
   ],
   "source": [
    "feature_playlist = spark.sql('''SELECT userId, COUNT(*) AS add_to_playlist FROM df_churn\n",
    "                            WHERE page = 'Add to Playlist' GROUP BY userId ORDER BY userId''')\n",
    "\n",
    "feature_playlist.show(5)\n",
    "features.append(feature_playlist)"
   ]
  },
  {
   "cell_type": "code",
   "execution_count": 26,
   "metadata": {},
   "outputs": [
    {
     "name": "stderr",
     "output_type": "stream",
     "text": [
      "/opt/conda/lib/python3.6/site-packages/matplotlib/font_manager.py:1316: UserWarning: findfont: Font family ['Times New Roman'] not found. Falling back to DejaVu Sans\n",
      "  (prop.get_family(), self.defaultFamily[fontext]))\n"
     ]
    },
    {
     "data": {
      "image/png": "[encoded data removed]",
      "text/plain": [
       "<matplotlib.figure.Figure at 0x7f70f5f8ab70>"
      ]
     },
     "metadata": {
      "needs_background": "light"
     },
     "output_type": "display_data"
    }
   ],
   "source": [
    "pd_playlist = spark.sql('''SELECT churn, COUNT(*)/COUNT(DISTINCT userId) AS add_to_playlist FROM df_churn\n",
    "                          WHERE page = 'Add to Playlist' \n",
    "                          GROUP BY churn''').toPandas()\n",
    "save_barplot(x1='churn', x2='Churn', y1='add_to_playlist', y2='Playlist', data=pd_playlist)"
   ]
  },
  {
   "cell_type": "markdown",
   "metadata": {},
   "source": [
    "### Feature 3"
   ]
  },
  {
   "cell_type": "code",
   "execution_count": 27,
   "metadata": {},
   "outputs": [
    {
     "name": "stdout",
     "output_type": "stream",
     "text": [
      "+-----+------------------+\n",
      "|churn|         Downgrade|\n",
      "+-----+------------------+\n",
      "| true| 9.628571428571428|\n",
      "|false|14.436974789915967|\n",
      "+-----+------------------+\n",
      "\n"
     ]
    }
   ],
   "source": [
    "spark.sql('''SELECT churn, COUNT(*)/COUNT(DISTINCT userId) AS Downgrade FROM df_churn\n",
    "          WHERE page = 'Downgrade' \n",
    "          GROUP BY churn''').show()"
   ]
  },
  {
   "cell_type": "code",
   "execution_count": 28,
   "metadata": {},
   "outputs": [
    {
     "name": "stdout",
     "output_type": "stream",
     "text": [
      "+------+---------+\n",
      "|userId|Downgrade|\n",
      "+------+---------+\n",
      "|    10|        7|\n",
      "|   100|       30|\n",
      "|100002|        2|\n",
      "|100004|       10|\n",
      "|100007|        7|\n",
      "+------+---------+\n",
      "only showing top 5 rows\n",
      "\n"
     ]
    }
   ],
   "source": [
    "feature_downgrade = spark.sql('''SELECT userId, COUNT(*) AS Downgrade FROM df_churn\n",
    "                            WHERE page = 'Downgrade' GROUP BY userId ORDER BY userId''')\n",
    "feature_downgrade.show(5)\n",
    "features.append(feature_downgrade)"
   ]
  },
  {
   "cell_type": "code",
   "execution_count": 29,
   "metadata": {},
   "outputs": [
    {
     "name": "stderr",
     "output_type": "stream",
     "text": [
      "/opt/conda/lib/python3.6/site-packages/matplotlib/font_manager.py:1316: UserWarning: findfont: Font family ['Times New Roman'] not found. Falling back to DejaVu Sans\n",
      "  (prop.get_family(), self.defaultFamily[fontext]))\n"
     ]
    },
    {
     "data": {
      "image/png": "[encoded data removed]",
      "text/plain": [
       "<matplotlib.figure.Figure at 0x7f713c449c50>"
      ]
     },
     "metadata": {
      "needs_background": "light"
     },
     "output_type": "display_data"
    }
   ],
   "source": [
    "pd_downgrade = spark.sql('''SELECT churn, COUNT(*)/COUNT(DISTINCT userId) AS Downgrade FROM df_churn\n",
    "          WHERE page = 'Downgrade' \n",
    "          GROUP BY churn''').toPandas()\n",
    "save_barplot(x1='churn', x2='Churn', y1='Downgrade', y2='Downgrade', data=pd_downgrade)"
   ]
  },
  {
   "cell_type": "markdown",
   "metadata": {},
   "source": [
    "### Ignored feature"
   ]
  },
  {
   "cell_type": "code",
   "execution_count": 30,
   "metadata": {},
   "outputs": [
    {
     "name": "stdout",
     "output_type": "stream",
     "text": [
      "+-----+------------------+\n",
      "|churn|             error|\n",
      "+-----+------------------+\n",
      "| true|1.4545454545454546|\n",
      "|false|2.3157894736842106|\n",
      "+-----+------------------+\n",
      "\n"
     ]
    }
   ],
   "source": [
    "spark.sql('''SELECT churn, COUNT(*)/COUNT(DISTINCT userId) AS error FROM df_churn\n",
    "          WHERE page = 'Error' \n",
    "          GROUP BY churn''').show();"
   ]
  },
  {
   "cell_type": "markdown",
   "metadata": {},
   "source": [
    "### Feature 4"
   ]
  },
  {
   "cell_type": "code",
   "execution_count": 31,
   "metadata": {},
   "outputs": [
    {
     "name": "stdout",
     "output_type": "stream",
     "text": [
      "+-----+-----------------+\n",
      "|churn|             help|\n",
      "+-----+-----------------+\n",
      "| true|5.558139534883721|\n",
      "|false|8.154362416107382|\n",
      "+-----+-----------------+\n",
      "\n"
     ]
    }
   ],
   "source": [
    "spark.sql('''SELECT churn, COUNT(*)/COUNT(DISTINCT userId) AS help FROM df_churn\n",
    "          WHERE page = 'Help' \n",
    "          GROUP BY churn''').show()"
   ]
  },
  {
   "cell_type": "code",
   "execution_count": 32,
   "metadata": {},
   "outputs": [
    {
     "name": "stdout",
     "output_type": "stream",
     "text": [
      "+------+----+\n",
      "|userId|help|\n",
      "+------+----+\n",
      "|    10|   1|\n",
      "|   100|  18|\n",
      "|100001|   1|\n",
      "|100003|   1|\n",
      "|100004|   6|\n",
      "+------+----+\n",
      "only showing top 5 rows\n",
      "\n"
     ]
    }
   ],
   "source": [
    "feature_help = spark.sql('''SELECT userId, COUNT(*) AS help FROM df_churn\n",
    "                        WHERE page ='Help' GROUP BY userId ORDER BY userId''')\n",
    "\n",
    "feature_help.show(5)\n",
    "features.append(feature_help)"
   ]
  },
  {
   "cell_type": "code",
   "execution_count": 33,
   "metadata": {},
   "outputs": [
    {
     "name": "stderr",
     "output_type": "stream",
     "text": [
      "/opt/conda/lib/python3.6/site-packages/matplotlib/font_manager.py:1316: UserWarning: findfont: Font family ['Times New Roman'] not found. Falling back to DejaVu Sans\n",
      "  (prop.get_family(), self.defaultFamily[fontext]))\n"
     ]
    },
    {
     "data": {
      "image/png": "[encoded data removed]",
      "text/plain": [
       "<matplotlib.figure.Figure at 0x7f70f5c3eef0>"
      ]
     },
     "metadata": {
      "needs_background": "light"
     },
     "output_type": "display_data"
    }
   ],
   "source": [
    "pd_help = spark.sql('''SELECT churn, COUNT(*)/COUNT(DISTINCT userId) AS help FROM df_churn\n",
    "          WHERE page = 'Help' \n",
    "          GROUP BY churn''').toPandas()\n",
    "save_barplot(x1='churn', x2='Churn', y1='help', y2='Help', data=pd_help)"
   ]
  },
  {
   "cell_type": "markdown",
   "metadata": {},
   "source": [
    "### Feature 5"
   ]
  },
  {
   "cell_type": "code",
   "execution_count": 34,
   "metadata": {},
   "outputs": [
    {
     "name": "stdout",
     "output_type": "stream",
     "text": [
      "+-----+------------------+\n",
      "|churn|              home|\n",
      "+-----+------------------+\n",
      "| true| 32.78431372549019|\n",
      "|false|48.895348837209305|\n",
      "+-----+------------------+\n",
      "\n"
     ]
    }
   ],
   "source": [
    "spark.sql('''SELECT churn, COUNT(*)/COUNT(DISTINCT userId) AS home FROM df_churn\n",
    "          WHERE page = 'Home' \n",
    "          GROUP BY churn''').show()"
   ]
  },
  {
   "cell_type": "code",
   "execution_count": 35,
   "metadata": {},
   "outputs": [
    {
     "name": "stdout",
     "output_type": "stream",
     "text": [
      "+------+----+\n",
      "|userId|Home|\n",
      "+------+----+\n",
      "|    10|  30|\n",
      "|   100| 105|\n",
      "|100001|  11|\n",
      "|100002|   6|\n",
      "|100003|   7|\n",
      "+------+----+\n",
      "only showing top 5 rows\n",
      "\n"
     ]
    }
   ],
   "source": [
    "feature_home = spark.sql('''SELECT userId, COUNT(*) AS Home FROM df_churn\n",
    "                            WHERE page = 'Home' GROUP BY userId ORDER BY userId''')\n",
    "feature_home.show(5)\n",
    "features.append(feature_home)"
   ]
  },
  {
   "cell_type": "code",
   "execution_count": 36,
   "metadata": {},
   "outputs": [
    {
     "name": "stderr",
     "output_type": "stream",
     "text": [
      "/opt/conda/lib/python3.6/site-packages/matplotlib/font_manager.py:1316: UserWarning: findfont: Font family ['Times New Roman'] not found. Falling back to DejaVu Sans\n",
      "  (prop.get_family(), self.defaultFamily[fontext]))\n"
     ]
    },
    {
     "data": {
      "image/png": "[encoded data removed]",
      "text/plain": [
       "<matplotlib.figure.Figure at 0x7f70f58ce518>"
      ]
     },
     "metadata": {
      "needs_background": "light"
     },
     "output_type": "display_data"
    }
   ],
   "source": [
    "pd_home = spark.sql('''SELECT churn, COUNT(*)/COUNT(DISTINCT userId) AS home FROM df_churn\n",
    "          WHERE page = 'Home' \n",
    "          GROUP BY churn''').toPandas()\n",
    "save_barplot(x1='churn', x2='Churn', y1='home', y2='Home', data=pd_home)"
   ]
  },
  {
   "cell_type": "markdown",
   "metadata": {},
   "source": [
    "### Ignored feature"
   ]
  },
  {
   "cell_type": "code",
   "execution_count": 37,
   "metadata": {},
   "outputs": [
    {
     "name": "stdout",
     "output_type": "stream",
     "text": [
      "+-----+-----------------+\n",
      "|churn|      Roll_Advert|\n",
      "+-----+-----------------+\n",
      "| true|            19.34|\n",
      "|false|18.89171974522293|\n",
      "+-----+-----------------+\n",
      "\n"
     ]
    }
   ],
   "source": [
    "spark.sql('''SELECT churn, COUNT(*)/COUNT(DISTINCT userId) AS Roll_Advert FROM df_churn\n",
    "          WHERE page = 'Roll Advert' \n",
    "          GROUP BY churn''').show();"
   ]
  },
  {
   "cell_type": "markdown",
   "metadata": {},
   "source": [
    "### Ignored feature"
   ]
  },
  {
   "cell_type": "code",
   "execution_count": 38,
   "metadata": {},
   "outputs": [
    {
     "name": "stdout",
     "output_type": "stream",
     "text": [
      "+-----+----------------+\n",
      "|churn|        Settings|\n",
      "+-----+----------------+\n",
      "| true|6.27906976744186|\n",
      "|false|8.18421052631579|\n",
      "+-----+----------------+\n",
      "\n"
     ]
    }
   ],
   "source": [
    "spark.sql('''SELECT churn, COUNT(*)/COUNT(DISTINCT userId) AS Settings FROM df_churn\n",
    "          WHERE page = 'Settings' \n",
    "          GROUP BY churn''').show();"
   ]
  },
  {
   "cell_type": "markdown",
   "metadata": {},
   "source": [
    "### Ignored feature"
   ]
  },
  {
   "cell_type": "code",
   "execution_count": 39,
   "metadata": {},
   "outputs": [
    {
     "name": "stdout",
     "output_type": "stream",
     "text": [
      "+-----+------------------+\n",
      "|churn|     Save_Settings|\n",
      "+-----+------------------+\n",
      "| true|1.9333333333333333|\n",
      "|false|2.4705882352941178|\n",
      "+-----+------------------+\n",
      "\n"
     ]
    }
   ],
   "source": [
    "spark.sql('''SELECT churn, COUNT(*)/COUNT(DISTINCT userId) AS Save_Settings FROM df_churn\n",
    "          WHERE page = 'Save Settings' \n",
    "          GROUP BY churn''').show()"
   ]
  },
  {
   "cell_type": "markdown",
   "metadata": {},
   "source": [
    "### Feature 6"
   ]
  },
  {
   "cell_type": "code",
   "execution_count": 40,
   "metadata": {},
   "outputs": [
    {
     "name": "stdout",
     "output_type": "stream",
     "text": [
      "+-----+------------------+\n",
      "|churn|          nextSong|\n",
      "+-----+------------------+\n",
      "| true| 699.8846153846154|\n",
      "|false|1108.1734104046243|\n",
      "+-----+------------------+\n",
      "\n"
     ]
    }
   ],
   "source": [
    "spark.sql('''SELECT churn, COUNT(*)/COUNT(DISTINCT userId) AS nextSong FROM df_churn\n",
    "          WHERE page = 'NextSong' \n",
    "          GROUP BY churn''').show()"
   ]
  },
  {
   "cell_type": "code",
   "execution_count": 41,
   "metadata": {},
   "outputs": [
    {
     "name": "stdout",
     "output_type": "stream",
     "text": [
      "+------+--------+\n",
      "|userId|nextSong|\n",
      "+------+--------+\n",
      "|    10|     673|\n",
      "|   100|    2682|\n",
      "|100001|     133|\n",
      "|100002|     195|\n",
      "|100003|      51|\n",
      "+------+--------+\n",
      "only showing top 5 rows\n",
      "\n"
     ]
    }
   ],
   "source": [
    "feature_nextSong = spark.sql('''SELECT userId, COUNT(*) AS nextSong FROM df_churn\n",
    "                            WHERE page = 'NextSong' GROUP BY userId ORDER BY userId''')\n",
    "feature_nextSong.show(5)\n",
    "features.append(feature_nextSong)"
   ]
  },
  {
   "cell_type": "code",
   "execution_count": 42,
   "metadata": {},
   "outputs": [
    {
     "name": "stderr",
     "output_type": "stream",
     "text": [
      "/opt/conda/lib/python3.6/site-packages/matplotlib/font_manager.py:1316: UserWarning: findfont: Font family ['Times New Roman'] not found. Falling back to DejaVu Sans\n",
      "  (prop.get_family(), self.defaultFamily[fontext]))\n"
     ]
    },
    {
     "data": {
      "image/png": "[encoded data removed]",
      "text/plain": [
       "<matplotlib.figure.Figure at 0x7f70f5820be0>"
      ]
     },
     "metadata": {
      "needs_background": "light"
     },
     "output_type": "display_data"
    }
   ],
   "source": [
    "pd_nextSong = spark.sql('''SELECT churn, COUNT(*)/COUNT(DISTINCT userId) AS nextSong FROM df_churn\n",
    "          WHERE page = 'NextSong' \n",
    "          GROUP BY churn''').toPandas()\n",
    "save_barplot(x1='churn', x2='Churn', y1='nextSong', y2='Next Song', data=pd_nextSong)"
   ]
  },
  {
   "cell_type": "markdown",
   "metadata": {},
   "source": [
    "### Ignored feature"
   ]
  },
  {
   "cell_type": "code",
   "execution_count": 43,
   "metadata": {},
   "outputs": [
    {
     "name": "stdout",
     "output_type": "stream",
     "text": [
      "+-----+----------------+\n",
      "|churn|submit_downgrade|\n",
      "+-----+----------------+\n",
      "| true|             1.0|\n",
      "|false|            1.35|\n",
      "+-----+----------------+\n",
      "\n"
     ]
    }
   ],
   "source": [
    "spark.sql('''SELECT churn, COUNT(*)/COUNT(DISTINCT userId) AS submit_downgrade FROM df_churn\n",
    "          WHERE page = 'Submit Downgrade' \n",
    "          GROUP BY churn''').show()"
   ]
  },
  {
   "cell_type": "markdown",
   "metadata": {},
   "source": [
    "### Ignored feature"
   ]
  },
  {
   "cell_type": "code",
   "execution_count": 44,
   "metadata": {},
   "outputs": [
    {
     "name": "stdout",
     "output_type": "stream",
     "text": [
      "+-----+------------------+\n",
      "|churn|    submit_upgrade|\n",
      "+-----+------------------+\n",
      "| true| 1.103448275862069|\n",
      "|false|1.2450980392156863|\n",
      "+-----+------------------+\n",
      "\n"
     ]
    }
   ],
   "source": [
    "spark.sql('''SELECT churn, COUNT(*)/COUNT(DISTINCT userId) AS submit_upgrade FROM df_churn\n",
    "          WHERE page = 'Submit Upgrade' \n",
    "          GROUP BY churn''').show()"
   ]
  },
  {
   "cell_type": "markdown",
   "metadata": {},
   "source": [
    "### Feature 7"
   ]
  },
  {
   "cell_type": "code",
   "execution_count": 45,
   "metadata": {},
   "outputs": [
    {
     "name": "stdout",
     "output_type": "stream",
     "text": [
      "+-----+------------------+\n",
      "|churn|       Thumbs_Down|\n",
      "+-----+------------------+\n",
      "| true|10.333333333333334|\n",
      "|false|13.225806451612904|\n",
      "+-----+------------------+\n",
      "\n"
     ]
    }
   ],
   "source": [
    "spark.sql('''SELECT churn, COUNT(*)/COUNT(DISTINCT userId) AS Thumbs_Down FROM df_churn\n",
    "          WHERE page = 'Thumbs Down' \n",
    "          GROUP BY churn''').show()"
   ]
  },
  {
   "cell_type": "code",
   "execution_count": 46,
   "metadata": {},
   "outputs": [
    {
     "name": "stdout",
     "output_type": "stream",
     "text": [
      "+------+-----------+\n",
      "|userID|thumbs_down|\n",
      "+------+-----------+\n",
      "|    10|          4|\n",
      "|   100|         27|\n",
      "|100001|          2|\n",
      "|100004|         11|\n",
      "|100005|          3|\n",
      "+------+-----------+\n",
      "only showing top 5 rows\n",
      "\n"
     ]
    }
   ],
   "source": [
    "feature_thumbs_down = spark.sql('''SELECT userID, COUNT(*) as thumbs_down\n",
    "                                   FROM df_churn WHERE page = \"Thumbs Down\"\n",
    "                                   GROUP BY userID ORDER BY userID''')\n",
    "feature_thumbs_down.show(5)\n",
    "features.append(feature_thumbs_down)"
   ]
  },
  {
   "cell_type": "code",
   "execution_count": 47,
   "metadata": {},
   "outputs": [
    {
     "name": "stderr",
     "output_type": "stream",
     "text": [
      "/opt/conda/lib/python3.6/site-packages/matplotlib/font_manager.py:1316: UserWarning: findfont: Font family ['Times New Roman'] not found. Falling back to DejaVu Sans\n",
      "  (prop.get_family(), self.defaultFamily[fontext]))\n"
     ]
    },
    {
     "data": {
      "image/png": "[encoded data removed]",
      "text/plain": [
       "<matplotlib.figure.Figure at 0x7f70f55f9518>"
      ]
     },
     "metadata": {
      "needs_background": "light"
     },
     "output_type": "display_data"
    }
   ],
   "source": [
    "pd_thumbs_down = spark.sql('''SELECT churn, COUNT(*)/COUNT(DISTINCT userId) AS Thumbs_Down FROM df_churn\n",
    "          WHERE page = 'Thumbs Down' \n",
    "          GROUP BY churn''').toPandas()\n",
    "save_barplot(x1='churn', x2='Churn', y1='Thumbs_Down', y2='Thumbs Down', data=pd_thumbs_down)"
   ]
  },
  {
   "cell_type": "markdown",
   "metadata": {},
   "source": [
    "### Feature 8"
   ]
  },
  {
   "cell_type": "code",
   "execution_count": 48,
   "metadata": {},
   "outputs": [
    {
     "name": "stdout",
     "output_type": "stream",
     "text": [
      "+-----+-----------------+\n",
      "|churn|        Thumbs_Up|\n",
      "+-----+-----------------+\n",
      "| true|            37.18|\n",
      "|false|62.89411764705882|\n",
      "+-----+-----------------+\n",
      "\n"
     ]
    }
   ],
   "source": [
    "spark.sql('''SELECT churn, COUNT(*)/COUNT(DISTINCT userId) AS Thumbs_Up FROM df_churn\n",
    "             WHERE page = 'Thumbs Up' \n",
    "             GROUP BY churn''').show()"
   ]
  },
  {
   "cell_type": "code",
   "execution_count": 49,
   "metadata": {},
   "outputs": [
    {
     "name": "stdout",
     "output_type": "stream",
     "text": [
      "+------+---------+\n",
      "|userID|thumbs_up|\n",
      "+------+---------+\n",
      "|    10|       37|\n",
      "|   100|      148|\n",
      "|100001|        8|\n",
      "|100002|        5|\n",
      "|100003|        3|\n",
      "+------+---------+\n",
      "only showing top 5 rows\n",
      "\n"
     ]
    }
   ],
   "source": [
    "feature_thumbs_up = spark.sql('''SELECT userID, COUNT(*) as thumbs_up\n",
    "                                 FROM df_churn\n",
    "                                 WHERE page = \"Thumbs Up\"\n",
    "                                 GROUP BY userID\n",
    "                                 ORDER BY userID''')\n",
    "feature_thumbs_up.show(5)\n",
    "features.append(feature_thumbs_up)"
   ]
  },
  {
   "cell_type": "code",
   "execution_count": 50,
   "metadata": {},
   "outputs": [
    {
     "name": "stderr",
     "output_type": "stream",
     "text": [
      "/opt/conda/lib/python3.6/site-packages/matplotlib/font_manager.py:1316: UserWarning: findfont: Font family ['Times New Roman'] not found. Falling back to DejaVu Sans\n",
      "  (prop.get_family(), self.defaultFamily[fontext]))\n"
     ]
    },
    {
     "data": {
      "image/png": "[encoded data removed]",
      "text/plain": [
       "<matplotlib.figure.Figure at 0x7f70f5339f28>"
      ]
     },
     "metadata": {
      "needs_background": "light"
     },
     "output_type": "display_data"
    }
   ],
   "source": [
    "pd_thumbs_up = spark.sql('''SELECT churn, COUNT(*)/COUNT(DISTINCT userId) AS Thumbs_Up FROM df_churn\n",
    "             WHERE page = 'Thumbs Up' \n",
    "             GROUP BY churn''').toPandas()\n",
    "save_barplot(x1='churn', x2='Churn', y1='Thumbs_Up', y2='Thumbs up', data=pd_thumbs_up)"
   ]
  },
  {
   "cell_type": "markdown",
   "metadata": {},
   "source": [
    "### Ignored feature"
   ]
  },
  {
   "cell_type": "code",
   "execution_count": 51,
   "metadata": {},
   "outputs": [
    {
     "name": "stdout",
     "output_type": "stream",
     "text": [
      "+-----+-----------------+\n",
      "|churn|          upgrade|\n",
      "+-----+-----------------+\n",
      "| true|3.027027027027027|\n",
      "|false|2.954198473282443|\n",
      "+-----+-----------------+\n",
      "\n"
     ]
    }
   ],
   "source": [
    "spark.sql('''SELECT churn, COUNT(*)/COUNT(DISTINCT userId) AS upgrade FROM df_churn \n",
    "             WHERE page = 'Upgrade' \n",
    "             GROUP BY churn''').show();"
   ]
  },
  {
   "cell_type": "markdown",
   "metadata": {},
   "source": [
    "## Inspect churn with the other columns"
   ]
  },
  {
   "cell_type": "code",
   "execution_count": 52,
   "metadata": {},
   "outputs": [
    {
     "name": "stdout",
     "output_type": "stream",
     "text": [
      "root\n",
      " |-- artist: string (nullable = true)\n",
      " |-- auth: string (nullable = true)\n",
      " |-- firstName: string (nullable = true)\n",
      " |-- gender: string (nullable = true)\n",
      " |-- itemInSession: long (nullable = true)\n",
      " |-- lastName: string (nullable = true)\n",
      " |-- length: double (nullable = true)\n",
      " |-- level: string (nullable = true)\n",
      " |-- location: string (nullable = true)\n",
      " |-- method: string (nullable = true)\n",
      " |-- page: string (nullable = true)\n",
      " |-- registration: long (nullable = true)\n",
      " |-- sessionId: long (nullable = true)\n",
      " |-- song: string (nullable = true)\n",
      " |-- status: long (nullable = true)\n",
      " |-- ts: long (nullable = true)\n",
      " |-- userAgent: string (nullable = true)\n",
      " |-- userId: string (nullable = true)\n",
      " |-- churn: boolean (nullable = true)\n",
      "\n"
     ]
    }
   ],
   "source": [
    "df_churn.printSchema()"
   ]
  },
  {
   "cell_type": "markdown",
   "metadata": {},
   "source": [
    "### Feature 9"
   ]
  },
  {
   "cell_type": "code",
   "execution_count": 53,
   "metadata": {},
   "outputs": [
    {
     "name": "stdout",
     "output_type": "stream",
     "text": [
      "+-----+------------------+\n",
      "|churn|        avg_artist|\n",
      "+-----+------------------+\n",
      "| true| 5.339681028326589|\n",
      "|false|14.009728561133798|\n",
      "+-----+------------------+\n",
      "\n"
     ]
    }
   ],
   "source": [
    "spark.sql('''SELECT churn, COUNT(*)/COUNT(DISTINCT artist) AS avg_artist FROM df_churn\n",
    "          GROUP BY churn''').show()"
   ]
  },
  {
   "cell_type": "code",
   "execution_count": 54,
   "metadata": {},
   "outputs": [
    {
     "name": "stdout",
     "output_type": "stream",
     "text": [
      "+------+------+\n",
      "|userID|artist|\n",
      "+------+------+\n",
      "|    10|   565|\n",
      "|   100|  1705|\n",
      "|100001|   125|\n",
      "|100002|   184|\n",
      "|100003|    50|\n",
      "+------+------+\n",
      "only showing top 5 rows\n",
      "\n"
     ]
    }
   ],
   "source": [
    "feature_artist = spark.sql('''SELECT userID, COUNT(DISTINCT artist) as artist\n",
    "                              FROM df_churn GROUP BY userID ORDER BY userID''')\n",
    "feature_artist.show(5)\n",
    "features.append(feature_artist)"
   ]
  },
  {
   "cell_type": "code",
   "execution_count": 55,
   "metadata": {},
   "outputs": [
    {
     "name": "stderr",
     "output_type": "stream",
     "text": [
      "/opt/conda/lib/python3.6/site-packages/matplotlib/font_manager.py:1316: UserWarning: findfont: Font family ['Times New Roman'] not found. Falling back to DejaVu Sans\n",
      "  (prop.get_family(), self.defaultFamily[fontext]))\n"
     ]
    },
    {
     "data": {
      "image/png": "[encoded data removed]",
      "text/plain": [
       "<matplotlib.figure.Figure at 0x7f70f51efcf8>"
      ]
     },
     "metadata": {
      "needs_background": "light"
     },
     "output_type": "display_data"
    }
   ],
   "source": [
    "pd_artist = spark.sql('''SELECT churn, COUNT(*)/COUNT(DISTINCT artist) AS avg_artist FROM df_churn\n",
    "          GROUP BY churn''').toPandas()\n",
    "save_barplot(x1='churn', x2='Churn', y1='avg_artist', y2='Artist', data=pd_artist)"
   ]
  },
  {
   "cell_type": "markdown",
   "metadata": {},
   "source": [
    "### Feature 10"
   ]
  },
  {
   "cell_type": "code",
   "execution_count": 56,
   "metadata": {},
   "outputs": [
    {
     "name": "stdout",
     "output_type": "stream",
     "text": [
      "+-----+--------+\n",
      "|churn|avg_auth|\n",
      "+-----+--------+\n",
      "| true| 22432.0|\n",
      "|false|233290.0|\n",
      "+-----+--------+\n",
      "\n"
     ]
    }
   ],
   "source": [
    "spark.sql('''SELECT churn, COUNT(*)/COUNT(DISTINCT auth) AS avg_auth FROM df_churn\n",
    "          GROUP BY churn''').show()"
   ]
  },
  {
   "cell_type": "code",
   "execution_count": 57,
   "metadata": {},
   "outputs": [
    {
     "name": "stdout",
     "output_type": "stream",
     "text": [
      "+------+----+\n",
      "|userID|auth|\n",
      "+------+----+\n",
      "|    10| 795|\n",
      "|   100|3214|\n",
      "|100001| 186|\n",
      "|100002| 218|\n",
      "|100003|  77|\n",
      "+------+----+\n",
      "only showing top 5 rows\n",
      "\n"
     ]
    }
   ],
   "source": [
    "feature_auth = spark.sql('''SELECT userID, COUNT(*) as auth\n",
    "                            FROM df_churn WHERE auth = 'Logged In' GROUP BY userID \n",
    "                            ORDER BY userID''')\n",
    "feature_auth.show(5)\n",
    "features.append(feature_auth)"
   ]
  },
  {
   "cell_type": "code",
   "execution_count": 58,
   "metadata": {},
   "outputs": [
    {
     "name": "stderr",
     "output_type": "stream",
     "text": [
      "/opt/conda/lib/python3.6/site-packages/matplotlib/font_manager.py:1316: UserWarning: findfont: Font family ['Times New Roman'] not found. Falling back to DejaVu Sans\n",
      "  (prop.get_family(), self.defaultFamily[fontext]))\n"
     ]
    },
    {
     "data": {
      "image/png": "[encoded data removed]",
      "text/plain": [
       "<matplotlib.figure.Figure at 0x7f70f5183cc0>"
      ]
     },
     "metadata": {
      "needs_background": "light"
     },
     "output_type": "display_data"
    }
   ],
   "source": [
    "pd_auth = spark.sql('''SELECT churn, COUNT(*)/COUNT(DISTINCT auth) AS avg_auth FROM df_churn\n",
    "          GROUP BY churn''').toPandas()\n",
    "save_barplot(x1='churn', x2='Churn', y1='avg_auth', y2='Auth', data=pd_auth)"
   ]
  },
  {
   "cell_type": "markdown",
   "metadata": {},
   "source": [
    "### Feature 11"
   ]
  },
  {
   "cell_type": "code",
   "execution_count": 59,
   "metadata": {},
   "outputs": [
    {
     "name": "stdout",
     "output_type": "stream",
     "text": [
      "+-----+------+------------------+\n",
      "|churn|gender|        avg_gender|\n",
      "+-----+------+------------------+\n",
      "| true|     F|             958.4|\n",
      "|false|     M|1099.7752808988764|\n",
      "| true|     M|             803.0|\n",
      "|false|     F|1612.0238095238096|\n",
      "+-----+------+------------------+\n",
      "\n"
     ]
    }
   ],
   "source": [
    "spark.sql('''SELECT churn, gender, COUNT(*)/COUNT(DISTINCT userId) \n",
    "             AS avg_gender FROM df_churn GROUP BY churn, gender''').show();"
   ]
  },
  {
   "cell_type": "code",
   "execution_count": 60,
   "metadata": {},
   "outputs": [
    {
     "name": "stdout",
     "output_type": "stream",
     "text": [
      "+------+------+\n",
      "|userId|gender|\n",
      "+------+------+\n",
      "|    10|     1|\n",
      "|   100|     1|\n",
      "|100001|     0|\n",
      "|100002|     0|\n",
      "|100003|     0|\n",
      "+------+------+\n",
      "only showing top 5 rows\n",
      "\n"
     ]
    }
   ],
   "source": [
    "feature_gender = spark.sql('''SELECT DISTINCT(userId), CASE WHEN gender='M' then 1 \n",
    "                         else 0 END AS gender FROM df_churn ORDER BY userId''')\n",
    "feature_gender.show(5)\n",
    "features.append(feature_gender)"
   ]
  },
  {
   "cell_type": "code",
   "execution_count": 61,
   "metadata": {},
   "outputs": [
    {
     "name": "stderr",
     "output_type": "stream",
     "text": [
      "/opt/conda/lib/python3.6/site-packages/matplotlib/font_manager.py:1316: UserWarning: findfont: Font family ['Times New Roman'] not found. Falling back to DejaVu Sans\n",
      "  (prop.get_family(), self.defaultFamily[fontext]))\n"
     ]
    },
    {
     "data": {
      "image/png": "[encoded data removed]",
      "text/plain": [
       "<matplotlib.figure.Figure at 0x7f70f4e32e80>"
      ]
     },
     "metadata": {
      "needs_background": "light"
     },
     "output_type": "display_data"
    }
   ],
   "source": [
    "pd_gender = spark.sql('''SELECT churn, gender, COUNT(*)/COUNT(DISTINCT userId) \n",
    "             AS avg_gender FROM df_churn GROUP BY churn, gender''').toPandas()\n",
    "save_barplot(x1='churn', x2='Churn', y1='avg_gender', y2='Gender', data=pd_gender)"
   ]
  },
  {
   "cell_type": "markdown",
   "metadata": {},
   "source": [
    "### Feature 12"
   ]
  },
  {
   "cell_type": "code",
   "execution_count": 62,
   "metadata": {},
   "outputs": [
    {
     "name": "stdout",
     "output_type": "stream",
     "text": [
      "+------+-----+\n",
      "|userID|level|\n",
      "+------+-----+\n",
      "|    10|    1|\n",
      "|   100|    0|\n",
      "|   100|    1|\n",
      "|100001|    0|\n",
      "|100002|    1|\n",
      "+------+-----+\n",
      "only showing top 5 rows\n",
      "\n"
     ]
    }
   ],
   "source": [
    "feature_level = spark.sql('''SELECT DISTINCT userID, CASE WHEN level == \"paid\" THEN 1 ELSE 0 END as level\n",
    "                          FROM df_churn\n",
    "                          GROUP BY userID, level\n",
    "                          ORDER BY userID\n",
    "                          ''')\n",
    "feature_level.show(5)\n",
    "features.append(feature_level)"
   ]
  },
  {
   "cell_type": "code",
   "execution_count": 63,
   "metadata": {},
   "outputs": [
    {
     "name": "stderr",
     "output_type": "stream",
     "text": [
      "/opt/conda/lib/python3.6/site-packages/matplotlib/font_manager.py:1316: UserWarning: findfont: Font family ['Times New Roman'] not found. Falling back to DejaVu Sans\n",
      "  (prop.get_family(), self.defaultFamily[fontext]))\n"
     ]
    },
    {
     "data": {
      "image/png": "[encoded data removed]",
      "text/plain": [
       "<matplotlib.figure.Figure at 0x7f70f4c54470>"
      ]
     },
     "metadata": {
      "needs_background": "light"
     },
     "output_type": "display_data"
    }
   ],
   "source": [
    "feature_churn = spark.sql('''SELECT DISTINCT(userId), churn FROM df_churn''')\n",
    "base = spark.sql('''SELECT DISTINCT userId FROM df_churn ORDER BY userID''')\n",
    "base = base.join(feature_churn, 'userId')\n",
    "base = base.join(feature_level, 'userId')\n",
    "base.createOrReplaceTempView('df_base')\n",
    "pd_level = spark.sql('''SELECT churn, COUNT(*) AS level FROM df_base GROUP BY churn''').toPandas()\n",
    "save_barplot(x1='churn', x2='Churn', y1='level', y2='Level', data=pd_level)"
   ]
  },
  {
   "cell_type": "markdown",
   "metadata": {},
   "source": [
    "### Feature 13"
   ]
  },
  {
   "cell_type": "code",
   "execution_count": 66,
   "metadata": {},
   "outputs": [
    {
     "name": "stdout",
     "output_type": "stream",
     "text": [
      "+------+---------+--------+\n",
      "|userId|sessionId|duration|\n",
      "+------+---------+--------+\n",
      "|    10|     1981|20138000|\n",
      "|    10|     1047| 5485000|\n",
      "|    10|     1414|15336000|\n",
      "|    10|        9|14152000|\n",
      "|    10|     1592|17523000|\n",
      "|    10|      595|92875000|\n",
      "|   100|     1279| 6079000|\n",
      "+------+---------+--------+\n",
      "only showing top 7 rows\n",
      "\n",
      "+------+---------+\n",
      "|userId| duration|\n",
      "+------+---------+\n",
      "|    10|165509000|\n",
      "|   100|664690000|\n",
      "+------+---------+\n",
      "only showing top 2 rows\n",
      "\n"
     ]
    }
   ],
   "source": [
    "df_duration = spark.sql('''SELECT DISTINCT userId,  sessionId, (MAX(ts) - MIN(ts)) as duration\n",
    "                       FROM df_churn GROUP BY userId, sessionId ORDER BY userId''')\n",
    "df_duration.show(7)\n",
    "df_duration.createOrReplaceTempView(\"df_duration\")\n",
    "feature_duration = spark.sql('''SELECT userId, SUM(NVL(duration, 0)) AS duration FROM df_duration GROUP BY userId''')\n",
    "feature_duration.show(2)\n",
    "features.append(feature_duration)"
   ]
  },
  {
   "cell_type": "code",
   "execution_count": 67,
   "metadata": {},
   "outputs": [
    {
     "name": "stderr",
     "output_type": "stream",
     "text": [
      "/opt/conda/lib/python3.6/site-packages/matplotlib/font_manager.py:1316: UserWarning: findfont: Font family ['Times New Roman'] not found. Falling back to DejaVu Sans\n",
      "  (prop.get_family(), self.defaultFamily[fontext]))\n"
     ]
    },
    {
     "data": {
      "image/png": "[encoded data removed]",
      "text/plain": [
       "<matplotlib.figure.Figure at 0x7f70f4a18908>"
      ]
     },
     "metadata": {
      "needs_background": "light"
     },
     "output_type": "display_data"
    }
   ],
   "source": [
    "feature_churn = spark.sql('''SELECT DISTINCT(userId), churn FROM df_churn''')\n",
    "base = spark.sql('''SELECT DISTINCT userId FROM df_churn ORDER BY userID''')\n",
    "base = base.join(feature_churn, 'userId')\n",
    "base = base.join(feature_duration, 'userId')\n",
    "base.createOrReplaceTempView('df_base')\n",
    "pd_duration = spark.sql('''SELECT churn, SUM(duration) AS duration FROM df_base GROUP BY churn''').toPandas()\n",
    "save_barplot(x1='churn', x2='Churn', y1='duration', y2='Duration', data=pd_duration)"
   ]
  },
  {
   "cell_type": "markdown",
   "metadata": {},
   "source": [
    "###  Feature 14"
   ]
  },
  {
   "cell_type": "code",
   "execution_count": 68,
   "metadata": {},
   "outputs": [
    {
     "name": "stdout",
     "output_type": "stream",
     "text": [
      "+------+---------+\n",
      "|userId|sessionId|\n",
      "+------+---------+\n",
      "|    10|     1981|\n",
      "|    10|     1047|\n",
      "|    10|     1414|\n",
      "|    10|        9|\n",
      "|    10|     1592|\n",
      "|    10|      595|\n",
      "|   100|     1279|\n",
      "+------+---------+\n",
      "only showing top 7 rows\n",
      "\n",
      "+------+-------------+\n",
      "|userId|sessionId_num|\n",
      "+------+-------------+\n",
      "|    10|            6|\n",
      "|   100|           35|\n",
      "+------+-------------+\n",
      "only showing top 2 rows\n",
      "\n"
     ]
    }
   ],
   "source": [
    "df_sessionId = spark.sql('''SELECT userId, sessionId FROM df_churn GROUP BY userId, sessionId ORDER BY userId ''')\n",
    "df_sessionId.show(7)\n",
    "df_sessionId.createOrReplaceTempView(\"df_sessionId\")\n",
    "feature_sessionId_num = spark.sql('''SELECT userId, COUNT(*) AS sessionId_num FROM df_sessionId GROUP BY userId ORDER BY userId ''')\n",
    "feature_sessionId_num.show(2)\n",
    "features.append(feature_sessionId_num)"
   ]
  },
  {
   "cell_type": "code",
   "execution_count": 69,
   "metadata": {},
   "outputs": [
    {
     "name": "stderr",
     "output_type": "stream",
     "text": [
      "/opt/conda/lib/python3.6/site-packages/matplotlib/font_manager.py:1316: UserWarning: findfont: Font family ['Times New Roman'] not found. Falling back to DejaVu Sans\n",
      "  (prop.get_family(), self.defaultFamily[fontext]))\n"
     ]
    },
    {
     "data": {
      "image/png": "[encoded data removed]",
      "text/plain": [
       "<matplotlib.figure.Figure at 0x7f70f48c8eb8>"
      ]
     },
     "metadata": {
      "needs_background": "light"
     },
     "output_type": "display_data"
    }
   ],
   "source": [
    "feature_churn = spark.sql('''SELECT DISTINCT(userId), churn FROM df_churn''')\n",
    "base = spark.sql('''SELECT DISTINCT userId FROM df_churn ORDER BY userID''')\n",
    "base = base.join(feature_sessionId_num, 'userId')\n",
    "base = base.join(feature_churn, 'userId')\n",
    "base.createOrReplaceTempView('df_base')\n",
    "pd_sessionId_num = spark.sql('''SELECT churn, SUM(sessionId_num) AS sessionId_num FROM df_base GROUP BY churn''').toPandas()\n",
    "save_barplot(x1='churn', x2='Churn', y1='sessionId_num', y2='SessionId Number', data=pd_sessionId_num)"
   ]
  },
  {
   "cell_type": "markdown",
   "metadata": {},
   "source": [
    "###  Feature 15"
   ]
  },
  {
   "cell_type": "code",
   "execution_count": 70,
   "metadata": {},
   "outputs": [
    {
     "name": "stdout",
     "output_type": "stream",
     "text": [
      "+------+---------+-----------------+---------+\n",
      "|userId|sessionId|itemInSession_num|dummy_num|\n",
      "+------+---------+-----------------+---------+\n",
      "|    10|     1981|               98|        1|\n",
      "|    10|     1047|               24|        1|\n",
      "|    10|     1414|               81|        1|\n",
      "|    10|        9|               71|        1|\n",
      "|    10|     1592|               83|        1|\n",
      "|    10|      595|              456|        1|\n",
      "|   100|     1279|               30|        1|\n",
      "+------+---------+-----------------+---------+\n",
      "only showing top 7 rows\n",
      "\n",
      "+------+---------------------+\n",
      "|userId|itemInSession_avg_num|\n",
      "+------+---------------------+\n",
      "|    10|                135.5|\n",
      "+------+---------------------+\n",
      "only showing top 1 row\n",
      "\n"
     ]
    }
   ],
   "source": [
    "df_itemInSession_num = spark.sql('''SELECT userId, sessionId, MAX(itemInSession) as itemInSession_num FROM df_churn GROUP BY userId, sessionId\n",
    "                                ORDER BY userId''')\n",
    "df_itemInSession_num = df_itemInSession_num.withColumn(\"dummy_num\", lit(1))\n",
    "df_itemInSession_num.show(7)\n",
    "df_itemInSession_num.createOrReplaceTempView(\"df_itemInSession_num\")\n",
    "feature_itemInSession_avg_num = spark.sql('''SELECT userId, (SUM(itemInSession_num)/SUM(dummy_num)) AS itemInSession_avg_num FROM df_itemInSession_num \n",
    "                                             GROUP BY userId ORDER BY userId ''')\n",
    "feature_itemInSession_avg_num.show(1)\n",
    "features.append(feature_itemInSession_avg_num)"
   ]
  },
  {
   "cell_type": "code",
   "execution_count": 71,
   "metadata": {},
   "outputs": [
    {
     "name": "stderr",
     "output_type": "stream",
     "text": [
      "/opt/conda/lib/python3.6/site-packages/matplotlib/font_manager.py:1316: UserWarning: findfont: Font family ['Times New Roman'] not found. Falling back to DejaVu Sans\n",
      "  (prop.get_family(), self.defaultFamily[fontext]))\n"
     ]
    },
    {
     "data": {
      "image/png": "[encoded data removed]",
      "text/plain": [
       "<matplotlib.figure.Figure at 0x7f70f4a3d7b8>"
      ]
     },
     "metadata": {
      "needs_background": "light"
     },
     "output_type": "display_data"
    }
   ],
   "source": [
    "feature_churn = spark.sql('''SELECT DISTINCT(userId), churn FROM df_churn''')\n",
    "base = spark.sql('''SELECT DISTINCT userId FROM df_churn ORDER BY userID''')\n",
    "base = base.join(feature_itemInSession_avg_num, 'userId')\n",
    "base = base.join(feature_churn, 'userId')\n",
    "base.createOrReplaceTempView('df_base')\n",
    "pd_itemInSession_avg_num = spark.sql('''SELECT churn, SUM(itemInSession_avg_num) AS itemInSession_num FROM df_base GROUP BY churn''').toPandas()\n",
    "save_barplot(x1='churn', x2='Churn', y1='itemInSession_num', y2='Operations per Session', data=pd_itemInSession_avg_num)"
   ]
  },
  {
   "cell_type": "markdown",
   "metadata": {},
   "source": [
    "### Feature 16"
   ]
  },
  {
   "cell_type": "code",
   "execution_count": 72,
   "metadata": {},
   "outputs": [
    {
     "name": "stdout",
     "output_type": "stream",
     "text": [
      "+-----+------------------+\n",
      "|churn|          avg_song|\n",
      "+-----+------------------+\n",
      "| true| 699.8846153846154|\n",
      "|false|1108.1734104046243|\n",
      "+-----+------------------+\n",
      "\n"
     ]
    }
   ],
   "source": [
    "spark.sql('''SELECT churn, COUNT(*)/COUNT(DISTINCT(userId)) AS avg_song \n",
    "            FROM df_churn WHERE song NOT IN (\"Null\") GROUP BY churn''').show()"
   ]
  },
  {
   "cell_type": "code",
   "execution_count": 73,
   "metadata": {},
   "outputs": [
    {
     "name": "stdout",
     "output_type": "stream",
     "text": [
      "+------+-----+\n",
      "|userID|songs|\n",
      "+------+-----+\n",
      "|    10|  673|\n",
      "|   100| 2682|\n",
      "|100001|  133|\n",
      "|100002|  195|\n",
      "|100003|   51|\n",
      "+------+-----+\n",
      "only showing top 5 rows\n",
      "\n"
     ]
    }
   ],
   "source": [
    "feature_songs = spark.sql('''SELECT userID, COUNT(*) as songs\n",
    "                            FROM df_churn \n",
    "                            WHERE song NOT IN (\"Null\") \n",
    "                            GROUP by userID ORDER BY userId''')\n",
    "feature_songs.show(5)\n",
    "features.append(feature_songs)"
   ]
  },
  {
   "cell_type": "code",
   "execution_count": 74,
   "metadata": {},
   "outputs": [
    {
     "name": "stderr",
     "output_type": "stream",
     "text": [
      "/opt/conda/lib/python3.6/site-packages/matplotlib/font_manager.py:1316: UserWarning: findfont: Font family ['Times New Roman'] not found. Falling back to DejaVu Sans\n",
      "  (prop.get_family(), self.defaultFamily[fontext]))\n"
     ]
    },
    {
     "data": {
      "image/png": "[encoded data removed]",
      "text/plain": [
       "<matplotlib.figure.Figure at 0x7f70f4743dd8>"
      ]
     },
     "metadata": {
      "needs_background": "light"
     },
     "output_type": "display_data"
    }
   ],
   "source": [
    "pd_avg_song = spark.sql('''SELECT churn, COUNT(*)/COUNT(DISTINCT(userId)) AS avg_song \n",
    "            FROM df_churn WHERE song NOT IN (\"Null\") GROUP BY churn''').toPandas()\n",
    "save_barplot(x1='churn', x2='Churn', y1='avg_song', y2='Avg. Song', data=pd_avg_song)"
   ]
  },
  {
   "cell_type": "markdown",
   "metadata": {},
   "source": [
    "### Feature 17 - churn, which will become the target in the later processing"
   ]
  },
  {
   "cell_type": "code",
   "execution_count": 75,
   "metadata": {},
   "outputs": [],
   "source": [
    "feature_churn = spark.sql('''SELECT DISTINCT(userId), CASE WHEN churn='false' then 0 \n",
    "                            WHEN churn='true' then 1 END AS churn FROM df_churn''')\n",
    "features.append(feature_churn)"
   ]
  },
  {
   "cell_type": "markdown",
   "metadata": {},
   "source": [
    "### Merge features"
   ]
  },
  {
   "cell_type": "code",
   "execution_count": 76,
   "metadata": {},
   "outputs": [
    {
     "name": "stdout",
     "output_type": "stream",
     "text": [
      "(273, 18)\n"
     ]
    }
   ],
   "source": [
    "data = spark.sql('''SELECT DISTINCT userID FROM df_churn ORDER BY userID''')\n",
    "for feature in features:\n",
    "    data = data.join(feature,'userId')\n",
    "        \n",
    "print((data.count(), len(data.columns)))"
   ]
  },
  {
   "cell_type": "markdown",
   "metadata": {},
   "source": [
    "### See data"
   ]
  },
  {
   "cell_type": "code",
   "execution_count": 77,
   "metadata": {},
   "outputs": [
    {
     "data": {
      "text/html": [
       "<div>\n",
       "<style scoped>\n",
       "    .dataframe tbody tr th:only-of-type {\n",
       "        vertical-align: middle;\n",
       "    }\n",
       "\n",
       "    .dataframe tbody tr th {\n",
       "        vertical-align: top;\n",
       "    }\n",
       "\n",
       "    .dataframe thead th {\n",
       "        text-align: right;\n",
       "    }\n",
       "</style>\n",
       "<table border=\"1\" class=\"dataframe\">\n",
       "  <thead>\n",
       "    <tr style=\"text-align: right;\">\n",
       "      <th></th>\n",
       "      <th>0</th>\n",
       "      <th>1</th>\n",
       "      <th>2</th>\n",
       "      <th>3</th>\n",
       "      <th>4</th>\n",
       "      <th>5</th>\n",
       "      <th>6</th>\n",
       "      <th>7</th>\n",
       "      <th>8</th>\n",
       "      <th>9</th>\n",
       "      <th>...</th>\n",
       "      <th>263</th>\n",
       "      <th>264</th>\n",
       "      <th>265</th>\n",
       "      <th>266</th>\n",
       "      <th>267</th>\n",
       "      <th>268</th>\n",
       "      <th>269</th>\n",
       "      <th>270</th>\n",
       "      <th>271</th>\n",
       "      <th>272</th>\n",
       "    </tr>\n",
       "  </thead>\n",
       "  <tbody>\n",
       "    <tr>\n",
       "      <th>userID</th>\n",
       "      <td>200002</td>\n",
       "      <td>200002</td>\n",
       "      <td>124</td>\n",
       "      <td>51</td>\n",
       "      <td>15</td>\n",
       "      <td>54</td>\n",
       "      <td>54</td>\n",
       "      <td>155</td>\n",
       "      <td>155</td>\n",
       "      <td>100014</td>\n",
       "      <td>...</td>\n",
       "      <td>2</td>\n",
       "      <td>100018</td>\n",
       "      <td>100018</td>\n",
       "      <td>145</td>\n",
       "      <td>50</td>\n",
       "      <td>50</td>\n",
       "      <td>45</td>\n",
       "      <td>45</td>\n",
       "      <td>200021</td>\n",
       "      <td>200021</td>\n",
       "    </tr>\n",
       "    <tr>\n",
       "      <th>add_friend</th>\n",
       "      <td>4</td>\n",
       "      <td>4</td>\n",
       "      <td>74</td>\n",
       "      <td>28</td>\n",
       "      <td>31</td>\n",
       "      <td>33</td>\n",
       "      <td>33</td>\n",
       "      <td>11</td>\n",
       "      <td>11</td>\n",
       "      <td>6</td>\n",
       "      <td>...</td>\n",
       "      <td>20</td>\n",
       "      <td>23</td>\n",
       "      <td>23</td>\n",
       "      <td>34</td>\n",
       "      <td>9</td>\n",
       "      <td>9</td>\n",
       "      <td>22</td>\n",
       "      <td>22</td>\n",
       "      <td>19</td>\n",
       "      <td>19</td>\n",
       "    </tr>\n",
       "    <tr>\n",
       "      <th>add_to_playlist</th>\n",
       "      <td>8</td>\n",
       "      <td>8</td>\n",
       "      <td>118</td>\n",
       "      <td>52</td>\n",
       "      <td>59</td>\n",
       "      <td>72</td>\n",
       "      <td>72</td>\n",
       "      <td>24</td>\n",
       "      <td>24</td>\n",
       "      <td>7</td>\n",
       "      <td>...</td>\n",
       "      <td>13</td>\n",
       "      <td>31</td>\n",
       "      <td>31</td>\n",
       "      <td>27</td>\n",
       "      <td>12</td>\n",
       "      <td>12</td>\n",
       "      <td>43</td>\n",
       "      <td>43</td>\n",
       "      <td>30</td>\n",
       "      <td>30</td>\n",
       "    </tr>\n",
       "    <tr>\n",
       "      <th>Downgrade</th>\n",
       "      <td>5</td>\n",
       "      <td>5</td>\n",
       "      <td>41</td>\n",
       "      <td>23</td>\n",
       "      <td>28</td>\n",
       "      <td>39</td>\n",
       "      <td>39</td>\n",
       "      <td>12</td>\n",
       "      <td>12</td>\n",
       "      <td>3</td>\n",
       "      <td>...</td>\n",
       "      <td>13</td>\n",
       "      <td>9</td>\n",
       "      <td>9</td>\n",
       "      <td>12</td>\n",
       "      <td>2</td>\n",
       "      <td>2</td>\n",
       "      <td>18</td>\n",
       "      <td>18</td>\n",
       "      <td>26</td>\n",
       "      <td>26</td>\n",
       "    </tr>\n",
       "    <tr>\n",
       "      <th>help</th>\n",
       "      <td>2</td>\n",
       "      <td>2</td>\n",
       "      <td>23</td>\n",
       "      <td>12</td>\n",
       "      <td>8</td>\n",
       "      <td>17</td>\n",
       "      <td>17</td>\n",
       "      <td>9</td>\n",
       "      <td>9</td>\n",
       "      <td>2</td>\n",
       "      <td>...</td>\n",
       "      <td>4</td>\n",
       "      <td>7</td>\n",
       "      <td>7</td>\n",
       "      <td>1</td>\n",
       "      <td>7</td>\n",
       "      <td>7</td>\n",
       "      <td>5</td>\n",
       "      <td>5</td>\n",
       "      <td>4</td>\n",
       "      <td>4</td>\n",
       "    </tr>\n",
       "    <tr>\n",
       "      <th>Home</th>\n",
       "      <td>20</td>\n",
       "      <td>20</td>\n",
       "      <td>176</td>\n",
       "      <td>75</td>\n",
       "      <td>93</td>\n",
       "      <td>129</td>\n",
       "      <td>129</td>\n",
       "      <td>30</td>\n",
       "      <td>30</td>\n",
       "      <td>7</td>\n",
       "      <td>...</td>\n",
       "      <td>35</td>\n",
       "      <td>43</td>\n",
       "      <td>43</td>\n",
       "      <td>42</td>\n",
       "      <td>25</td>\n",
       "      <td>25</td>\n",
       "      <td>65</td>\n",
       "      <td>65</td>\n",
       "      <td>54</td>\n",
       "      <td>54</td>\n",
       "    </tr>\n",
       "    <tr>\n",
       "      <th>nextSong</th>\n",
       "      <td>387</td>\n",
       "      <td>387</td>\n",
       "      <td>4079</td>\n",
       "      <td>2111</td>\n",
       "      <td>1914</td>\n",
       "      <td>2841</td>\n",
       "      <td>2841</td>\n",
       "      <td>820</td>\n",
       "      <td>820</td>\n",
       "      <td>257</td>\n",
       "      <td>...</td>\n",
       "      <td>755</td>\n",
       "      <td>1002</td>\n",
       "      <td>1002</td>\n",
       "      <td>1129</td>\n",
       "      <td>503</td>\n",
       "      <td>503</td>\n",
       "      <td>1484</td>\n",
       "      <td>1484</td>\n",
       "      <td>1227</td>\n",
       "      <td>1227</td>\n",
       "    </tr>\n",
       "    <tr>\n",
       "      <th>thumbs_down</th>\n",
       "      <td>6</td>\n",
       "      <td>6</td>\n",
       "      <td>41</td>\n",
       "      <td>21</td>\n",
       "      <td>14</td>\n",
       "      <td>29</td>\n",
       "      <td>29</td>\n",
       "      <td>3</td>\n",
       "      <td>3</td>\n",
       "      <td>3</td>\n",
       "      <td>...</td>\n",
       "      <td>6</td>\n",
       "      <td>9</td>\n",
       "      <td>9</td>\n",
       "      <td>8</td>\n",
       "      <td>3</td>\n",
       "      <td>3</td>\n",
       "      <td>13</td>\n",
       "      <td>13</td>\n",
       "      <td>35</td>\n",
       "      <td>35</td>\n",
       "    </tr>\n",
       "    <tr>\n",
       "      <th>thumbs_up</th>\n",
       "      <td>21</td>\n",
       "      <td>21</td>\n",
       "      <td>171</td>\n",
       "      <td>100</td>\n",
       "      <td>81</td>\n",
       "      <td>163</td>\n",
       "      <td>163</td>\n",
       "      <td>58</td>\n",
       "      <td>58</td>\n",
       "      <td>17</td>\n",
       "      <td>...</td>\n",
       "      <td>29</td>\n",
       "      <td>46</td>\n",
       "      <td>46</td>\n",
       "      <td>61</td>\n",
       "      <td>27</td>\n",
       "      <td>27</td>\n",
       "      <td>67</td>\n",
       "      <td>67</td>\n",
       "      <td>55</td>\n",
       "      <td>55</td>\n",
       "    </tr>\n",
       "    <tr>\n",
       "      <th>artist</th>\n",
       "      <td>339</td>\n",
       "      <td>339</td>\n",
       "      <td>2232</td>\n",
       "      <td>1385</td>\n",
       "      <td>1302</td>\n",
       "      <td>1744</td>\n",
       "      <td>1744</td>\n",
       "      <td>643</td>\n",
       "      <td>643</td>\n",
       "      <td>233</td>\n",
       "      <td>...</td>\n",
       "      <td>587</td>\n",
       "      <td>780</td>\n",
       "      <td>780</td>\n",
       "      <td>868</td>\n",
       "      <td>423</td>\n",
       "      <td>423</td>\n",
       "      <td>1057</td>\n",
       "      <td>1057</td>\n",
       "      <td>908</td>\n",
       "      <td>908</td>\n",
       "    </tr>\n",
       "    <tr>\n",
       "      <th>auth</th>\n",
       "      <td>474</td>\n",
       "      <td>474</td>\n",
       "      <td>4825</td>\n",
       "      <td>2463</td>\n",
       "      <td>2278</td>\n",
       "      <td>3436</td>\n",
       "      <td>3436</td>\n",
       "      <td>1002</td>\n",
       "      <td>1002</td>\n",
       "      <td>309</td>\n",
       "      <td>...</td>\n",
       "      <td>899</td>\n",
       "      <td>1288</td>\n",
       "      <td>1288</td>\n",
       "      <td>1347</td>\n",
       "      <td>651</td>\n",
       "      <td>651</td>\n",
       "      <td>1776</td>\n",
       "      <td>1776</td>\n",
       "      <td>1501</td>\n",
       "      <td>1501</td>\n",
       "    </tr>\n",
       "    <tr>\n",
       "      <th>gender</th>\n",
       "      <td>1</td>\n",
       "      <td>1</td>\n",
       "      <td>0</td>\n",
       "      <td>1</td>\n",
       "      <td>1</td>\n",
       "      <td>0</td>\n",
       "      <td>0</td>\n",
       "      <td>0</td>\n",
       "      <td>0</td>\n",
       "      <td>1</td>\n",
       "      <td>...</td>\n",
       "      <td>0</td>\n",
       "      <td>1</td>\n",
       "      <td>1</td>\n",
       "      <td>0</td>\n",
       "      <td>0</td>\n",
       "      <td>0</td>\n",
       "      <td>0</td>\n",
       "      <td>0</td>\n",
       "      <td>0</td>\n",
       "      <td>0</td>\n",
       "    </tr>\n",
       "    <tr>\n",
       "      <th>level</th>\n",
       "      <td>0</td>\n",
       "      <td>1</td>\n",
       "      <td>1</td>\n",
       "      <td>1</td>\n",
       "      <td>1</td>\n",
       "      <td>0</td>\n",
       "      <td>1</td>\n",
       "      <td>1</td>\n",
       "      <td>0</td>\n",
       "      <td>1</td>\n",
       "      <td>...</td>\n",
       "      <td>1</td>\n",
       "      <td>1</td>\n",
       "      <td>0</td>\n",
       "      <td>1</td>\n",
       "      <td>0</td>\n",
       "      <td>1</td>\n",
       "      <td>0</td>\n",
       "      <td>1</td>\n",
       "      <td>1</td>\n",
       "      <td>0</td>\n",
       "    </tr>\n",
       "    <tr>\n",
       "      <th>duration</th>\n",
       "      <td>95904000</td>\n",
       "      <td>95904000</td>\n",
       "      <td>1007450000</td>\n",
       "      <td>523414000</td>\n",
       "      <td>475455000</td>\n",
       "      <td>715483000</td>\n",
       "      <td>715483000</td>\n",
       "      <td>197486000</td>\n",
       "      <td>197486000</td>\n",
       "      <td>66533000</td>\n",
       "      <td>...</td>\n",
       "      <td>186907000</td>\n",
       "      <td>243416000</td>\n",
       "      <td>243416000</td>\n",
       "      <td>284321000</td>\n",
       "      <td>126852000</td>\n",
       "      <td>126852000</td>\n",
       "      <td>364594000</td>\n",
       "      <td>364594000</td>\n",
       "      <td>296928000</td>\n",
       "      <td>296928000</td>\n",
       "    </tr>\n",
       "    <tr>\n",
       "      <th>sessionId_num</th>\n",
       "      <td>6</td>\n",
       "      <td>6</td>\n",
       "      <td>29</td>\n",
       "      <td>10</td>\n",
       "      <td>15</td>\n",
       "      <td>37</td>\n",
       "      <td>37</td>\n",
       "      <td>6</td>\n",
       "      <td>6</td>\n",
       "      <td>6</td>\n",
       "      <td>...</td>\n",
       "      <td>7</td>\n",
       "      <td>21</td>\n",
       "      <td>21</td>\n",
       "      <td>15</td>\n",
       "      <td>8</td>\n",
       "      <td>8</td>\n",
       "      <td>16</td>\n",
       "      <td>16</td>\n",
       "      <td>17</td>\n",
       "      <td>17</td>\n",
       "    </tr>\n",
       "    <tr>\n",
       "      <th>itemInSession_avg_num</th>\n",
       "      <td>80</td>\n",
       "      <td>80</td>\n",
       "      <td>170.138</td>\n",
       "      <td>251.9</td>\n",
       "      <td>154.867</td>\n",
       "      <td>94.2162</td>\n",
       "      <td>94.2162</td>\n",
       "      <td>171.667</td>\n",
       "      <td>171.667</td>\n",
       "      <td>51.8333</td>\n",
       "      <td>...</td>\n",
       "      <td>131.143</td>\n",
       "      <td>61.9048</td>\n",
       "      <td>61.9048</td>\n",
       "      <td>91.3333</td>\n",
       "      <td>81.875</td>\n",
       "      <td>81.875</td>\n",
       "      <td>112.688</td>\n",
       "      <td>112.688</td>\n",
       "      <td>89.9412</td>\n",
       "      <td>89.9412</td>\n",
       "    </tr>\n",
       "    <tr>\n",
       "      <th>songs</th>\n",
       "      <td>387</td>\n",
       "      <td>387</td>\n",
       "      <td>4079</td>\n",
       "      <td>2111</td>\n",
       "      <td>1914</td>\n",
       "      <td>2841</td>\n",
       "      <td>2841</td>\n",
       "      <td>820</td>\n",
       "      <td>820</td>\n",
       "      <td>257</td>\n",
       "      <td>...</td>\n",
       "      <td>755</td>\n",
       "      <td>1002</td>\n",
       "      <td>1002</td>\n",
       "      <td>1129</td>\n",
       "      <td>503</td>\n",
       "      <td>503</td>\n",
       "      <td>1484</td>\n",
       "      <td>1484</td>\n",
       "      <td>1227</td>\n",
       "      <td>1227</td>\n",
       "    </tr>\n",
       "    <tr>\n",
       "      <th>churn</th>\n",
       "      <td>0</td>\n",
       "      <td>0</td>\n",
       "      <td>0</td>\n",
       "      <td>1</td>\n",
       "      <td>0</td>\n",
       "      <td>1</td>\n",
       "      <td>1</td>\n",
       "      <td>0</td>\n",
       "      <td>0</td>\n",
       "      <td>1</td>\n",
       "      <td>...</td>\n",
       "      <td>0</td>\n",
       "      <td>0</td>\n",
       "      <td>0</td>\n",
       "      <td>0</td>\n",
       "      <td>0</td>\n",
       "      <td>0</td>\n",
       "      <td>0</td>\n",
       "      <td>0</td>\n",
       "      <td>1</td>\n",
       "      <td>1</td>\n",
       "    </tr>\n",
       "  </tbody>\n",
       "</table>\n",
       "<p>18 rows × 273 columns</p>\n",
       "</div>"
      ],
      "text/plain": [
       "                            0         1           2          3          4    \\\n",
       "userID                   200002    200002         124         51         15   \n",
       "add_friend                    4         4          74         28         31   \n",
       "add_to_playlist               8         8         118         52         59   \n",
       "Downgrade                     5         5          41         23         28   \n",
       "help                          2         2          23         12          8   \n",
       "Home                         20        20         176         75         93   \n",
       "nextSong                    387       387        4079       2111       1914   \n",
       "thumbs_down                   6         6          41         21         14   \n",
       "thumbs_up                    21        21         171        100         81   \n",
       "artist                      339       339        2232       1385       1302   \n",
       "auth                        474       474        4825       2463       2278   \n",
       "gender                        1         1           0          1          1   \n",
       "level                         0         1           1          1          1   \n",
       "duration               95904000  95904000  1007450000  523414000  475455000   \n",
       "sessionId_num                 6         6          29         10         15   \n",
       "itemInSession_avg_num        80        80     170.138      251.9    154.867   \n",
       "songs                       387       387        4079       2111       1914   \n",
       "churn                         0         0           0          1          0   \n",
       "\n",
       "                             5          6          7          8         9    \\\n",
       "userID                        54         54        155        155    100014   \n",
       "add_friend                    33         33         11         11         6   \n",
       "add_to_playlist               72         72         24         24         7   \n",
       "Downgrade                     39         39         12         12         3   \n",
       "help                          17         17          9          9         2   \n",
       "Home                         129        129         30         30         7   \n",
       "nextSong                    2841       2841        820        820       257   \n",
       "thumbs_down                   29         29          3          3         3   \n",
       "thumbs_up                    163        163         58         58        17   \n",
       "artist                      1744       1744        643        643       233   \n",
       "auth                        3436       3436       1002       1002       309   \n",
       "gender                         0          0          0          0         1   \n",
       "level                          0          1          1          0         1   \n",
       "duration               715483000  715483000  197486000  197486000  66533000   \n",
       "sessionId_num                 37         37          6          6         6   \n",
       "itemInSession_avg_num    94.2162    94.2162    171.667    171.667   51.8333   \n",
       "songs                       2841       2841        820        820       257   \n",
       "churn                          1          1          0          0         1   \n",
       "\n",
       "                         ...            263        264        265        266  \\\n",
       "userID                   ...              2     100018     100018        145   \n",
       "add_friend               ...             20         23         23         34   \n",
       "add_to_playlist          ...             13         31         31         27   \n",
       "Downgrade                ...             13          9          9         12   \n",
       "help                     ...              4          7          7          1   \n",
       "Home                     ...             35         43         43         42   \n",
       "nextSong                 ...            755       1002       1002       1129   \n",
       "thumbs_down              ...              6          9          9          8   \n",
       "thumbs_up                ...             29         46         46         61   \n",
       "artist                   ...            587        780        780        868   \n",
       "auth                     ...            899       1288       1288       1347   \n",
       "gender                   ...              0          1          1          0   \n",
       "level                    ...              1          1          0          1   \n",
       "duration                 ...      186907000  243416000  243416000  284321000   \n",
       "sessionId_num            ...              7         21         21         15   \n",
       "itemInSession_avg_num    ...        131.143    61.9048    61.9048    91.3333   \n",
       "songs                    ...            755       1002       1002       1129   \n",
       "churn                    ...              0          0          0          0   \n",
       "\n",
       "                             267        268        269        270        271  \\\n",
       "userID                        50         50         45         45     200021   \n",
       "add_friend                     9          9         22         22         19   \n",
       "add_to_playlist               12         12         43         43         30   \n",
       "Downgrade                      2          2         18         18         26   \n",
       "help                           7          7          5          5          4   \n",
       "Home                          25         25         65         65         54   \n",
       "nextSong                     503        503       1484       1484       1227   \n",
       "thumbs_down                    3          3         13         13         35   \n",
       "thumbs_up                     27         27         67         67         55   \n",
       "artist                       423        423       1057       1057        908   \n",
       "auth                         651        651       1776       1776       1501   \n",
       "gender                         0          0          0          0          0   \n",
       "level                          0          1          0          1          1   \n",
       "duration               126852000  126852000  364594000  364594000  296928000   \n",
       "sessionId_num                  8          8         16         16         17   \n",
       "itemInSession_avg_num     81.875     81.875    112.688    112.688    89.9412   \n",
       "songs                        503        503       1484       1484       1227   \n",
       "churn                          0          0          0          0          1   \n",
       "\n",
       "                             272  \n",
       "userID                    200021  \n",
       "add_friend                    19  \n",
       "add_to_playlist               30  \n",
       "Downgrade                     26  \n",
       "help                           4  \n",
       "Home                          54  \n",
       "nextSong                    1227  \n",
       "thumbs_down                   35  \n",
       "thumbs_up                     55  \n",
       "artist                       908  \n",
       "auth                        1501  \n",
       "gender                         0  \n",
       "level                          0  \n",
       "duration               296928000  \n",
       "sessionId_num                 17  \n",
       "itemInSession_avg_num    89.9412  \n",
       "songs                       1227  \n",
       "churn                          1  \n",
       "\n",
       "[18 rows x 273 columns]"
      ]
     },
     "execution_count": 77,
     "metadata": {},
     "output_type": "execute_result"
    }
   ],
   "source": [
    "data.toPandas().transpose()"
   ]
  },
  {
   "cell_type": "markdown",
   "metadata": {},
   "source": [
    "### Save data "
   ]
  },
  {
   "cell_type": "code",
   "execution_count": 78,
   "metadata": {},
   "outputs": [],
   "source": [
    "save_path = \"./data\"\n",
    "data.write.save(save_path, format=\"csv\", header=True)"
   ]
  },
  {
   "cell_type": "code",
   "execution_count": null,
   "metadata": {},
   "outputs": [],
   "source": []
  },
  {
   "cell_type": "markdown",
   "metadata": {},
   "source": [
    "### Load saved data"
   ]
  },
  {
   "cell_type": "code",
   "execution_count": 3,
   "metadata": {},
   "outputs": [
    {
     "data": {
      "text/plain": [
       "DataFrame[userID: string, add_friend: string, add_to_playlist: string, Downgrade: string, help: string, Home: string, nextSong: string, thumbs_down: string, thumbs_up: string, artist: string, auth: string, gender: string, level: string, duration: string, sessionId_num: string, itemInSession_avg_num: string, songs: string, churn: string]"
      ]
     },
     "execution_count": 3,
     "metadata": {},
     "output_type": "execute_result"
    }
   ],
   "source": [
    "save_path = \"./data\"\n",
    "data = spark.read.csv(save_path, header=True)\n",
    "data.persist()"
   ]
  },
  {
   "cell_type": "markdown",
   "metadata": {},
   "source": [
    "### Check data"
   ]
  },
  {
   "cell_type": "code",
   "execution_count": 4,
   "metadata": {},
   "outputs": [
    {
     "data": {
      "text/html": [
       "<div>\n",
       "<style scoped>\n",
       "    .dataframe tbody tr th:only-of-type {\n",
       "        vertical-align: middle;\n",
       "    }\n",
       "\n",
       "    .dataframe tbody tr th {\n",
       "        vertical-align: top;\n",
       "    }\n",
       "\n",
       "    .dataframe thead th {\n",
       "        text-align: right;\n",
       "    }\n",
       "</style>\n",
       "<table border=\"1\" class=\"dataframe\">\n",
       "  <thead>\n",
       "    <tr style=\"text-align: right;\">\n",
       "      <th></th>\n",
       "      <th>0</th>\n",
       "      <th>1</th>\n",
       "      <th>2</th>\n",
       "      <th>3</th>\n",
       "      <th>4</th>\n",
       "      <th>5</th>\n",
       "      <th>6</th>\n",
       "      <th>7</th>\n",
       "      <th>8</th>\n",
       "      <th>9</th>\n",
       "      <th>...</th>\n",
       "      <th>263</th>\n",
       "      <th>264</th>\n",
       "      <th>265</th>\n",
       "      <th>266</th>\n",
       "      <th>267</th>\n",
       "      <th>268</th>\n",
       "      <th>269</th>\n",
       "      <th>270</th>\n",
       "      <th>271</th>\n",
       "      <th>272</th>\n",
       "    </tr>\n",
       "  </thead>\n",
       "  <tbody>\n",
       "    <tr>\n",
       "      <th>userID</th>\n",
       "      <td>126</td>\n",
       "      <td>126</td>\n",
       "      <td>131</td>\n",
       "      <td>131</td>\n",
       "      <td>140</td>\n",
       "      <td>140</td>\n",
       "      <td>17</td>\n",
       "      <td>17</td>\n",
       "      <td>128</td>\n",
       "      <td>128</td>\n",
       "      <td>...</td>\n",
       "      <td>300022</td>\n",
       "      <td>300020</td>\n",
       "      <td>2</td>\n",
       "      <td>18</td>\n",
       "      <td>62</td>\n",
       "      <td>100007</td>\n",
       "      <td>75</td>\n",
       "      <td>300007</td>\n",
       "      <td>10</td>\n",
       "      <td>3</td>\n",
       "    </tr>\n",
       "    <tr>\n",
       "      <th>add_friend</th>\n",
       "      <td>33</td>\n",
       "      <td>33</td>\n",
       "      <td>26</td>\n",
       "      <td>26</td>\n",
       "      <td>143</td>\n",
       "      <td>143</td>\n",
       "      <td>12</td>\n",
       "      <td>12</td>\n",
       "      <td>28</td>\n",
       "      <td>28</td>\n",
       "      <td>...</td>\n",
       "      <td>11</td>\n",
       "      <td>8</td>\n",
       "      <td>20</td>\n",
       "      <td>10</td>\n",
       "      <td>34</td>\n",
       "      <td>17</td>\n",
       "      <td>21</td>\n",
       "      <td>4</td>\n",
       "      <td>12</td>\n",
       "      <td>1</td>\n",
       "    </tr>\n",
       "    <tr>\n",
       "      <th>add_to_playlist</th>\n",
       "      <td>72</td>\n",
       "      <td>72</td>\n",
       "      <td>51</td>\n",
       "      <td>51</td>\n",
       "      <td>148</td>\n",
       "      <td>148</td>\n",
       "      <td>30</td>\n",
       "      <td>30</td>\n",
       "      <td>53</td>\n",
       "      <td>53</td>\n",
       "      <td>...</td>\n",
       "      <td>9</td>\n",
       "      <td>10</td>\n",
       "      <td>13</td>\n",
       "      <td>14</td>\n",
       "      <td>39</td>\n",
       "      <td>9</td>\n",
       "      <td>27</td>\n",
       "      <td>4</td>\n",
       "      <td>9</td>\n",
       "      <td>4</td>\n",
       "    </tr>\n",
       "    <tr>\n",
       "      <th>Downgrade</th>\n",
       "      <td>22</td>\n",
       "      <td>22</td>\n",
       "      <td>15</td>\n",
       "      <td>15</td>\n",
       "      <td>50</td>\n",
       "      <td>50</td>\n",
       "      <td>12</td>\n",
       "      <td>12</td>\n",
       "      <td>14</td>\n",
       "      <td>14</td>\n",
       "      <td>...</td>\n",
       "      <td>1</td>\n",
       "      <td>1</td>\n",
       "      <td>13</td>\n",
       "      <td>3</td>\n",
       "      <td>9</td>\n",
       "      <td>7</td>\n",
       "      <td>8</td>\n",
       "      <td>2</td>\n",
       "      <td>7</td>\n",
       "      <td>2</td>\n",
       "    </tr>\n",
       "    <tr>\n",
       "      <th>help</th>\n",
       "      <td>15</td>\n",
       "      <td>15</td>\n",
       "      <td>13</td>\n",
       "      <td>13</td>\n",
       "      <td>34</td>\n",
       "      <td>34</td>\n",
       "      <td>5</td>\n",
       "      <td>5</td>\n",
       "      <td>6</td>\n",
       "      <td>6</td>\n",
       "      <td>...</td>\n",
       "      <td>3</td>\n",
       "      <td>2</td>\n",
       "      <td>4</td>\n",
       "      <td>1</td>\n",
       "      <td>10</td>\n",
       "      <td>3</td>\n",
       "      <td>2</td>\n",
       "      <td>1</td>\n",
       "      <td>1</td>\n",
       "      <td>1</td>\n",
       "    </tr>\n",
       "    <tr>\n",
       "      <th>Home</th>\n",
       "      <td>119</td>\n",
       "      <td>119</td>\n",
       "      <td>54</td>\n",
       "      <td>54</td>\n",
       "      <td>251</td>\n",
       "      <td>251</td>\n",
       "      <td>30</td>\n",
       "      <td>30</td>\n",
       "      <td>78</td>\n",
       "      <td>78</td>\n",
       "      <td>...</td>\n",
       "      <td>15</td>\n",
       "      <td>7</td>\n",
       "      <td>35</td>\n",
       "      <td>19</td>\n",
       "      <td>61</td>\n",
       "      <td>20</td>\n",
       "      <td>22</td>\n",
       "      <td>3</td>\n",
       "      <td>30</td>\n",
       "      <td>8</td>\n",
       "    </tr>\n",
       "    <tr>\n",
       "      <th>nextSong</th>\n",
       "      <td>2577</td>\n",
       "      <td>2577</td>\n",
       "      <td>1564</td>\n",
       "      <td>1564</td>\n",
       "      <td>5664</td>\n",
       "      <td>5664</td>\n",
       "      <td>927</td>\n",
       "      <td>927</td>\n",
       "      <td>1728</td>\n",
       "      <td>1728</td>\n",
       "      <td>...</td>\n",
       "      <td>364</td>\n",
       "      <td>242</td>\n",
       "      <td>755</td>\n",
       "      <td>429</td>\n",
       "      <td>1591</td>\n",
       "      <td>423</td>\n",
       "      <td>812</td>\n",
       "      <td>111</td>\n",
       "      <td>673</td>\n",
       "      <td>214</td>\n",
       "    </tr>\n",
       "    <tr>\n",
       "      <th>thumbs_down</th>\n",
       "      <td>21</td>\n",
       "      <td>21</td>\n",
       "      <td>20</td>\n",
       "      <td>20</td>\n",
       "      <td>75</td>\n",
       "      <td>75</td>\n",
       "      <td>13</td>\n",
       "      <td>13</td>\n",
       "      <td>18</td>\n",
       "      <td>18</td>\n",
       "      <td>...</td>\n",
       "      <td>5</td>\n",
       "      <td>1</td>\n",
       "      <td>6</td>\n",
       "      <td>1</td>\n",
       "      <td>21</td>\n",
       "      <td>6</td>\n",
       "      <td>4</td>\n",
       "      <td>1</td>\n",
       "      <td>4</td>\n",
       "      <td>3</td>\n",
       "    </tr>\n",
       "    <tr>\n",
       "      <th>thumbs_up</th>\n",
       "      <td>135</td>\n",
       "      <td>135</td>\n",
       "      <td>72</td>\n",
       "      <td>72</td>\n",
       "      <td>277</td>\n",
       "      <td>277</td>\n",
       "      <td>40</td>\n",
       "      <td>40</td>\n",
       "      <td>87</td>\n",
       "      <td>87</td>\n",
       "      <td>...</td>\n",
       "      <td>25</td>\n",
       "      <td>18</td>\n",
       "      <td>29</td>\n",
       "      <td>20</td>\n",
       "      <td>77</td>\n",
       "      <td>19</td>\n",
       "      <td>48</td>\n",
       "      <td>11</td>\n",
       "      <td>37</td>\n",
       "      <td>14</td>\n",
       "    </tr>\n",
       "    <tr>\n",
       "      <th>artist</th>\n",
       "      <td>1643</td>\n",
       "      <td>1643</td>\n",
       "      <td>1100</td>\n",
       "      <td>1100</td>\n",
       "      <td>2819</td>\n",
       "      <td>2819</td>\n",
       "      <td>741</td>\n",
       "      <td>741</td>\n",
       "      <td>1163</td>\n",
       "      <td>1163</td>\n",
       "      <td>...</td>\n",
       "      <td>328</td>\n",
       "      <td>220</td>\n",
       "      <td>587</td>\n",
       "      <td>374</td>\n",
       "      <td>1101</td>\n",
       "      <td>357</td>\n",
       "      <td>646</td>\n",
       "      <td>107</td>\n",
       "      <td>565</td>\n",
       "      <td>197</td>\n",
       "    </tr>\n",
       "    <tr>\n",
       "      <th>auth</th>\n",
       "      <td>3102</td>\n",
       "      <td>3102</td>\n",
       "      <td>1863</td>\n",
       "      <td>1863</td>\n",
       "      <td>6880</td>\n",
       "      <td>6880</td>\n",
       "      <td>1101</td>\n",
       "      <td>1101</td>\n",
       "      <td>2067</td>\n",
       "      <td>2067</td>\n",
       "      <td>...</td>\n",
       "      <td>446</td>\n",
       "      <td>296</td>\n",
       "      <td>899</td>\n",
       "      <td>512</td>\n",
       "      <td>1883</td>\n",
       "      <td>519</td>\n",
       "      <td>957</td>\n",
       "      <td>142</td>\n",
       "      <td>795</td>\n",
       "      <td>253</td>\n",
       "    </tr>\n",
       "    <tr>\n",
       "      <th>gender</th>\n",
       "      <td>1</td>\n",
       "      <td>1</td>\n",
       "      <td>1</td>\n",
       "      <td>1</td>\n",
       "      <td>0</td>\n",
       "      <td>0</td>\n",
       "      <td>0</td>\n",
       "      <td>0</td>\n",
       "      <td>1</td>\n",
       "      <td>1</td>\n",
       "      <td>...</td>\n",
       "      <td>1</td>\n",
       "      <td>0</td>\n",
       "      <td>0</td>\n",
       "      <td>1</td>\n",
       "      <td>1</td>\n",
       "      <td>0</td>\n",
       "      <td>0</td>\n",
       "      <td>1</td>\n",
       "      <td>1</td>\n",
       "      <td>1</td>\n",
       "    </tr>\n",
       "    <tr>\n",
       "      <th>level</th>\n",
       "      <td>1</td>\n",
       "      <td>0</td>\n",
       "      <td>0</td>\n",
       "      <td>1</td>\n",
       "      <td>0</td>\n",
       "      <td>1</td>\n",
       "      <td>1</td>\n",
       "      <td>0</td>\n",
       "      <td>1</td>\n",
       "      <td>0</td>\n",
       "      <td>...</td>\n",
       "      <td>1</td>\n",
       "      <td>1</td>\n",
       "      <td>1</td>\n",
       "      <td>1</td>\n",
       "      <td>1</td>\n",
       "      <td>1</td>\n",
       "      <td>1</td>\n",
       "      <td>1</td>\n",
       "      <td>1</td>\n",
       "      <td>1</td>\n",
       "    </tr>\n",
       "    <tr>\n",
       "      <th>duration</th>\n",
       "      <td>643509000</td>\n",
       "      <td>643509000</td>\n",
       "      <td>387856000</td>\n",
       "      <td>387856000</td>\n",
       "      <td>1397558000</td>\n",
       "      <td>1397558000</td>\n",
       "      <td>252525000</td>\n",
       "      <td>252525000</td>\n",
       "      <td>424958000</td>\n",
       "      <td>424958000</td>\n",
       "      <td>...</td>\n",
       "      <td>88922000</td>\n",
       "      <td>59515000</td>\n",
       "      <td>186907000</td>\n",
       "      <td>107908000</td>\n",
       "      <td>392111000</td>\n",
       "      <td>102282000</td>\n",
       "      <td>199848000</td>\n",
       "      <td>27842000</td>\n",
       "      <td>165509000</td>\n",
       "      <td>59382000</td>\n",
       "    </tr>\n",
       "    <tr>\n",
       "      <th>sessionId_num</th>\n",
       "      <td>30</td>\n",
       "      <td>30</td>\n",
       "      <td>19</td>\n",
       "      <td>19</td>\n",
       "      <td>71</td>\n",
       "      <td>71</td>\n",
       "      <td>7</td>\n",
       "      <td>7</td>\n",
       "      <td>17</td>\n",
       "      <td>17</td>\n",
       "      <td>...</td>\n",
       "      <td>11</td>\n",
       "      <td>3</td>\n",
       "      <td>7</td>\n",
       "      <td>6</td>\n",
       "      <td>8</td>\n",
       "      <td>9</td>\n",
       "      <td>8</td>\n",
       "      <td>1</td>\n",
       "      <td>6</td>\n",
       "      <td>4</td>\n",
       "    </tr>\n",
       "    <tr>\n",
       "      <th>itemInSession_avg_num</th>\n",
       "      <td>105.36666666666666</td>\n",
       "      <td>105.36666666666666</td>\n",
       "      <td>99.15789473684211</td>\n",
       "      <td>99.15789473684211</td>\n",
       "      <td>98.92957746478874</td>\n",
       "      <td>98.92957746478874</td>\n",
       "      <td>161.85714285714286</td>\n",
       "      <td>161.85714285714286</td>\n",
       "      <td>123.6470588235294</td>\n",
       "      <td>123.6470588235294</td>\n",
       "      <td>...</td>\n",
       "      <td>40.45454545454545</td>\n",
       "      <td>100.33333333333333</td>\n",
       "      <td>131.14285714285714</td>\n",
       "      <td>87.33333333333333</td>\n",
       "      <td>240.0</td>\n",
       "      <td>58.0</td>\n",
       "      <td>120.125</td>\n",
       "      <td>142.0</td>\n",
       "      <td>135.5</td>\n",
       "      <td>64.5</td>\n",
       "    </tr>\n",
       "    <tr>\n",
       "      <th>songs</th>\n",
       "      <td>2577</td>\n",
       "      <td>2577</td>\n",
       "      <td>1564</td>\n",
       "      <td>1564</td>\n",
       "      <td>5664</td>\n",
       "      <td>5664</td>\n",
       "      <td>927</td>\n",
       "      <td>927</td>\n",
       "      <td>1728</td>\n",
       "      <td>1728</td>\n",
       "      <td>...</td>\n",
       "      <td>364</td>\n",
       "      <td>242</td>\n",
       "      <td>755</td>\n",
       "      <td>429</td>\n",
       "      <td>1591</td>\n",
       "      <td>423</td>\n",
       "      <td>812</td>\n",
       "      <td>111</td>\n",
       "      <td>673</td>\n",
       "      <td>214</td>\n",
       "    </tr>\n",
       "    <tr>\n",
       "      <th>churn</th>\n",
       "      <td>0</td>\n",
       "      <td>0</td>\n",
       "      <td>0</td>\n",
       "      <td>0</td>\n",
       "      <td>0</td>\n",
       "      <td>0</td>\n",
       "      <td>1</td>\n",
       "      <td>1</td>\n",
       "      <td>0</td>\n",
       "      <td>0</td>\n",
       "      <td>...</td>\n",
       "      <td>0</td>\n",
       "      <td>0</td>\n",
       "      <td>0</td>\n",
       "      <td>1</td>\n",
       "      <td>0</td>\n",
       "      <td>1</td>\n",
       "      <td>0</td>\n",
       "      <td>1</td>\n",
       "      <td>0</td>\n",
       "      <td>1</td>\n",
       "    </tr>\n",
       "  </tbody>\n",
       "</table>\n",
       "<p>18 rows × 273 columns</p>\n",
       "</div>"
      ],
      "text/plain": [
       "                                      0                   1    \\\n",
       "userID                                126                 126   \n",
       "add_friend                             33                  33   \n",
       "add_to_playlist                        72                  72   \n",
       "Downgrade                              22                  22   \n",
       "help                                   15                  15   \n",
       "Home                                  119                 119   \n",
       "nextSong                             2577                2577   \n",
       "thumbs_down                            21                  21   \n",
       "thumbs_up                             135                 135   \n",
       "artist                               1643                1643   \n",
       "auth                                 3102                3102   \n",
       "gender                                  1                   1   \n",
       "level                                   1                   0   \n",
       "duration                        643509000           643509000   \n",
       "sessionId_num                          30                  30   \n",
       "itemInSession_avg_num  105.36666666666666  105.36666666666666   \n",
       "songs                                2577                2577   \n",
       "churn                                   0                   0   \n",
       "\n",
       "                                     2                  3    \\\n",
       "userID                               131                131   \n",
       "add_friend                            26                 26   \n",
       "add_to_playlist                       51                 51   \n",
       "Downgrade                             15                 15   \n",
       "help                                  13                 13   \n",
       "Home                                  54                 54   \n",
       "nextSong                            1564               1564   \n",
       "thumbs_down                           20                 20   \n",
       "thumbs_up                             72                 72   \n",
       "artist                              1100               1100   \n",
       "auth                                1863               1863   \n",
       "gender                                 1                  1   \n",
       "level                                  0                  1   \n",
       "duration                       387856000          387856000   \n",
       "sessionId_num                         19                 19   \n",
       "itemInSession_avg_num  99.15789473684211  99.15789473684211   \n",
       "songs                               1564               1564   \n",
       "churn                                  0                  0   \n",
       "\n",
       "                                     4                  5    \\\n",
       "userID                               140                140   \n",
       "add_friend                           143                143   \n",
       "add_to_playlist                      148                148   \n",
       "Downgrade                             50                 50   \n",
       "help                                  34                 34   \n",
       "Home                                 251                251   \n",
       "nextSong                            5664               5664   \n",
       "thumbs_down                           75                 75   \n",
       "thumbs_up                            277                277   \n",
       "artist                              2819               2819   \n",
       "auth                                6880               6880   \n",
       "gender                                 0                  0   \n",
       "level                                  0                  1   \n",
       "duration                      1397558000         1397558000   \n",
       "sessionId_num                         71                 71   \n",
       "itemInSession_avg_num  98.92957746478874  98.92957746478874   \n",
       "songs                               5664               5664   \n",
       "churn                                  0                  0   \n",
       "\n",
       "                                      6                   7    \\\n",
       "userID                                 17                  17   \n",
       "add_friend                             12                  12   \n",
       "add_to_playlist                        30                  30   \n",
       "Downgrade                              12                  12   \n",
       "help                                    5                   5   \n",
       "Home                                   30                  30   \n",
       "nextSong                              927                 927   \n",
       "thumbs_down                            13                  13   \n",
       "thumbs_up                              40                  40   \n",
       "artist                                741                 741   \n",
       "auth                                 1101                1101   \n",
       "gender                                  0                   0   \n",
       "level                                   1                   0   \n",
       "duration                        252525000           252525000   \n",
       "sessionId_num                           7                   7   \n",
       "itemInSession_avg_num  161.85714285714286  161.85714285714286   \n",
       "songs                                 927                 927   \n",
       "churn                                   1                   1   \n",
       "\n",
       "                                     8                  9      ...     \\\n",
       "userID                               128                128    ...      \n",
       "add_friend                            28                 28    ...      \n",
       "add_to_playlist                       53                 53    ...      \n",
       "Downgrade                             14                 14    ...      \n",
       "help                                   6                  6    ...      \n",
       "Home                                  78                 78    ...      \n",
       "nextSong                            1728               1728    ...      \n",
       "thumbs_down                           18                 18    ...      \n",
       "thumbs_up                             87                 87    ...      \n",
       "artist                              1163               1163    ...      \n",
       "auth                                2067               2067    ...      \n",
       "gender                                 1                  1    ...      \n",
       "level                                  1                  0    ...      \n",
       "duration                       424958000          424958000    ...      \n",
       "sessionId_num                         17                 17    ...      \n",
       "itemInSession_avg_num  123.6470588235294  123.6470588235294    ...      \n",
       "songs                               1728               1728    ...      \n",
       "churn                                  0                  0    ...      \n",
       "\n",
       "                                     263                 264  \\\n",
       "userID                            300022              300020   \n",
       "add_friend                            11                   8   \n",
       "add_to_playlist                        9                  10   \n",
       "Downgrade                              1                   1   \n",
       "help                                   3                   2   \n",
       "Home                                  15                   7   \n",
       "nextSong                             364                 242   \n",
       "thumbs_down                            5                   1   \n",
       "thumbs_up                             25                  18   \n",
       "artist                               328                 220   \n",
       "auth                                 446                 296   \n",
       "gender                                 1                   0   \n",
       "level                                  1                   1   \n",
       "duration                        88922000            59515000   \n",
       "sessionId_num                         11                   3   \n",
       "itemInSession_avg_num  40.45454545454545  100.33333333333333   \n",
       "songs                                364                 242   \n",
       "churn                                  0                   0   \n",
       "\n",
       "                                      265                266        267  \\\n",
       "userID                                  2                 18         62   \n",
       "add_friend                             20                 10         34   \n",
       "add_to_playlist                        13                 14         39   \n",
       "Downgrade                              13                  3          9   \n",
       "help                                    4                  1         10   \n",
       "Home                                   35                 19         61   \n",
       "nextSong                              755                429       1591   \n",
       "thumbs_down                             6                  1         21   \n",
       "thumbs_up                              29                 20         77   \n",
       "artist                                587                374       1101   \n",
       "auth                                  899                512       1883   \n",
       "gender                                  0                  1          1   \n",
       "level                                   1                  1          1   \n",
       "duration                        186907000          107908000  392111000   \n",
       "sessionId_num                           7                  6          8   \n",
       "itemInSession_avg_num  131.14285714285714  87.33333333333333      240.0   \n",
       "songs                                 755                429       1591   \n",
       "churn                                   0                  1          0   \n",
       "\n",
       "                             268        269       270        271       272  \n",
       "userID                    100007         75    300007         10         3  \n",
       "add_friend                    17         21         4         12         1  \n",
       "add_to_playlist                9         27         4          9         4  \n",
       "Downgrade                      7          8         2          7         2  \n",
       "help                           3          2         1          1         1  \n",
       "Home                          20         22         3         30         8  \n",
       "nextSong                     423        812       111        673       214  \n",
       "thumbs_down                    6          4         1          4         3  \n",
       "thumbs_up                     19         48        11         37        14  \n",
       "artist                       357        646       107        565       197  \n",
       "auth                         519        957       142        795       253  \n",
       "gender                         0          0         1          1         1  \n",
       "level                          1          1         1          1         1  \n",
       "duration               102282000  199848000  27842000  165509000  59382000  \n",
       "sessionId_num                  9          8         1          6         4  \n",
       "itemInSession_avg_num       58.0    120.125     142.0      135.5      64.5  \n",
       "songs                        423        812       111        673       214  \n",
       "churn                          1          0         1          0         1  \n",
       "\n",
       "[18 rows x 273 columns]"
      ]
     },
     "execution_count": 4,
     "metadata": {},
     "output_type": "execute_result"
    }
   ],
   "source": [
    "data.toPandas().transpose()"
   ]
  },
  {
   "cell_type": "code",
   "execution_count": 5,
   "metadata": {},
   "outputs": [],
   "source": [
    "# drop not in place !!!\n",
    "# new_data = data.drop('userID')\n",
    "# print(len(new_data.columns), ',',len(data.columns))\n",
    "\n",
    "# # 17 , 18"
   ]
  },
  {
   "cell_type": "code",
   "execution_count": 6,
   "metadata": {},
   "outputs": [
    {
     "data": {
      "text/plain": [
       "[('userID', 'string'),\n",
       " ('add_friend', 'float'),\n",
       " ('add_to_playlist', 'float'),\n",
       " ('Downgrade', 'float'),\n",
       " ('help', 'float'),\n",
       " ('Home', 'float'),\n",
       " ('nextSong', 'float'),\n",
       " ('thumbs_down', 'float'),\n",
       " ('thumbs_up', 'float'),\n",
       " ('artist', 'float'),\n",
       " ('auth', 'float'),\n",
       " ('gender', 'float'),\n",
       " ('level', 'float'),\n",
       " ('duration', 'float'),\n",
       " ('sessionId_num', 'float'),\n",
       " ('itemInSession_avg_num', 'float'),\n",
       " ('songs', 'float'),\n",
       " ('churn', 'float')]"
      ]
     },
     "execution_count": 6,
     "metadata": {},
     "output_type": "execute_result"
    }
   ],
   "source": [
    "# to float\n",
    "col_names = data.drop('userId').columns\n",
    "for cn in col_names:\n",
    "    dummy_cn = cn + \"_\"\n",
    "    data = data.withColumn(dummy_cn, data[cn].cast(\"float\")).drop(cn)\n",
    "    data = data.withColumnRenamed(dummy_cn, cn)\n",
    "    \n",
    "data.dtypes"
   ]
  },
  {
   "cell_type": "code",
   "execution_count": 7,
   "metadata": {},
   "outputs": [],
   "source": [
    "features = data.drop('churn').drop('userID')"
   ]
  },
  {
   "cell_type": "markdown",
   "metadata": {},
   "source": [
    "### Check feature correlation"
   ]
  },
  {
   "cell_type": "code",
   "execution_count": 8,
   "metadata": {},
   "outputs": [
    {
     "data": {
      "text/plain": [
       "<matplotlib.axes._subplots.AxesSubplot at 0x7ff2a0a95a90>"
      ]
     },
     "execution_count": 8,
     "metadata": {},
     "output_type": "execute_result"
    },
    {
     "data": {
      "image/png": "[encoded data removed]",
      "text/plain": [
       "<matplotlib.figure.Figure at 0x7ff2a0afdeb8>"
      ]
     },
     "metadata": {
      "needs_background": "light"
     },
     "output_type": "display_data"
    }
   ],
   "source": [
    "import matplotlib.pyplot as plt\n",
    "plt.figure(figsize=(20, 16))\n",
    "plt.title('Feature Correlation', y=1.01, size=20)\n",
    "sns.heatmap(features.toPandas().corr(), linewidths=0.1, annot=True)"
   ]
  },
  {
   "cell_type": "code",
   "execution_count": 9,
   "metadata": {},
   "outputs": [],
   "source": [
    "# Train-test split\n",
    "train, test = data.drop('userID').randomSplit([0.8, 0.2], seed=42)"
   ]
  },
  {
   "cell_type": "code",
   "execution_count": 10,
   "metadata": {},
   "outputs": [],
   "source": [
    "# Note that churn column is included in train and test!!!"
   ]
  },
  {
   "cell_type": "markdown",
   "metadata": {},
   "source": [
    "# Modeling\n",
    "Split the full dataset into train, test, and validation sets. Test out several of the machine learning methods you learned. Evaluate the accuracy of the various models, tuning parameters as necessary. Determine your winning model based on test accuracy and report results on the validation set. Since the churned users are a fairly small subset, I suggest using F1 score as the metric to optimize."
   ]
  },
  {
   "cell_type": "markdown",
   "metadata": {},
   "source": [
    "### Base model"
   ]
  },
  {
   "cell_type": "code",
   "execution_count": 11,
   "metadata": {},
   "outputs": [
    {
     "name": "stdout",
     "output_type": "stream",
     "text": [
      "+---------+------+------+--------+\n",
      "|precision|recall|    f1|accuracy|\n",
      "+---------+------+------+--------+\n",
      "|   0.5974|0.7729|0.6739|  0.7729|\n",
      "+---------+------+------+--------+\n",
      "\n"
     ]
    }
   ],
   "source": [
    "churn_prediction = data.select(\"churn\").withColumn(\"prediction\", lit(0.0))\n",
    "evaluator = MulticlassClassificationEvaluator(predictionCol=\"prediction\", labelCol=\"churn\")\n",
    "evalMetrics = {}\n",
    "evalMetrics[\"precision\"] = evaluator.evaluate(churn_prediction, {evaluator.metricName: \"weightedPrecision\"})\n",
    "evalMetrics[\"recall\"] = evaluator.evaluate(churn_prediction, {evaluator.metricName: \"weightedRecall\"})\n",
    "evalMetrics[\"f1\"] = evaluator.evaluate(churn_prediction, {evaluator.metricName: \"f1\"})\n",
    "evalMetrics[\"accuracy\"] = evaluator.evaluate(churn_prediction, {evaluator.metricName: \"accuracy\"})\n",
    "metrics_to_display = {k:round(v, 4) for k,v in evalMetrics.items()}\n",
    "spark.createDataFrame(pd.DataFrame([metrics_to_display], columns=metrics_to_display.keys())).show()"
   ]
  },
  {
   "cell_type": "markdown",
   "metadata": {},
   "source": [
    "### Models"
   ]
  },
  {
   "cell_type": "code",
   "execution_count": 12,
   "metadata": {},
   "outputs": [],
   "source": [
    "# create VectorAssembler to push data to ML models\n",
    "features = features.columns\n",
    "assembler = VectorAssembler(inputCols=features, outputCol=\"inputFeatures\")\n",
    "\n",
    "# normalize data\n",
    "scaler = Normalizer(inputCol=\"inputFeatures\", outputCol=\"ScaledFeatures\");\n",
    "\n",
    "model_lr = LogisticRegression(featuresCol=\"ScaledFeatures\", labelCol=\"churn\")\n",
    "model_rf = RandomForestClassifier(featuresCol=\"ScaledFeatures\", labelCol=\"churn\", seed=42)\n",
    "model_gbt = GBTClassifier(featuresCol=\"ScaledFeatures\", labelCol=\"churn\", seed=42)\n",
    "\n",
    "# create pipeline\n",
    "pipeline_lr = Pipeline(stages=[assembler, scaler, model_lr])\n",
    "pipeline_rf = Pipeline(stages=[assembler, scaler, model_rf])\n",
    "pipeline_gbt = Pipeline(stages=[assembler, scaler, model_gbt])\n",
    "\n",
    "# fit models\n",
    "# inputCols=features in train, labelCol=\"churn\" in train !!!\n",
    "model_lr_fitted = pipeline_lr.fit(train)\n",
    "model_rf_fitted = pipeline_rf.fit(train)\n",
    "model_gbt_fitted = pipeline_gbt.fit(train)"
   ]
  },
  {
   "cell_type": "code",
   "execution_count": 13,
   "metadata": {},
   "outputs": [],
   "source": [
    "### Whether to drop churn column doesn't affect prediction!!!\n",
    "# results1 = model_gbt_fitted.transform(test)\n",
    "# results2 = model_gbt_fitted.transform(test.drop(\"churn\"))\n",
    "# prediction1 = results1.toPandas()[\"prediction\"]\n",
    "# prediction2 = results2.toPandas()[\"prediction\"]\n",
    "# for i, val in enumerate(prediction1.values):\n",
    "#     if val != prediction2.values[i]:\n",
    "#         print(i)"
   ]
  },
  {
   "cell_type": "markdown",
   "metadata": {},
   "source": [
    "### Model performance"
   ]
  },
  {
   "cell_type": "code",
   "execution_count": 14,
   "metadata": {},
   "outputs": [],
   "source": [
    "def model_performance_report(model, model_name):\n",
    "    print(model_name)\n",
    "    for i, data in enumerate([train, test]):\n",
    "        if i == 0: print('train dataset:')\n",
    "        else: print('test dataset:')\n",
    "        result_df = model.transform(data) # will append a few resulting columns including a \"prediction\" column\n",
    "        # print(result_df.toPandas().head())\n",
    "        evaluator = MulticlassClassificationEvaluator(predictionCol=\"prediction\", labelCol=\"churn\")\n",
    "        evalMetrics = {}\n",
    "        evalMetrics[\"precision\"] = evaluator.evaluate(result_df, {evaluator.metricName: \"weightedPrecision\"})\n",
    "        evalMetrics[\"recall\"] = evaluator.evaluate(result_df, {evaluator.metricName: \"weightedRecall\"})\n",
    "        evalMetrics[\"f1\"] = evaluator.evaluate(result_df, {evaluator.metricName: \"f1\"})\n",
    "        evalMetrics[\"accuracy\"] = evaluator.evaluate(result_df, {evaluator.metricName: \"accuracy\"})\n",
    "        metrics_to_display = {k:round(v, 4) for k,v in evalMetrics.items()}\n",
    "        spark.createDataFrame(pd.DataFrame([metrics_to_display], columns=metrics_to_display.keys())).show()\n",
    "    print('.................................................')"
   ]
  },
  {
   "cell_type": "code",
   "execution_count": 15,
   "metadata": {},
   "outputs": [
    {
     "name": "stdout",
     "output_type": "stream",
     "text": [
      "LogisticRegression\n",
      "train dataset:\n",
      "+---------+------+-----+--------+\n",
      "|precision|recall|   f1|accuracy|\n",
      "+---------+------+-----+--------+\n",
      "|   0.6168|0.7854|0.691|  0.7854|\n",
      "+---------+------+-----+--------+\n",
      "\n",
      "test dataset:\n",
      "+---------+------+------+--------+\n",
      "|precision|recall|    f1|accuracy|\n",
      "+---------+------+------+--------+\n",
      "|   0.5216|0.7222|0.6057|  0.7222|\n",
      "+---------+------+------+--------+\n",
      "\n",
      ".................................................\n",
      "RandomForestClassifier\n",
      "train dataset:\n",
      "+---------+------+-----+--------+\n",
      "|precision|recall|   f1|accuracy|\n",
      "+---------+------+-----+--------+\n",
      "|   0.9448|0.9406|0.937|  0.9406|\n",
      "+---------+------+-----+--------+\n",
      "\n",
      "test dataset:\n",
      "+---------+------+------+--------+\n",
      "|precision|recall|    f1|accuracy|\n",
      "+---------+------+------+--------+\n",
      "|   0.8771|0.8519|0.8318|  0.8519|\n",
      "+---------+------+------+--------+\n",
      "\n",
      ".................................................\n",
      "GBTClassifier\n",
      "train dataset:\n",
      "+---------+------+---+--------+\n",
      "|precision|recall| f1|accuracy|\n",
      "+---------+------+---+--------+\n",
      "|      1.0|   1.0|1.0|     1.0|\n",
      "+---------+------+---+--------+\n",
      "\n",
      "test dataset:\n",
      "+---------+------+-----+--------+\n",
      "|precision|recall|   f1|accuracy|\n",
      "+---------+------+-----+--------+\n",
      "|   0.9463|0.9444|0.945|  0.9444|\n",
      "+---------+------+-----+--------+\n",
      "\n",
      ".................................................\n"
     ]
    }
   ],
   "source": [
    "model_performance_report(model_lr_fitted, 'LogisticRegression')\n",
    "model_performance_report(model_rf_fitted, 'RandomForestClassifier')\n",
    "model_performance_report(model_gbt_fitted, 'GBTClassifier')"
   ]
  },
  {
   "cell_type": "code",
   "execution_count": 16,
   "metadata": {},
   "outputs": [
    {
     "data": {
      "image/png": "[encoded data removed]",
      "text/plain": [
       "<matplotlib.figure.Figure at 0x7ff2a003e9b0>"
      ]
     },
     "metadata": {
      "needs_background": "light"
     },
     "output_type": "display_data"
    }
   ],
   "source": [
    "N = 3\n",
    "fig, ax = plt.subplots(figsize=(12, 8))\n",
    "ind = np.arange(N)  # the x locations for the groups\n",
    "width = 0.17      # the width of the bars\n",
    "\n",
    "A0 = (0.60, 0.77, 0.67)\n",
    "rects0 = ax.bar(ind, A0, width, color='c')\n",
    "\n",
    "A1 = (0.52, 0.72, 0.61)\n",
    "rects1 = ax.bar(ind + width, A1, width, color='g')\n",
    "\n",
    "A2 = (0.88, 0.85, 0.83)\n",
    "rects2 = ax.bar(ind + 2*width, A2, width, color='b')\n",
    "\n",
    "A3 = (0.95, 0.94, 0.95)\n",
    "rects3 = ax.bar(ind + 3*width, A3, width, color='r')\n",
    "\n",
    "\n",
    "\n",
    "\n",
    "ax.set_ylabel('Score')\n",
    "ax.set_xticks(ind + 1.5*width)\n",
    "ax.set_xticklabels(('Precision','Recall','F-1'), size=20)\n",
    "\n",
    "ax.legend((rects0[0], rects1[0], rects2[0], rects3[0]), ('BaseModel','LogisticRegression', 'RandomForestClassifier', \n",
    "                                              'GBTClassifier'),prop={'size':18})\n",
    "\n",
    "def autolabel(rects):\n",
    "    for rect in rects:\n",
    "        height = rect.get_height()\n",
    "        ax.annotate('{}'.format(height),\n",
    "                    xy=(rect.get_x() + rect.get_width() / 2, height),\n",
    "                    xytext=(0, 3),  # 3 points vertical offset\n",
    "                    textcoords=\"offset points\",\n",
    "                    ha='center', va='bottom', size=16)\n",
    "\n",
    "autolabel(rects0)\n",
    "autolabel(rects1)\n",
    "autolabel(rects2)\n",
    "autolabel(rects3)\n",
    "\n",
    "ax.set_ylabel(ax.get_ylabel(), fontsize=25)\n",
    "ax.get_yaxis().set_ticks([])\n",
    "x0, x1, y0, y1 = plt.axis()\n",
    "plt.axis((x0, x1, y0, y1+0.5))\n",
    "fig.tight_layout()\n",
    "plt.show()\n",
    "fig.savefig(\"./imgs/score.jpg\")"
   ]
  },
  {
   "cell_type": "markdown",
   "metadata": {},
   "source": [
    "### Hyperparameter tuning for the best model"
   ]
  },
  {
   "cell_type": "code",
   "execution_count": 18,
   "metadata": {},
   "outputs": [],
   "source": [
    "gbtc = GBTClassifier(featuresCol=\"scaledFeatures\", labelCol=\"churn\")\n",
    "paramGrid = ParamGridBuilder() \\\n",
    "            .addGrid(gbtc.maxDepth,[20,30]) \\\n",
    "            .addGrid(gbtc.maxBins,[20,30]) \\\n",
    "            .addGrid(gbtc.maxIter,[10,20]) \\\n",
    "            .build()\n",
    "\n",
    "cv = CrossValidator(estimator=pipeline_gbt, estimatorParamMaps=paramGrid,\n",
    "                    evaluator=MulticlassClassificationEvaluator(predictionCol=\"prediction\", labelCol=\"churn\",\n",
    "                                                                metricName='f1'), numFolds=2)\n",
    "\n",
    "cv_model = cv.fit(train)"
   ]
  },
  {
   "cell_type": "code",
   "execution_count": 19,
   "metadata": {},
   "outputs": [
    {
     "name": "stdout",
     "output_type": "stream",
     "text": [
      "GBTClassifier\n",
      "train dataset:\n",
      "+---------+------+---+--------+\n",
      "|precision|recall| f1|accuracy|\n",
      "+---------+------+---+--------+\n",
      "|      1.0|   1.0|1.0|     1.0|\n",
      "+---------+------+---+--------+\n",
      "\n",
      "test dataset:\n",
      "+---------+------+-----+--------+\n",
      "|precision|recall|   f1|accuracy|\n",
      "+---------+------+-----+--------+\n",
      "|   0.9463|0.9444|0.945|  0.9444|\n",
      "+---------+------+-----+--------+\n",
      "\n",
      ".................................................\n"
     ]
    }
   ],
   "source": [
    "model_performance_report(cv_model, 'GBTClassifier')"
   ]
  },
  {
   "cell_type": "markdown",
   "metadata": {},
   "source": [
    "### Feature importance of the best model"
   ]
  },
  {
   "cell_type": "code",
   "execution_count": 20,
   "metadata": {},
   "outputs": [
    {
     "data": {
      "image/png": "[encoded data removed]",
      "text/plain": [
       "<matplotlib.figure.Figure at 0x7ff299d38828>"
      ]
     },
     "metadata": {
      "needs_background": "light"
     },
     "output_type": "display_data"
    }
   ],
   "source": [
    "best_model = cv_model.bestModel.stages[2] # i.e., Pipeline[2]\n",
    "best_model.write().overwrite().save(\"./gbt\")\n",
    "feature_ind = best_model.featureImportances.indices.tolist()\n",
    "feature_name = [features[ind] for ind in feature_ind]\n",
    "feature_coef = best_model.featureImportances.values.tolist()\n",
    "feature_coef_df = pd.DataFrame(list(zip(feature_name, feature_coef)), \n",
    "                               columns=['Feature', 'Coefficient']).sort_values('Coefficient', ascending=False)\n",
    "\n",
    "#sns.barplot(x='Coefficient', y='Feature', data=feature_coef_df.iloc[:len(features)])\n",
    "fig, ax = plt.subplots(figsize=(12, 8))\n",
    "ax = sns.barplot(x='Coefficient', y='Feature', data=feature_coef_df.iloc[:len(features)+1], ax=ax)\n",
    "ax.set_xlabel(ax.get_xlabel(), fontsize=30)\n",
    "ax.set_ylabel(ax.get_ylabel(), fontsize=30)\n",
    "ax.tick_params(labelsize=18)\n",
    "plt.tight_layout()\n",
    "ax.get_figure().savefig(f'./imgs/feature_importance.png')"
   ]
  },
  {
   "cell_type": "markdown",
   "metadata": {},
   "source": [
    "# Final Steps\n",
    "Clean up your code, adding comments and renaming variables to make the code easier to read and maintain. Refer to the Spark Project Overview page and Data Scientist Capstone Project Rubric to make sure you are including all components of the capstone project and meet all expectations. Remember, this includes thorough documentation in a README file in a Github repository, as well as a web app or blog post."
   ]
  },
  {
   "cell_type": "code",
   "execution_count": null,
   "metadata": {},
   "outputs": [],
   "source": []
  }
 ],
 "metadata": {
  "kernelspec": {
   "display_name": "Python 3",
   "language": "python",
   "name": "python3"
  },
  "language_info": {
   "codemirror_mode": {
    "name": "ipython",
    "version": 3
   },
   "file_extension": ".py",
   "mimetype": "text/x-python",
   "name": "python",
   "nbconvert_exporter": "python",
   "pygments_lexer": "ipython3",
   "version": "3.7.4"
  }
 },
 "nbformat": 4,
 "nbformat_minor": 2
}
